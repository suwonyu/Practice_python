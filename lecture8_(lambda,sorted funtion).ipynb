{
 "cells": [
  {
   "cell_type": "code",
   "execution_count": null,
   "metadata": {},
   "outputs": [],
   "source": [
    "[문제90] 오늘부터 이번달 말일까지 몇일 남았는지 출력하세요."
   ]
  },
  {
   "cell_type": "code",
   "execution_count": 2,
   "metadata": {},
   "outputs": [],
   "source": [
    "import datetime"
   ]
  },
  {
   "cell_type": "code",
   "execution_count": 4,
   "metadata": {},
   "outputs": [
    {
     "data": {
      "text/plain": [
       "datetime.date(2019, 5, 21)"
      ]
     },
     "execution_count": 4,
     "metadata": {},
     "output_type": "execute_result"
    }
   ],
   "source": [
    "now = datetime.date.today()\n",
    "now"
   ]
  },
  {
   "cell_type": "code",
   "execution_count": 6,
   "metadata": {},
   "outputs": [
    {
     "data": {
      "text/plain": [
       "datetime.date(2019, 5, 31)"
      ]
     },
     "execution_count": 6,
     "metadata": {},
     "output_type": "execute_result"
    }
   ],
   "source": [
    "lastday = datetime.date(2019,5,31)\n",
    "lastday"
   ]
  },
  {
   "cell_type": "code",
   "execution_count": 7,
   "metadata": {},
   "outputs": [
    {
     "data": {
      "text/plain": [
       "datetime.timedelta(days=10)"
      ]
     },
     "execution_count": 7,
     "metadata": {},
     "output_type": "execute_result"
    }
   ],
   "source": [
    "delta = lastday - now\n",
    "delta"
   ]
  },
  {
   "cell_type": "code",
   "execution_count": 10,
   "metadata": {},
   "outputs": [
    {
     "data": {
      "text/plain": [
       "10"
      ]
     },
     "execution_count": 10,
     "metadata": {},
     "output_type": "execute_result"
    }
   ],
   "source": [
    "delta.days"
   ]
  },
  {
   "cell_type": "code",
   "execution_count": 11,
   "metadata": {},
   "outputs": [
    {
     "data": {
      "text/plain": [
       "10"
      ]
     },
     "execution_count": 11,
     "metadata": {},
     "output_type": "execute_result"
    }
   ],
   "source": [
    "#[선생님]\n",
    "\n",
    "from datetime import date\n",
    "from calendar import monthrange\n",
    "\n",
    "monthrange(2018,3)[0] \t#첫째 날의 요일을 숫자로 출력\n",
    "monthrange(2018,3)[1] \t#그달의 마지막 날짜를 출력\n",
    "\n",
    "monthrange(2018,3)[1] - date.today().day"
   ]
  },
  {
   "cell_type": "code",
   "execution_count": null,
   "metadata": {},
   "outputs": [],
   "source": [
    "[문제91] 사원번호가 100번 사원의 사원이름과 급여를 출력하세요."
   ]
  },
  {
   "cell_type": "code",
   "execution_count": 22,
   "metadata": {},
   "outputs": [
    {
     "name": "stdout",
     "output_type": "stream",
     "text": [
      "King 24000\n"
     ]
    },
    {
     "data": {
      "text/plain": [
       "[None]"
      ]
     },
     "execution_count": 22,
     "metadata": {},
     "output_type": "execute_result"
    }
   ],
   "source": [
    "import csv\n",
    "\n",
    "file =  open(\"c:\\python\\emp1.csv\",\"r\")\n",
    "emp_list = csv.reader(file)\n",
    "\n",
    "[print(i[1],i[5]) for i in emp_list if i[0] == '100']"
   ]
  },
  {
   "cell_type": "code",
   "execution_count": null,
   "metadata": {},
   "outputs": [],
   "source": [
    "#[R]\n",
    "\n",
    "emp<-read.csv(\"c:/R/emp_d.csv\",header =T, stringsAsFactors=F)\n",
    "emp\n",
    "\n",
    "emp[emp$EMPLOYEE_ID==100,c(\"LAST_NAME\",'SALARY')]\n"
   ]
  },
  {
   "cell_type": "code",
   "execution_count": null,
   "metadata": {},
   "outputs": [],
   "source": [
    "[문제92] 급여가 10000 이상인 사원들의 이름과 급여를 출력하세요."
   ]
  },
  {
   "cell_type": "code",
   "execution_count": 25,
   "metadata": {},
   "outputs": [
    {
     "name": "stdout",
     "output_type": "stream",
     "text": [
      "King 24000\n",
      "Kochhar 17000\n",
      "De Haan 17000\n",
      "Greenberg 13208.8\n",
      "Raphaely 11000\n",
      "Russell 14000\n",
      "Partners 13500\n",
      "Errazuriz 12000\n",
      "Cambrault 11000\n",
      "Zlotkey 10500\n",
      "Tucker 10000\n",
      "King 10000\n",
      "Vishney 10500\n",
      "Ozer 11500\n",
      "Bloom 10000\n",
      "Abel 11000\n",
      "Hartstein 13000\n",
      "Baer 10000\n",
      "Higgins 12008\n"
     ]
    },
    {
     "data": {
      "text/plain": [
       "[None,\n",
       " None,\n",
       " None,\n",
       " None,\n",
       " None,\n",
       " None,\n",
       " None,\n",
       " None,\n",
       " None,\n",
       " None,\n",
       " None,\n",
       " None,\n",
       " None,\n",
       " None,\n",
       " None,\n",
       " None,\n",
       " None,\n",
       " None,\n",
       " None]"
      ]
     },
     "execution_count": 25,
     "metadata": {},
     "output_type": "execute_result"
    }
   ],
   "source": [
    "import csv\n",
    "\n",
    "file = open(\"c:\\python\\emp1.csv\",\"r\")\n",
    "emp_list = csv.reader(file)\n",
    "\n",
    "[print(i[1],i[5]) for i in emp_list if float(i[5])>=10000]"
   ]
  },
  {
   "cell_type": "code",
   "execution_count": null,
   "metadata": {},
   "outputs": [],
   "source": [
    "[문제93] 2001-01-13일에 입사한 사원의 이름과 입사일을 출력하세요"
   ]
  },
  {
   "cell_type": "code",
   "execution_count": 33,
   "metadata": {},
   "outputs": [
    {
     "name": "stdout",
     "output_type": "stream",
     "text": [
      "De Haan 2001-01-13\n"
     ]
    },
    {
     "data": {
      "text/plain": [
       "[None]"
      ]
     },
     "execution_count": 33,
     "metadata": {},
     "output_type": "execute_result"
    }
   ],
   "source": [
    "import csv\n",
    "from datetime import *\n",
    "\n",
    "dt = datetime\n",
    "\n",
    "file = open(\"c:\\python\\emp1.csv\",\"r\")\n",
    "emp_list = csv.reader(file)\n",
    "\n",
    "[print(i[1],i[4]) for i in emp_list if dt.strptime(i[4],\"%Y-%m-%d\") == dt.strptime('2001-01-13',\"%Y-%m-%d\")]"
   ]
  },
  {
   "cell_type": "code",
   "execution_count": 29,
   "metadata": {},
   "outputs": [],
   "source": [
    "[문제94] 2002년도에 입사한 사원들의 이름과 입사일을 출력하세요"
   ]
  },
  {
   "cell_type": "code",
   "execution_count": 50,
   "metadata": {},
   "outputs": [
    {
     "name": "stdout",
     "output_type": "stream",
     "text": [
      "Greenberg 2002-08-17\n",
      "Faviet 2002-08-16\n",
      "Raphaely 2002-12-07\n",
      "Mavris 2002-06-07\n",
      "Baer 2002-06-07\n",
      "Higgins 2002-06-07\n",
      "Gietz 2002-06-07\n"
     ]
    },
    {
     "data": {
      "text/plain": [
       "[None, None, None, None, None, None, None]"
      ]
     },
     "execution_count": 50,
     "metadata": {},
     "output_type": "execute_result"
    }
   ],
   "source": [
    "import csv\n",
    "import time\n",
    "\n",
    "file = open(\"c:\\python\\emp1.csv\",\"r\")\n",
    "emp_list = csv.reader(file)\n",
    "\n",
    "[print(i[1],i[4]) for i in emp_list if time.strptime(i[4],\"%Y-%m-%d\").tm_year == 2002]"
   ]
  },
  {
   "cell_type": "code",
   "execution_count": null,
   "metadata": {},
   "outputs": [],
   "source": [
    "[문제 95] job이 ST_CLERK이고 월급 300 이상인 사원들의 이름과 JOB, 급여 출력하세요."
   ]
  },
  {
   "cell_type": "code",
   "execution_count": 53,
   "metadata": {},
   "outputs": [
    {
     "name": "stdout",
     "output_type": "stream",
     "text": [
      "yer ST_CLERK 3200\n",
      "Mikkilineni ST_CLERK 2700\n",
      "Landry ST_CLERK 2400\n",
      "Markle ST_CLERK 2200\n",
      "Bissot ST_CLERK 3300\n",
      "Atkinson ST_CLERK 2800\n",
      "Marlow ST_CLERK 2500\n",
      "Olson ST_CLERK 2100\n",
      "Mallin ST_CLERK 3300\n",
      "Rogers ST_CLERK 2900\n",
      "Gee ST_CLERK 2400\n",
      "Philtanker ST_CLERK 2200\n",
      "Ladwig ST_CLERK 3600\n",
      "Stiles ST_CLERK 3200\n",
      "Seo ST_CLERK 2700\n",
      "Patel ST_CLERK 2500\n",
      "Rajs ST_CLERK 3500\n",
      "Davies ST_CLERK 3100\n",
      "Matos ST_CLERK 2600\n",
      "Vargas ST_CLERK 2500\n"
     ]
    },
    {
     "data": {
      "text/plain": [
       "[None,\n",
       " None,\n",
       " None,\n",
       " None,\n",
       " None,\n",
       " None,\n",
       " None,\n",
       " None,\n",
       " None,\n",
       " None,\n",
       " None,\n",
       " None,\n",
       " None,\n",
       " None,\n",
       " None,\n",
       " None,\n",
       " None,\n",
       " None,\n",
       " None,\n",
       " None]"
      ]
     },
     "execution_count": 53,
     "metadata": {},
     "output_type": "execute_result"
    }
   ],
   "source": [
    "import csv\n",
    "\n",
    "file = open(\"c:\\python\\emp1.csv\",\"r\")\n",
    "emp_list = csv.reader(file)\n",
    "\n",
    "[print(i[1],i[2],i[5]) for i in emp_list if float(i[5]) >= 300 and i[2] == 'ST_CLERK']"
   ]
  },
  {
   "cell_type": "code",
   "execution_count": null,
   "metadata": {},
   "outputs": [],
   "source": [
    "[문제 96] 급여가 2500에서 3000사이인 사원들의 이름과 급여를 출력하세요."
   ]
  },
  {
   "cell_type": "code",
   "execution_count": 54,
   "metadata": {},
   "outputs": [
    {
     "name": "stdout",
     "output_type": "stream",
     "text": [
      "Baida 2900\n",
      "Tobias 2800\n",
      "Himuro 2600\n",
      "Colmeres 2500\n",
      "Mikkilineni 2700\n",
      "Atkinson 2800\n",
      "Marlow 2500\n",
      "Rogers 2900\n",
      "Seo 2700\n",
      "Patel 2500\n",
      "Matos 2600\n",
      "Vargas 2500\n",
      "Sullivan 2500\n",
      "Geoni 2800\n",
      "Cabrio 3000\n",
      "Gates 2900\n",
      "Perkins 2500\n",
      "Jones 2800\n",
      "Feeney 3000\n",
      "OConnell 2600\n",
      "Grant 2600\n"
     ]
    },
    {
     "data": {
      "text/plain": [
       "[None,\n",
       " None,\n",
       " None,\n",
       " None,\n",
       " None,\n",
       " None,\n",
       " None,\n",
       " None,\n",
       " None,\n",
       " None,\n",
       " None,\n",
       " None,\n",
       " None,\n",
       " None,\n",
       " None,\n",
       " None,\n",
       " None,\n",
       " None,\n",
       " None,\n",
       " None,\n",
       " None]"
      ]
     },
     "execution_count": 54,
     "metadata": {},
     "output_type": "execute_result"
    }
   ],
   "source": [
    "import csv\n",
    "\n",
    "file = open(\"c:\\python\\emp1.csv\",\"r\")\n",
    "emp_list = csv.reader(file)\n",
    "\n",
    "[print(i[1],i[5]) for i in emp_list if float(i[5]) >= 2500 and float(i[5]) <= 3000]"
   ]
  },
  {
   "cell_type": "code",
   "execution_count": null,
   "metadata": {},
   "outputs": [],
   "source": [
    "[문제 97] JOB이 AD_VP, AD_PRES인 사원들의 이름과 월급과 직업을 출력하세요."
   ]
  },
  {
   "cell_type": "code",
   "execution_count": 68,
   "metadata": {},
   "outputs": [
    {
     "name": "stdout",
     "output_type": "stream",
     "text": [
      "King AD_PRES 24000\n",
      "Kochhar AD_VP 17000\n",
      "De Haan AD_VP 17000\n"
     ]
    },
    {
     "data": {
      "text/plain": [
       "[None, None, None]"
      ]
     },
     "execution_count": 68,
     "metadata": {},
     "output_type": "execute_result"
    }
   ],
   "source": [
    "import csv\n",
    "\n",
    "file = open(\"c:\\python\\emp1.csv\",\"r\")\n",
    "emp_list = csv.reader(file)\n",
    "\n",
    "[print(i[1],i[2],i[5]) for i in emp_list if i[2] == 'AD_VP' or i[2] == 'AD_PRES']"
   ]
  },
  {
   "cell_type": "code",
   "execution_count": null,
   "metadata": {},
   "outputs": [],
   "source": [
    "[문제 98] 직업이 AD_VP, AD_PRES이 아닌 사원들의 이름과 월급과 직업을 출력하세요"
   ]
  },
  {
   "cell_type": "code",
   "execution_count": 71,
   "metadata": {},
   "outputs": [
    {
     "name": "stdout",
     "output_type": "stream",
     "text": [
      "Hunold 9000 IT_PROG\n",
      "Ernst 6000 IT_PROG\n",
      "Austin 4800 IT_PROG\n",
      "Pataballa 4800 IT_PROG\n",
      "Lorentz 4200 IT_PROG\n",
      "Greenberg 13208.8 FI_MGR\n",
      "Faviet 9900 FI_ACCOUNT\n",
      "Chen 8200 FI_ACCOUNT\n",
      "Sciarra 7700 FI_ACCOUNT\n",
      "Urman 7800 FI_ACCOUNT\n",
      "Popp 6900 FI_ACCOUNT\n",
      "Raphaely 11000 PU_MAN\n",
      "Khoo 3100 PU_CLERK\n",
      "Baida 2900 PU_CLERK\n",
      "Tobias 2800 PU_CLERK\n",
      "Himuro 2600 PU_CLERK\n",
      "Colmeres 2500 PU_CLERK\n",
      "Weiss 8000 ST_MAN\n",
      "Fripp 8200 ST_MAN\n",
      "Kaufling 7900 ST_MAN\n",
      "Vollman 6500 ST_MAN\n",
      "Mourgos 5800 ST_MAN\n",
      "yer 3200 ST_CLERK\n",
      "Mikkilineni 2700 ST_CLERK\n",
      "Landry 2400 ST_CLERK\n",
      "Markle 2200 ST_CLERK\n",
      "Bissot 3300 ST_CLERK\n",
      "Atkinson 2800 ST_CLERK\n",
      "Marlow 2500 ST_CLERK\n",
      "Olson 2100 ST_CLERK\n",
      "Mallin 3300 ST_CLERK\n",
      "Rogers 2900 ST_CLERK\n",
      "Gee 2400 ST_CLERK\n",
      "Philtanker 2200 ST_CLERK\n",
      "Ladwig 3600 ST_CLERK\n",
      "Stiles 3200 ST_CLERK\n",
      "Seo 2700 ST_CLERK\n",
      "Patel 2500 ST_CLERK\n",
      "Rajs 3500 ST_CLERK\n",
      "Davies 3100 ST_CLERK\n",
      "Matos 2600 ST_CLERK\n",
      "Vargas 2500 ST_CLERK\n",
      "Russell 14000 SA_MAN\n",
      "Partners 13500 SA_MAN\n",
      "Errazuriz 12000 SA_MAN\n",
      "Cambrault 11000 SA_MAN\n",
      "Zlotkey 10500 SA_MAN\n",
      "Tucker 10000 SA_REP\n",
      "Bernstein 9500 SA_REP\n",
      "Hall 9000 SA_REP\n",
      "Olsen 8000 SA_REP\n",
      "Cambrault 7500 SA_REP\n",
      "Tuvault 7000 SA_REP\n",
      "King 10000 SA_REP\n",
      "Sully 9500 SA_REP\n",
      "McEwen 9000 SA_REP\n",
      "Smith 8000 SA_REP\n",
      "Doran 7500 SA_REP\n",
      "Sewall 7000 SA_REP\n",
      "Vishney 10500 SA_REP\n",
      "Greene 9500 SA_REP\n",
      "Marvins 7200 SA_REP\n",
      "Lee 6800 SA_REP\n",
      "Ande 6400 SA_REP\n",
      "Banda 6200 SA_REP\n",
      "Ozer 11500 SA_REP\n",
      "Bloom 10000 SA_REP\n",
      "Fox 9600 SA_REP\n",
      "Smith 7400 SA_REP\n",
      "Bates 7300 SA_REP\n",
      "Kumar 6100 SA_REP\n",
      "Abel 11000 SA_REP\n",
      "Hutton 8800 SA_REP\n",
      "Taylor 8600 SA_REP\n",
      "Livingston 8400 SA_REP\n",
      "Grant 7000 SA_REP\n",
      "Johnson 6200 SA_REP\n",
      "Taylor 3200 SH_CLERK\n",
      "Fleaur 3100 SH_CLERK\n",
      "Sullivan 2500 SH_CLERK\n",
      "Geoni 2800 SH_CLERK\n",
      "Sarchand 4200 SH_CLERK\n",
      "Bull 4100 SH_CLERK\n",
      "Dellinger 3400 SH_CLERK\n",
      "Cabrio 3000 SH_CLERK\n",
      "Chung 3800 SH_CLERK\n",
      "Dilly 3600 SH_CLERK\n",
      "Gates 2900 SH_CLERK\n",
      "Perkins 2500 SH_CLERK\n",
      "Bell 4000 SH_CLERK\n",
      "Everett 3900 SH_CLERK\n",
      "McCain 3200 SH_CLERK\n",
      "Jones 2800 SH_CLERK\n",
      "Walsh 3100 SH_CLERK\n",
      "Feeney 3000 SH_CLERK\n",
      "OConnell 2600 SH_CLERK\n",
      "Grant 2600 SH_CLERK\n",
      "Whalen 4400 AD_ASST\n",
      "Hartstein 13000 MK_MAN\n",
      "Fay 6000 MK_REP\n",
      "Mavris 6500 HR_REP\n",
      "Baer 10000 PR_REP\n",
      "Higgins 12008 AC_MGR\n",
      "Gietz 8300 AC_ACCOUNT\n"
     ]
    },
    {
     "data": {
      "text/plain": [
       "[None,\n",
       " None,\n",
       " None,\n",
       " None,\n",
       " None,\n",
       " None,\n",
       " None,\n",
       " None,\n",
       " None,\n",
       " None,\n",
       " None,\n",
       " None,\n",
       " None,\n",
       " None,\n",
       " None,\n",
       " None,\n",
       " None,\n",
       " None,\n",
       " None,\n",
       " None,\n",
       " None,\n",
       " None,\n",
       " None,\n",
       " None,\n",
       " None,\n",
       " None,\n",
       " None,\n",
       " None,\n",
       " None,\n",
       " None,\n",
       " None,\n",
       " None,\n",
       " None,\n",
       " None,\n",
       " None,\n",
       " None,\n",
       " None,\n",
       " None,\n",
       " None,\n",
       " None,\n",
       " None,\n",
       " None,\n",
       " None,\n",
       " None,\n",
       " None,\n",
       " None,\n",
       " None,\n",
       " None,\n",
       " None,\n",
       " None,\n",
       " None,\n",
       " None,\n",
       " None,\n",
       " None,\n",
       " None,\n",
       " None,\n",
       " None,\n",
       " None,\n",
       " None,\n",
       " None,\n",
       " None,\n",
       " None,\n",
       " None,\n",
       " None,\n",
       " None,\n",
       " None,\n",
       " None,\n",
       " None,\n",
       " None,\n",
       " None,\n",
       " None,\n",
       " None,\n",
       " None,\n",
       " None,\n",
       " None,\n",
       " None,\n",
       " None,\n",
       " None,\n",
       " None,\n",
       " None,\n",
       " None,\n",
       " None,\n",
       " None,\n",
       " None,\n",
       " None,\n",
       " None,\n",
       " None,\n",
       " None,\n",
       " None,\n",
       " None,\n",
       " None,\n",
       " None,\n",
       " None,\n",
       " None,\n",
       " None,\n",
       " None,\n",
       " None,\n",
       " None,\n",
       " None,\n",
       " None,\n",
       " None,\n",
       " None,\n",
       " None,\n",
       " None]"
      ]
     },
     "execution_count": 71,
     "metadata": {},
     "output_type": "execute_result"
    }
   ],
   "source": [
    "import csv\n",
    "\n",
    "file = open(\"c:\\python\\emp1.csv\",\"r\")\n",
    "emp_csv = csv.reader(file)\n",
    "\n",
    "[print(i[1],i[5],i[2]) for i in emp_csv if i[2] != 'AD_VP' and i[2] != 'AD_PRES']"
   ]
  },
  {
   "cell_type": "code",
   "execution_count": null,
   "metadata": {},
   "outputs": [],
   "source": [
    "[문제 99] 커미션이 null인 사원들의 이름,급여,커미션을 출력하세요"
   ]
  },
  {
   "cell_type": "code",
   "execution_count": 81,
   "metadata": {},
   "outputs": [
    {
     "name": "stdout",
     "output_type": "stream",
     "text": [
      "Steven 24000 \n",
      "Neena 17000 \n",
      "Lex 17000 \n",
      "Alexander 9000 \n",
      "Bruce 6000 \n",
      "David 4800 \n",
      "Valli 4800 \n",
      "Diana 4200 \n",
      "Nancy 12008 \n",
      "Daniel 9000 \n",
      "John 8200 \n",
      "Ismael 7700 \n",
      "Jose Manuel 7800 \n",
      "Luis 6900 \n",
      "Den 11000 \n",
      "Alexander 3100 \n",
      "Shelli 2900 \n",
      "Sigal 2800 \n",
      "Guy 2600 \n",
      "Karen 2500 \n",
      "Matthew 8000 \n",
      "Adam 8200 \n",
      "Payam 7900 \n",
      "Shanta 6500 \n",
      "Kevin 5800 \n",
      "Julia 3200 \n",
      "Irene 2700 \n",
      "James 2400 \n",
      "Steven 2200 \n",
      "Laura 3300 \n",
      "Mozhe 2800 \n",
      "James 2500 \n",
      "TJ 2100 \n",
      "Jason 3300 \n",
      "Michael 2900 \n",
      "Ki 2400 \n",
      "Hazel 2200 \n",
      "Renske 3600 \n",
      "Stephen 3200 \n",
      "John 2700 \n",
      "Joshua 2500 \n",
      "Trenna 3500 \n",
      "Curtis 3100 \n",
      "Randall 2600 \n",
      "Peter 2500 \n",
      "Winston 3200 \n",
      "Jean 3100 \n",
      "Martha 2500 \n",
      "Girard 2800 \n",
      "Nandita 4200 \n",
      "Alexis 4100 \n",
      "Julia 3400 \n",
      "Anthony 3000 \n",
      "Kelly 3800 \n",
      "Jennifer 3600 \n",
      "Timothy 2900 \n",
      "Randall 2500 \n",
      "Sarah 4000 \n",
      "Britney 3900 \n",
      "Samuel 3200 \n",
      "Vance 2800 \n",
      "Alana 3100 \n",
      "Kevin 3000 \n",
      "Donald 2600 \n",
      "Douglas 2600 \n",
      "Jennifer 4400 \n",
      "Michael 13000 \n",
      "Pat 6000 \n",
      "Susan 6500 \n",
      "Hermann 10000 \n",
      "Shelley 12008 \n",
      "William 8300 \n"
     ]
    },
    {
     "data": {
      "text/plain": [
       "[None,\n",
       " None,\n",
       " None,\n",
       " None,\n",
       " None,\n",
       " None,\n",
       " None,\n",
       " None,\n",
       " None,\n",
       " None,\n",
       " None,\n",
       " None,\n",
       " None,\n",
       " None,\n",
       " None,\n",
       " None,\n",
       " None,\n",
       " None,\n",
       " None,\n",
       " None,\n",
       " None,\n",
       " None,\n",
       " None,\n",
       " None,\n",
       " None,\n",
       " None,\n",
       " None,\n",
       " None,\n",
       " None,\n",
       " None,\n",
       " None,\n",
       " None,\n",
       " None,\n",
       " None,\n",
       " None,\n",
       " None,\n",
       " None,\n",
       " None,\n",
       " None,\n",
       " None,\n",
       " None,\n",
       " None,\n",
       " None,\n",
       " None,\n",
       " None,\n",
       " None,\n",
       " None,\n",
       " None,\n",
       " None,\n",
       " None,\n",
       " None,\n",
       " None,\n",
       " None,\n",
       " None,\n",
       " None,\n",
       " None,\n",
       " None,\n",
       " None,\n",
       " None,\n",
       " None,\n",
       " None,\n",
       " None,\n",
       " None,\n",
       " None,\n",
       " None,\n",
       " None,\n",
       " None,\n",
       " None,\n",
       " None,\n",
       " None,\n",
       " None,\n",
       " None]"
      ]
     },
     "execution_count": 81,
     "metadata": {},
     "output_type": "execute_result"
    }
   ],
   "source": [
    "import csv\n",
    "\n",
    "file = open(\"c:\\R\\emp.csv\",\"r\")\n",
    "emp_csv = csv.reader(file)\n",
    "\n",
    "[print(i[1],i[7],i[-3]) for i in emp_csv if i[-3] == '']"
   ]
  },
  {
   "cell_type": "code",
   "execution_count": null,
   "metadata": {},
   "outputs": [],
   "source": [
    "[문제 100] 커미션이 null이 아닌 사원들의 이름, 급여 커미션을 출력하세요."
   ]
  },
  {
   "cell_type": "code",
   "execution_count": 82,
   "metadata": {},
   "outputs": [
    {
     "name": "stdout",
     "output_type": "stream",
     "text": [
      "FIRST_NAME SALARY COMMISSION_PCT\n",
      "John 14000 0.4\n",
      "Karen 13500 0.3\n",
      "Alberto 12000 0.3\n",
      "Gerald 11000 0.3\n",
      "Eleni 10500 0.2\n",
      "Peter 10000 0.3\n",
      "David 9500 0.25\n",
      "Peter 9000 0.25\n",
      "Christopher 8000 0.2\n",
      "Nanette 7500 0.2\n",
      "Oliver 7000 0.15\n",
      "Janette 10000 0.35\n",
      "Patrick 9500 0.35\n",
      "Allan 9000 0.35\n",
      "Lindsey 8000 0.3\n",
      "Louise 7500 0.3\n",
      "Sarath 7000 0.25\n",
      "Clara 10500 0.25\n",
      "Danielle 9500 0.15\n",
      "Mattea 7200 0.1\n",
      "David 6800 0.1\n",
      "Sundar 6400 0.1\n",
      "Amit 6200 0.1\n",
      "Lisa 11500 0.25\n",
      "Harrison 10000 0.2\n",
      "Tayler 9600 0.2\n",
      "William 7400 0.15\n",
      "Elizabeth 7300 0.15\n",
      "Sundita 6100 0.1\n",
      "Ellen 11000 0.3\n",
      "Alyssa 8800 0.25\n",
      "Jonathon 8600 0.2\n",
      "Jack 8400 0.2\n",
      "Kimberely 7000 0.15\n",
      "Charles 6200 0.1\n"
     ]
    },
    {
     "data": {
      "text/plain": [
       "[None,\n",
       " None,\n",
       " None,\n",
       " None,\n",
       " None,\n",
       " None,\n",
       " None,\n",
       " None,\n",
       " None,\n",
       " None,\n",
       " None,\n",
       " None,\n",
       " None,\n",
       " None,\n",
       " None,\n",
       " None,\n",
       " None,\n",
       " None,\n",
       " None,\n",
       " None,\n",
       " None,\n",
       " None,\n",
       " None,\n",
       " None,\n",
       " None,\n",
       " None,\n",
       " None,\n",
       " None,\n",
       " None,\n",
       " None,\n",
       " None,\n",
       " None,\n",
       " None,\n",
       " None,\n",
       " None,\n",
       " None]"
      ]
     },
     "execution_count": 82,
     "metadata": {},
     "output_type": "execute_result"
    }
   ],
   "source": [
    "import csv\n",
    "\n",
    "file = open(\"c:\\R\\emp.csv\",\"r\")\n",
    "emp_csv = csv.reader(file)\n",
    "\n",
    "[print(i[1],i[7],i[-3]) for i in emp_csv if i[-3] != '']"
   ]
  },
  {
   "cell_type": "code",
   "execution_count": null,
   "metadata": {},
   "outputs": [],
   "source": [
    "[문제 101] last_name의 첫번째 철자가 S로 시작하는 사원들의 이름과 급여를 출력하세요"
   ]
  },
  {
   "cell_type": "code",
   "execution_count": 83,
   "metadata": {},
   "outputs": [
    {
     "name": "stdout",
     "output_type": "stream",
     "text": [
      "Sciarra 7700\n",
      "Stiles 3200\n",
      "Seo 2700\n",
      "Sully 9500\n",
      "Smith 8000\n",
      "Sewall 7000\n",
      "Smith 7400\n",
      "Sullivan 2500\n",
      "Sarchand 4200\n"
     ]
    },
    {
     "data": {
      "text/plain": [
       "[None, None, None, None, None, None, None, None, None]"
      ]
     },
     "execution_count": 83,
     "metadata": {},
     "output_type": "execute_result"
    }
   ],
   "source": [
    "import csv\n",
    "\n",
    "file = open(\"c:\\R\\emp.csv\",\"r\")\n",
    "emp_csv = csv.reader(file)\n",
    "\n",
    "[print(i[2],i[7]) for i in emp_csv if i[2][0] == 'S']"
   ]
  },
  {
   "cell_type": "code",
   "execution_count": null,
   "metadata": {},
   "outputs": [],
   "source": [
    "[문제 102] last_name의 두번째 철자가 i 인 사원들의 이름과 월급을 출력하세요."
   ]
  },
  {
   "cell_type": "code",
   "execution_count": 98,
   "metadata": {},
   "outputs": [
    {
     "name": "stdout",
     "output_type": "stream",
     "text": [
      "Austin 4800\n",
      "Mallin 3300\n",
      "Ladwig 3600\n",
      "Errazuriz 12000\n",
      "Bernstein 9500\n",
      "Cabrio 3000\n",
      "McCain 3200\n",
      "Hartstein 13000\n",
      "Mavris 6500\n"
     ]
    },
    {
     "data": {
      "text/plain": [
       "[None, None, None, None, None, None, None, None, None]"
      ]
     },
     "execution_count": 98,
     "metadata": {},
     "output_type": "execute_result"
    }
   ],
   "source": [
    "import csv\n",
    "\n",
    "file = open(\"c:\\R\\emp.csv\",\"r\")\n",
    "emp_csv = csv.reader(file)\n",
    "\n",
    "[print(i[2],i[7]) for i in emp_csv if i[2][-2] == 'i']"
   ]
  },
  {
   "cell_type": "code",
   "execution_count": null,
   "metadata": {},
   "outputs": [],
   "source": [
    "[문제 103]이름, 급여 출력하는데 이름을 오름차순으로 출력하세요."
   ]
  },
  {
   "cell_type": "code",
   "execution_count": 91,
   "metadata": {},
   "outputs": [
    {
     "data": {
      "text/plain": [
       "['LAST_NAME,SALARY',\n",
       " 'King,24000',\n",
       " 'Kochhar,17000',\n",
       " 'De Haan,17000',\n",
       " 'Hunold,9000',\n",
       " 'Ernst,6000',\n",
       " 'Austin,4800',\n",
       " 'Pataballa,4800',\n",
       " 'Lorentz,4200',\n",
       " 'Greenberg,12008',\n",
       " 'Faviet,9000',\n",
       " 'Chen,8200',\n",
       " 'Sciarra,7700',\n",
       " 'Urman,7800',\n",
       " 'Popp,6900',\n",
       " 'Raphaely,11000',\n",
       " 'Khoo,3100',\n",
       " 'Baida,2900',\n",
       " 'Tobias,2800',\n",
       " 'Himuro,2600',\n",
       " 'Colmenares,2500',\n",
       " 'Weiss,8000',\n",
       " 'Fripp,8200',\n",
       " 'Kaufling,7900',\n",
       " 'Vollman,6500',\n",
       " 'Mourgos,5800',\n",
       " 'Nayer,3200',\n",
       " 'Mikkilineni,2700',\n",
       " 'Landry,2400',\n",
       " 'Markle,2200',\n",
       " 'Bissot,3300',\n",
       " 'Atkinson,2800',\n",
       " 'Marlow,2500',\n",
       " 'Olson,2100',\n",
       " 'Mallin,3300',\n",
       " 'Rogers,2900',\n",
       " 'Gee,2400',\n",
       " 'Philtanker,2200',\n",
       " 'Ladwig,3600',\n",
       " 'Stiles,3200',\n",
       " 'Seo,2700',\n",
       " 'Patel,2500',\n",
       " 'Rajs,3500',\n",
       " 'Davies,3100',\n",
       " 'Matos,2600',\n",
       " 'Vargas,2500',\n",
       " 'Russell,14000',\n",
       " 'Partners,13500',\n",
       " 'Errazuriz,12000',\n",
       " 'Cambrault,11000',\n",
       " 'Zlotkey,10500',\n",
       " 'Tucker,10000',\n",
       " 'Bernstein,9500',\n",
       " 'Hall,9000',\n",
       " 'Olsen,8000',\n",
       " 'Cambrault,7500',\n",
       " 'Tuvault,7000',\n",
       " 'King,10000',\n",
       " 'Sully,9500',\n",
       " 'McEwen,9000',\n",
       " 'Smith,8000',\n",
       " 'Doran,7500',\n",
       " 'Sewall,7000',\n",
       " 'Vishney,10500',\n",
       " 'Greene,9500',\n",
       " 'Marvins,7200',\n",
       " 'Lee,6800',\n",
       " 'Ande,6400',\n",
       " 'Banda,6200',\n",
       " 'Ozer,11500',\n",
       " 'Bloom,10000',\n",
       " 'Fox,9600',\n",
       " 'Smith,7400',\n",
       " 'Bates,7300',\n",
       " 'Kumar,6100',\n",
       " 'Abel,11000',\n",
       " 'Hutton,8800',\n",
       " 'Taylor,8600',\n",
       " 'Livingston,8400',\n",
       " 'Grant,7000',\n",
       " 'Johnson,6200',\n",
       " 'Taylor,3200',\n",
       " 'Fleaur,3100',\n",
       " 'Sullivan,2500',\n",
       " 'Geoni,2800',\n",
       " 'Sarchand,4200',\n",
       " 'Bull,4100',\n",
       " 'Dellinger,3400',\n",
       " 'Cabrio,3000',\n",
       " 'Chung,3800',\n",
       " 'Dilly,3600',\n",
       " 'Gates,2900',\n",
       " 'Perkins,2500',\n",
       " 'Bell,4000',\n",
       " 'Everett,3900',\n",
       " 'McCain,3200',\n",
       " 'Jones,2800',\n",
       " 'Walsh,3100',\n",
       " 'Feeney,3000',\n",
       " 'OConnell,2600',\n",
       " 'Grant,2600',\n",
       " 'Whalen,4400',\n",
       " 'Hartstein,13000',\n",
       " 'Fay,6000',\n",
       " 'Mavris,6500',\n",
       " 'Baer,10000',\n",
       " 'Higgins,12008',\n",
       " 'Gietz,8300']"
      ]
     },
     "execution_count": 91,
     "metadata": {},
     "output_type": "execute_result"
    }
   ],
   "source": [
    "import csv\n",
    "\n",
    "file = open(\"c:\\R\\emp.csv\",\"r\")\n",
    "emp_csv = csv.reader(file)\n",
    "\n",
    "emp_list = []\n",
    "[emp_list.append(i[2]+','+i[7]) for i in emp_csv]\n",
    "emp_list"
   ]
  },
  {
   "cell_type": "code",
   "execution_count": 93,
   "metadata": {},
   "outputs": [
    {
     "data": {
      "text/plain": [
       "['Zlotkey,10500',\n",
       " 'Whalen,4400',\n",
       " 'Weiss,8000',\n",
       " 'Walsh,3100',\n",
       " 'Vollman,6500',\n",
       " 'Vishney,10500',\n",
       " 'Vargas,2500',\n",
       " 'Urman,7800',\n",
       " 'Tuvault,7000',\n",
       " 'Tucker,10000',\n",
       " 'Tobias,2800',\n",
       " 'Taylor,8600',\n",
       " 'Taylor,3200',\n",
       " 'Sully,9500',\n",
       " 'Sullivan,2500',\n",
       " 'Stiles,3200',\n",
       " 'Smith,8000',\n",
       " 'Smith,7400',\n",
       " 'Sewall,7000',\n",
       " 'Seo,2700',\n",
       " 'Sciarra,7700',\n",
       " 'Sarchand,4200',\n",
       " 'Russell,14000',\n",
       " 'Rogers,2900',\n",
       " 'Raphaely,11000',\n",
       " 'Rajs,3500',\n",
       " 'Popp,6900',\n",
       " 'Philtanker,2200',\n",
       " 'Perkins,2500',\n",
       " 'Patel,2500',\n",
       " 'Pataballa,4800',\n",
       " 'Partners,13500',\n",
       " 'Ozer,11500',\n",
       " 'Olson,2100',\n",
       " 'Olsen,8000',\n",
       " 'OConnell,2600',\n",
       " 'Nayer,3200',\n",
       " 'Mourgos,5800',\n",
       " 'Mikkilineni,2700',\n",
       " 'McEwen,9000',\n",
       " 'McCain,3200',\n",
       " 'Mavris,6500',\n",
       " 'Matos,2600',\n",
       " 'Marvins,7200',\n",
       " 'Marlow,2500',\n",
       " 'Markle,2200',\n",
       " 'Mallin,3300',\n",
       " 'Lorentz,4200',\n",
       " 'Livingston,8400',\n",
       " 'Lee,6800',\n",
       " 'Landry,2400',\n",
       " 'Ladwig,3600',\n",
       " 'LAST_NAME,SALARY',\n",
       " 'Kumar,6100',\n",
       " 'Kochhar,17000',\n",
       " 'King,24000',\n",
       " 'King,10000',\n",
       " 'Khoo,3100',\n",
       " 'Kaufling,7900',\n",
       " 'Jones,2800',\n",
       " 'Johnson,6200',\n",
       " 'Hutton,8800',\n",
       " 'Hunold,9000',\n",
       " 'Himuro,2600',\n",
       " 'Higgins,12008',\n",
       " 'Hartstein,13000',\n",
       " 'Hall,9000',\n",
       " 'Greene,9500',\n",
       " 'Greenberg,12008',\n",
       " 'Grant,7000',\n",
       " 'Grant,2600',\n",
       " 'Gietz,8300',\n",
       " 'Geoni,2800',\n",
       " 'Gee,2400',\n",
       " 'Gates,2900',\n",
       " 'Fripp,8200',\n",
       " 'Fox,9600',\n",
       " 'Fleaur,3100',\n",
       " 'Feeney,3000',\n",
       " 'Fay,6000',\n",
       " 'Faviet,9000',\n",
       " 'Everett,3900',\n",
       " 'Errazuriz,12000',\n",
       " 'Ernst,6000',\n",
       " 'Doran,7500',\n",
       " 'Dilly,3600',\n",
       " 'Dellinger,3400',\n",
       " 'De Haan,17000',\n",
       " 'Davies,3100',\n",
       " 'Colmenares,2500',\n",
       " 'Chung,3800',\n",
       " 'Chen,8200',\n",
       " 'Cambrault,7500',\n",
       " 'Cambrault,11000',\n",
       " 'Cabrio,3000',\n",
       " 'Bull,4100',\n",
       " 'Bloom,10000',\n",
       " 'Bissot,3300',\n",
       " 'Bernstein,9500',\n",
       " 'Bell,4000',\n",
       " 'Bates,7300',\n",
       " 'Banda,6200',\n",
       " 'Baida,2900',\n",
       " 'Baer,10000',\n",
       " 'Austin,4800',\n",
       " 'Atkinson,2800',\n",
       " 'Ande,6400',\n",
       " 'Abel,11000']"
      ]
     },
     "execution_count": 93,
     "metadata": {},
     "output_type": "execute_result"
    }
   ],
   "source": [
    "emp_list.sort(reverse = True)\n",
    "emp_list"
   ]
  },
  {
   "cell_type": "code",
   "execution_count": 94,
   "metadata": {},
   "outputs": [
    {
     "name": "stdout",
     "output_type": "stream",
     "text": [
      "Adam 2005/04/10\n",
      "Alana 2006/04/24\n",
      "Alberto 2005/03/10\n",
      "Alexander 2006/01/03\n",
      "Alexander 2003/05/18\n",
      "Alexis 2005/02/20\n",
      "Allan 2004/08/01\n",
      "Alyssa 2005/03/19\n",
      "Amit 2008/04/21\n",
      "Anthony 2007/02/07\n",
      "Britney 2005/03/03\n",
      "Bruce 2007/05/21\n",
      "Charles 2008/01/04\n",
      "Christopher 2006/03/30\n",
      "Clara 2005/11/11\n",
      "Curtis 2005/01/29\n",
      "Daniel 2002/08/16\n",
      "Danielle 2007/03/19\n",
      "David 2005/06/25\n",
      "David 2005/03/24\n",
      "David 2008/02/23\n",
      "Den 2002/12/07\n",
      "Diana 2007/02/07\n",
      "Donald 2007/06/21\n",
      "Douglas 2008/01/13\n",
      "Eleni 2008/01/29\n",
      "Elizabeth 2007/03/24\n",
      "Ellen 2004/05/11\n",
      "FIRST_NAME HIRE_DATE\n",
      "Gerald 2007/10/15\n",
      "Girard 2008/02/03\n",
      "Guy 2006/11/15\n",
      "Harrison 2006/03/23\n",
      "Hazel 2008/02/06\n",
      "Hermann 2002/06/07\n",
      "Irene 2006/09/28\n",
      "Ismael 2005/09/30\n",
      "Jack 2006/04/23\n",
      "James 2007/01/14\n",
      "James 2005/02/16\n",
      "Janette 2004/01/30\n",
      "Jason 2004/06/14\n",
      "Jean 2006/02/23\n",
      "Jennifer 2005/08/13\n",
      "Jennifer 2003/09/17\n",
      "John 2005/09/28\n",
      "John 2006/02/12\n",
      "John 2004/10/01\n",
      "Jonathon 2006/03/24\n",
      "Jose Manuel 2006/03/07\n",
      "Joshua 2006/04/06\n",
      "Julia 2005/07/16\n",
      "Julia 2006/06/24\n",
      "Karen 2007/08/10\n",
      "Karen 2005/01/05\n",
      "Kelly 2005/06/14\n",
      "Kevin 2007/11/16\n",
      "Kevin 2006/05/23\n",
      "Ki 2007/12/12\n",
      "Kimberely 2007/05/24\n",
      "Laura 2005/08/20\n",
      "Lex 2001/01/13\n",
      "Lindsey 2005/03/10\n",
      "Lisa 2005/03/11\n",
      "Louise 2005/12/15\n",
      "Luis 2007/12/07\n",
      "Martha 2007/06/21\n",
      "Mattea 2008/01/24\n",
      "Matthew 2004/07/18\n",
      "Michael 2006/08/26\n",
      "Michael 2004/02/17\n",
      "Mozhe 2005/10/30\n",
      "Nancy 2002/08/17\n",
      "Nandita 2004/01/27\n",
      "Nanette 2006/12/09\n",
      "Neena 2005/09/21\n",
      "Oliver 2007/11/23\n",
      "Pat 2005/08/17\n",
      "Patrick 2004/03/04\n",
      "Payam 2003/05/01\n",
      "Peter 2006/07/09\n",
      "Peter 2005/01/30\n",
      "Peter 2005/08/20\n",
      "Randall 2006/03/15\n",
      "Randall 2007/12/19\n",
      "Renske 2003/07/14\n",
      "Samuel 2006/07/01\n",
      "Sarah 2004/02/04\n",
      "Sarath 2006/11/03\n",
      "Shanta 2005/10/10\n",
      "Shelley 2002/06/07\n",
      "Shelli 2005/12/24\n",
      "Sigal 2005/07/24\n",
      "Stephen 2005/10/26\n",
      "Steven 2003/06/17\n",
      "Steven 2008/03/08\n",
      "Sundar 2008/03/24\n",
      "Sundita 2008/04/21\n",
      "Susan 2002/06/07\n",
      "TJ 2007/04/10\n",
      "Tayler 2006/01/24\n",
      "Timothy 2006/07/11\n",
      "Trenna 2003/10/17\n",
      "Valli 2006/02/05\n",
      "Vance 2007/03/17\n",
      "William 2007/02/23\n",
      "William 2002/06/07\n",
      "Winston 2006/01/24\n"
     ]
    }
   ],
   "source": [
    "#[선생님]\n",
    "\n",
    "#sorted 할때 아래처럼 꼭 함수를 만들어 함수의 'return값'으로 key값을 출력할수 있도록 만들어 놔야됨\n",
    "\n",
    "def sortCheck(data):\n",
    "    return(data[1])\n",
    "    \n",
    "file = open(\"c:/R/emp.csv\",\"r\")\n",
    "emp_csv=csv.reader(file)\n",
    "emp_list = [] \n",
    "for i in emp_csv:\n",
    "    emp_list.append(i)\n",
    "\n",
    "\n",
    "#sortCheck : 위에만든함수\n",
    "#sorted 주어진 key값을 기준으로 소트시켜주는 함수\n",
    "#sorted 할때 key값은 꼭 위에 만든것처럼 함수를 만들어서 리턴값을 넣어줘야된다.\n",
    "\n",
    "emp_list_sorted = sorted(emp_list, reverse=False, key=sortCheck)  \n",
    "\n",
    "for i in emp_list_sorted:\n",
    "    print(i[1],i[5])\n"
   ]
  },
  {
   "cell_type": "code",
   "execution_count": null,
   "metadata": {},
   "outputs": [],
   "source": [
    "ㅁ 람다(lambda) 함수\n",
    "- 이름이 없는 한줄짜리 함수\n",
    "- 가독성을 위해서\n",
    "- 함수를 인수로 넘겨줘야 할때\n",
    "\n",
    "def f1(x,y):\n",
    "\treturn x*y\n",
    "\n",
    "f1(2,3)\n",
    "Out[155]: 6\n",
    "\n",
    "\t#람다문으로! 바꿔보자\n",
    "\n",
    "(lambda x,y : x*y)(2,3)\n",
    "Out[156]: 6\n",
    "#람다함수는 이름이 없음.. 그래서 괄호안에 들어가있음...\n",
    "#변수호출해서 변수이름을 람다이름인것처럼 사용은 가능하다\n",
    "\n",
    "f1 = lambda x,y : x*y\n",
    "\n",
    "f1(2,3)\n"
   ]
  },
  {
   "cell_type": "code",
   "execution_count": 230,
   "metadata": {},
   "outputs": [
    {
     "name": "stdout",
     "output_type": "stream",
     "text": [
      "Adam 2005/04/10\n",
      "Alana 2006/04/24\n",
      "Alberto 2005/03/10\n",
      "Alexander 2006/01/03\n",
      "Alexander 2003/05/18\n",
      "Alexis 2005/02/20\n",
      "Allan 2004/08/01\n",
      "Alyssa 2005/03/19\n",
      "Amit 2008/04/21\n",
      "Anthony 2007/02/07\n",
      "Britney 2005/03/03\n",
      "Bruce 2007/05/21\n",
      "Charles 2008/01/04\n",
      "Christopher 2006/03/30\n",
      "Clara 2005/11/11\n",
      "Curtis 2005/01/29\n",
      "Daniel 2002/08/16\n",
      "Danielle 2007/03/19\n",
      "David 2005/06/25\n",
      "David 2005/03/24\n",
      "David 2008/02/23\n",
      "Den 2002/12/07\n",
      "Diana 2007/02/07\n",
      "Donald 2007/06/21\n",
      "Douglas 2008/01/13\n",
      "Eleni 2008/01/29\n",
      "Elizabeth 2007/03/24\n",
      "Ellen 2004/05/11\n",
      "FIRST_NAME HIRE_DATE\n",
      "Gerald 2007/10/15\n",
      "Girard 2008/02/03\n",
      "Guy 2006/11/15\n",
      "Harrison 2006/03/23\n",
      "Hazel 2008/02/06\n",
      "Hermann 2002/06/07\n",
      "Irene 2006/09/28\n",
      "Ismael 2005/09/30\n",
      "Jack 2006/04/23\n",
      "James 2007/01/14\n",
      "James 2005/02/16\n",
      "Janette 2004/01/30\n",
      "Jason 2004/06/14\n",
      "Jean 2006/02/23\n",
      "Jennifer 2005/08/13\n",
      "Jennifer 2003/09/17\n",
      "John 2005/09/28\n",
      "John 2006/02/12\n",
      "John 2004/10/01\n",
      "Jonathon 2006/03/24\n",
      "Jose Manuel 2006/03/07\n",
      "Joshua 2006/04/06\n",
      "Julia 2005/07/16\n",
      "Julia 2006/06/24\n",
      "Karen 2007/08/10\n",
      "Karen 2005/01/05\n",
      "Kelly 2005/06/14\n",
      "Kevin 2007/11/16\n",
      "Kevin 2006/05/23\n",
      "Ki 2007/12/12\n",
      "Kimberely 2007/05/24\n",
      "Laura 2005/08/20\n",
      "Lex 2001/01/13\n",
      "Lindsey 2005/03/10\n",
      "Lisa 2005/03/11\n",
      "Louise 2005/12/15\n",
      "Luis 2007/12/07\n",
      "Martha 2007/06/21\n",
      "Mattea 2008/01/24\n",
      "Matthew 2004/07/18\n",
      "Michael 2006/08/26\n",
      "Michael 2004/02/17\n",
      "Mozhe 2005/10/30\n",
      "Nancy 2002/08/17\n",
      "Nandita 2004/01/27\n",
      "Nanette 2006/12/09\n",
      "Neena 2005/09/21\n",
      "Oliver 2007/11/23\n",
      "Pat 2005/08/17\n",
      "Patrick 2004/03/04\n",
      "Payam 2003/05/01\n",
      "Peter 2006/07/09\n",
      "Peter 2005/01/30\n",
      "Peter 2005/08/20\n",
      "Randall 2006/03/15\n",
      "Randall 2007/12/19\n",
      "Renske 2003/07/14\n",
      "Samuel 2006/07/01\n",
      "Sarah 2004/02/04\n",
      "Sarath 2006/11/03\n",
      "Shanta 2005/10/10\n",
      "Shelley 2002/06/07\n",
      "Shelli 2005/12/24\n",
      "Sigal 2005/07/24\n",
      "Stephen 2005/10/26\n",
      "Steven 2003/06/17\n",
      "Steven 2008/03/08\n",
      "Sundar 2008/03/24\n",
      "Sundita 2008/04/21\n",
      "Susan 2002/06/07\n",
      "TJ 2007/04/10\n",
      "Tayler 2006/01/24\n",
      "Timothy 2006/07/11\n",
      "Trenna 2003/10/17\n",
      "Valli 2006/02/05\n",
      "Vance 2007/03/17\n",
      "William 2007/02/23\n",
      "William 2002/06/07\n",
      "Winston 2006/01/24\n"
     ]
    }
   ],
   "source": [
    "#람다 사용해서 103 번 문제 풀기\n",
    "\n",
    "file = open(\"c:/R/emp.csv\",\"r\")\n",
    "emp_csv=csv.reader(file)\n",
    "emp_list = [] \n",
    "for i in emp_csv:\n",
    "    emp_list.append(i)\n",
    "\n",
    "emp_list_sorted = sorted(emp_list, reverse=False, key=(lambda data: data[1]))\n",
    "\n",
    "for i in emp_list_sorted:\n",
    "    print(i[1],i[5])"
   ]
  },
  {
   "cell_type": "code",
   "execution_count": 244,
   "metadata": {},
   "outputs": [
    {
     "name": "stdout",
     "output_type": "stream",
     "text": [
      "Abel 11000 0.3\n",
      "Ande 6400 0.1\n",
      "Atkinson 2800 \n",
      "Austin 4800 \n",
      "Baer 10000 \n",
      "Baida 2900 \n",
      "Banda 6200 0.1\n",
      "Bates 7300 0.15\n",
      "Bell 4000 \n",
      "Bernstein 9500 0.25\n",
      "Bissot 3300 \n",
      "Bloom 10000 0.2\n",
      "Bull 4100 \n",
      "Cabrio 3000 \n",
      "Cambrault 11000 0.3\n",
      "Cambrault 7500 0.2\n",
      "Chen 8200 \n",
      "Chung 3800 \n",
      "Colmenares 2500 \n",
      "Davies 3100 \n",
      "De Haan 17000 \n",
      "Dellinger 3400 \n",
      "Dilly 3600 \n",
      "Doran 7500 0.3\n",
      "Ernst 6000 \n",
      "Errazuriz 12000 0.3\n",
      "Everett 3900 \n",
      "Faviet 9000 \n",
      "Fay 6000 \n",
      "Feeney 3000 \n",
      "Fleaur 3100 \n",
      "Fox 9600 0.2\n",
      "Fripp 8200 \n",
      "Gates 2900 \n",
      "Gee 2400 \n",
      "Geoni 2800 \n",
      "Gietz 8300 \n",
      "Grant 2600 \n",
      "Grant 7000 0.15\n",
      "Greenberg 12008 \n",
      "Greene 9500 0.15\n",
      "Hall 9000 0.25\n",
      "Hartstein 13000 \n",
      "Higgins 12008 \n",
      "Himuro 2600 \n",
      "Hunold 9000 \n",
      "Hutton 8800 0.25\n",
      "Johnson 6200 0.1\n",
      "Jones 2800 \n",
      "Kaufling 7900 \n",
      "Khoo 3100 \n",
      "King 10000 0.35\n",
      "King 24000 \n",
      "Kochhar 17000 \n",
      "Kumar 6100 0.1\n",
      "LAST_NAME SALARY COMMISSION_PCT\n",
      "Ladwig 3600 \n",
      "Landry 2400 \n",
      "Lee 6800 0.1\n",
      "Livingston 8400 0.2\n",
      "Lorentz 4200 \n",
      "Mallin 3300 \n",
      "Markle 2200 \n",
      "Marlow 2500 \n",
      "Marvins 7200 0.1\n",
      "Matos 2600 \n",
      "Mavris 6500 \n",
      "McCain 3200 \n",
      "McEwen 9000 0.35\n",
      "Mikkilineni 2700 \n",
      "Mourgos 5800 \n",
      "Nayer 3200 \n",
      "OConnell 2600 \n",
      "Olsen 8000 0.2\n",
      "Olson 2100 \n",
      "Ozer 11500 0.25\n",
      "Partners 13500 0.3\n",
      "Pataballa 4800 \n",
      "Patel 2500 \n",
      "Perkins 2500 \n",
      "Philtanker 2200 \n",
      "Popp 6900 \n",
      "Rajs 3500 \n",
      "Raphaely 11000 \n",
      "Rogers 2900 \n",
      "Russell 14000 0.4\n",
      "Sarchand 4200 \n",
      "Sciarra 7700 \n",
      "Seo 2700 \n",
      "Sewall 7000 0.25\n",
      "Smith 7400 0.15\n",
      "Smith 8000 0.3\n",
      "Stiles 3200 \n",
      "Sullivan 2500 \n",
      "Sully 9500 0.35\n",
      "Taylor 3200 \n",
      "Taylor 8600 0.2\n",
      "Tobias 2800 \n",
      "Tucker 10000 0.3\n",
      "Tuvault 7000 0.15\n",
      "Urman 7800 \n",
      "Vargas 2500 \n",
      "Vishney 10500 0.25\n",
      "Vollman 6500 \n",
      "Walsh 3100 \n",
      "Weiss 8000 \n",
      "Whalen 4400 \n",
      "Zlotkey 10500 0.2\n"
     ]
    }
   ],
   "source": [
    "#정렬 + 정렬 할려면? itemgetter(2,7) 에 정렬할 키값들을 입력해주면됨\n",
    "\n",
    "#위에 함수 만들거나 람다로 만들거나 하는게  불편하니까.... 아래 모듈이 제공됨\n",
    "from operator import itemgetter\n",
    "\n",
    "file = open(\"c:\\R\\emp.csv\",\"r\")\n",
    "emp_csv = csv.reader(file)\n",
    "emp_list=[]\n",
    "for i in emp_csv:\n",
    "    emp_list.append(i)\n",
    "emp_list_sorted = sorted(emp_list, reverse=False, key=itemgetter(2,7))\n",
    "#emp_list_sorted = sorted(emp_list, reverse=False, key=(lambda x: [x[2],x[7]]))\n",
    "\n",
    "emp_list_sorted\n",
    "\n",
    "for i in emp_list_sorted:\n",
    "    print(i[2],i[7],i[8])\n"
   ]
  },
  {
   "cell_type": "code",
   "execution_count": null,
   "metadata": {},
   "outputs": [],
   "source": [
    "[문제104] Job ST_CLERK인 사원들의 이름과 입사일과 Job을 출력하는데 가장 최근에 입사한 사원부터\n",
    "\t출력하세요."
   ]
  },
  {
   "cell_type": "code",
   "execution_count": 214,
   "metadata": {},
   "outputs": [
    {
     "name": "stdout",
     "output_type": "stream",
     "text": [
      "137 Renske 2003/07/14\n",
      "141 Trenna 2003/10/17\n",
      "133 Jason 2004/06/14\n",
      "142 Curtis 2005/01/29\n",
      "131 James 2005/02/16\n",
      "125 Julia 2005/07/16\n",
      "129 Laura 2005/08/20\n",
      "138 Stephen 2005/10/26\n",
      "130 Mozhe 2005/10/30\n",
      "139 John 2006/02/12\n",
      "143 Randall 2006/03/15\n",
      "140 Joshua 2006/04/06\n",
      "144 Peter 2006/07/09\n",
      "134 Michael 2006/08/26\n",
      "126 Irene 2006/09/28\n",
      "127 James 2007/01/14\n",
      "132 TJ 2007/04/10\n",
      "135 Ki 2007/12/12\n",
      "136 Hazel 2008/02/06\n",
      "128 Steven 2008/03/08\n"
     ]
    },
    {
     "data": {
      "text/plain": [
       "[None,\n",
       " None,\n",
       " None,\n",
       " None,\n",
       " None,\n",
       " None,\n",
       " None,\n",
       " None,\n",
       " None,\n",
       " None,\n",
       " None,\n",
       " None,\n",
       " None,\n",
       " None,\n",
       " None,\n",
       " None,\n",
       " None,\n",
       " None,\n",
       " None,\n",
       " None]"
      ]
     },
     "execution_count": 214,
     "metadata": {},
     "output_type": "execute_result"
    }
   ],
   "source": [
    "from operator import itemgetter\n",
    "import csv\n",
    "\n",
    "file = open(\"c:\\R\\emp.csv\",\"r\")\n",
    "emp_csv = csv.reader(file)\n",
    "\n",
    "emp_list = []\n",
    "[emp_list.append(i) for i in emp_csv if i[6] == 'ST_CLERK']\n",
    "\n",
    "#sorted_list = sorted(emp_list, reverse = False, key=(lambda column: column[5])) #lambda 사용\n",
    "sorted_list = sorted(emp_list, reverse = False, key=itemgetter(5))#itemgetter 사용\n",
    "[print(i[0],i[1],i[5]) for i in sorted_list]\n"
   ]
  },
  {
   "cell_type": "code",
   "execution_count": null,
   "metadata": {},
   "outputs": [],
   "source": [
    "[문제 105] 부서별 급여의 총액을 구하세요"
   ]
  },
  {
   "cell_type": "code",
   "execution_count": 155,
   "metadata": {},
   "outputs": [
    {
     "name": "stdout",
     "output_type": "stream",
     "text": [
      "AD_PRES 24000.0\n",
      "SA_REP 250500.0\n",
      "MK_REP 6000.0\n",
      "AD_VP 34000.0\n",
      "FI_ACCOUNT 40500.0\n",
      "ST_CLERK 55700.0\n",
      "FI_MGR 13208.8\n",
      "AC_ACCOUNT 8300.0\n",
      "ST_MAN 36400.0\n",
      "AD_ASST 4400.0\n",
      "PU_CLERK 13900.0\n",
      "MK_MAN 13000.0\n",
      "PR_REP 10000.0\n",
      "AC_MGR 12008.0\n",
      "SA_MAN 61000.0\n",
      "HR_REP 6500.0\n",
      "PU_MAN 11000.0\n",
      "SH_CLERK 64300.0\n",
      "IT_PROG 28800.0\n"
     ]
    }
   ],
   "source": [
    "import csv\n",
    "\n",
    "file = open(\"c:\\python\\emp1.csv\",\"r\")\n",
    "emp_csv = csv.reader(file)\n",
    "\n",
    "emp_list = []\n",
    "[emp_list.append(i) for i in emp_csv]\n",
    "\n",
    "job_list = []\n",
    "[job_list.append(i[2]) for i in emp_list]\n",
    "job_list=set(job_list)\n",
    "\n",
    "\n",
    "for i in job_list:\n",
    "    sal = 0\n",
    "    for n in emp_list:\n",
    "        if n[2] == i:\n",
    "            sal += float(n[5])        \n",
    "    print(i,sal)    "
   ]
  },
  {
   "cell_type": "code",
   "execution_count": 150,
   "metadata": {},
   "outputs": [
    {
     "name": "stdout",
     "output_type": "stream",
     "text": [
      "AD_PRES 24000.0\n",
      "AD_VP 34000.0\n",
      "IT_PROG 28800.0\n",
      "FI_MGR 13208.8\n",
      "FI_ACCOUNT 40500.0\n",
      "PU_MAN 11000.0\n",
      "PU_CLERK 13900.0\n",
      "ST_MAN 36400.0\n",
      "ST_CLERK 55700.0\n",
      "SA_MAN 61000.0\n",
      "SA_REP 250500.0\n",
      "SH_CLERK 64300.0\n",
      "AD_ASST 4400.0\n",
      "MK_MAN 13000.0\n",
      "MK_REP 6000.0\n",
      "HR_REP 6500.0\n",
      "PR_REP 10000.0\n",
      "AC_MGR 12008.0\n",
      "AC_ACCOUNT 8300.0\n"
     ]
    }
   ],
   "source": [
    "#dictionary 이용\n",
    "import csv\n",
    "\n",
    "file = open(\"c:\\python\\emp1.csv\",\"r\")\n",
    "emp_csv = csv.reader(file)\n",
    "dept_sum={}\n",
    "for emp_list in emp_csv:\n",
    "    if emp_list[2] in dept_sum:\n",
    "        dept_sum[emp_list[2]] = float(dept_sum[emp_list[2]])+float(emp_list[5])\n",
    "    else:\n",
    "        dept_sum[emp_list[2]] = float(emp_list[5])\n",
    "\n",
    "for k,v in dept_sum.items():\n",
    "    print(k,v)      "
   ]
  },
  {
   "cell_type": "code",
   "execution_count": null,
   "metadata": {},
   "outputs": [],
   "source": [
    "[숙제] 105번 문제를 아래처럼 정렬해서 출력해주세요\n",
    "\n",
    "10 4400.0\n",
    "20 24900.0\n",
    "30 24900.0\n",
    "40 6500.0\n",
    "...."
   ]
  },
  {
   "cell_type": "code",
   "execution_count": 1,
   "metadata": {},
   "outputs": [
    {
     "data": {
      "text/plain": [
       "[['0', 7000.0],\n",
       " ['10', 4400.0],\n",
       " ['20', 19000.0],\n",
       " ['30', 24900.0],\n",
       " ['40', 6500.0],\n",
       " ['50', 156400.0],\n",
       " ['60', 28800.0],\n",
       " ['70', 10000.0],\n",
       " ['80', 304500.0],\n",
       " ['90', 58000.0],\n",
       " ['100', 53708.8],\n",
       " ['110', 8300.0],\n",
       " ['510', 12008.0]]"
      ]
     },
     "execution_count": 1,
     "metadata": {},
     "output_type": "execute_result"
    }
   ],
   "source": [
    "import csv\n",
    "from operator import itemgetter\n",
    "\n",
    "file = open(\"c:\\python\\emp1.csv\",\"r\")\n",
    "emp_csv = csv.reader(file)\n",
    "\n",
    "emp_list = []\n",
    "[emp_list.append(i) for i in emp_csv]\n",
    "\n",
    "job_id = {}\n",
    "for i in emp_list:\n",
    "    if i[7] in job_id:\n",
    "        job_id[i[7]] = float(job_id[i[7]])+float(i[5])\n",
    "    else:\n",
    "        job_id[i[7]] = float(i[5])\n",
    "\n",
    "job_sum = []\n",
    "for k,v in job_id.items():\n",
    "    if k == '':\n",
    "        job_sum.append(['0',v])     #null 값 있으면 정렬이 제대로 안됨\n",
    "    else:\n",
    "        job_sum.append([k,v])\n",
    "\n",
    "job_sum_s = sorted(job_sum, reverse= False, key=(lambda data: int(data[0])))\n",
    "job_sum_s\n"
   ]
  },
  {
   "cell_type": "code",
   "execution_count": null,
   "metadata": {},
   "outputs": [],
   "source": []
  },
  {
   "cell_type": "code",
   "execution_count": null,
   "metadata": {},
   "outputs": [],
   "source": []
  },
  {
   "cell_type": "code",
   "execution_count": null,
   "metadata": {},
   "outputs": [],
   "source": []
  },
  {
   "cell_type": "code",
   "execution_count": null,
   "metadata": {},
   "outputs": [],
   "source": []
  }
 ],
 "metadata": {
  "kernelspec": {
   "display_name": "Python 3",
   "language": "python",
   "name": "python3"
  },
  "language_info": {
   "codemirror_mode": {
    "name": "ipython",
    "version": 3
   },
   "file_extension": ".py",
   "mimetype": "text/x-python",
   "name": "python",
   "nbconvert_exporter": "python",
   "pygments_lexer": "ipython3",
   "version": "3.7.3"
  }
 },
 "nbformat": 4,
 "nbformat_minor": 2
}
