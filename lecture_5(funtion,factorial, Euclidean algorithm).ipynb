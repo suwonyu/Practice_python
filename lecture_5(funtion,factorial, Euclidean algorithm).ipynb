{
 "cells": [
  {
   "cell_type": "code",
   "execution_count": null,
   "metadata": {},
   "outputs": [],
   "source": [
    "  ㅁ 함수\n",
    "\t반복되는 코드를 하나로 묶어서 처리하는 방법\n",
    "\t기능의 프로그램\n",
    "\n",
    "def 함수이름(인수,인수,...)\n",
    "\t수행할 문장1\n",
    "\t수행할 문장2\n",
    "\t.....\n",
    "\treturn 값   \t#필수아님 optional\n",
    "\n",
    "함수이름()\t#함수 "
   ]
  },
  {
   "cell_type": "code",
   "execution_count": null,
   "metadata": {},
   "outputs": [],
   "source": [
    "[문제60] 함수에 두개의 숫자를 인수값으로 받아서 값을 비교하는 프로그램을 작성하세요."
   ]
  },
  {
   "cell_type": "code",
   "execution_count": 1,
   "metadata": {},
   "outputs": [],
   "source": [
    "def yu(x,y):\n",
    "    if x==y:\n",
    "        print('{}와 {}는 같다.'.format(x,y))\n",
    "    elif x>y:\n",
    "        print('{}는 {}보다 크다.'.format(x,y))\n",
    "    elif x<y:\n",
    "        print('{}는 {}보다 작다.'.format(x,y))\n",
    "        "
   ]
  },
  {
   "cell_type": "code",
   "execution_count": 2,
   "metadata": {},
   "outputs": [
    {
     "name": "stdout",
     "output_type": "stream",
     "text": [
      "11와 11는 같다.\n"
     ]
    }
   ],
   "source": [
    "yu(11,11)"
   ]
  },
  {
   "cell_type": "code",
   "execution_count": null,
   "metadata": {},
   "outputs": [],
   "source": [
    "[문제61] 두 인수값을 받아서 합한 값을 리턴해주는 함수를 작성하세요."
   ]
  },
  {
   "cell_type": "code",
   "execution_count": 3,
   "metadata": {},
   "outputs": [],
   "source": [
    "def add_fun(x,y):\n",
    "    return(x+y)"
   ]
  },
  {
   "cell_type": "code",
   "execution_count": 4,
   "metadata": {},
   "outputs": [
    {
     "data": {
      "text/plain": [
       "4"
      ]
     },
     "execution_count": 4,
     "metadata": {},
     "output_type": "execute_result"
    }
   ],
   "source": [
    "add_fun(1,3)"
   ]
  },
  {
   "cell_type": "code",
   "execution_count": null,
   "metadata": {},
   "outputs": [],
   "source": [
    "[문제63] 여러 숫자를 인수값으로 받아서 합과 평균을 출력하는 aggF함수를 생성하세요."
   ]
  },
  {
   "cell_type": "code",
   "execution_count": 7,
   "metadata": {},
   "outputs": [],
   "source": [
    "def aggF(*nums):\n",
    "    re_sum = 0\n",
    "    re_ave = 0\n",
    "    for i in nums:\n",
    "        re_sum += i\n",
    "    re_ave = re_sum/len(nums)\n",
    "    \n",
    "    print('인수들의 합은 :%s입니다.'%re_sum)\n",
    "    print('인수들의 평균은 : %s입니다.'%re_ave)\n",
    "        \n",
    "        "
   ]
  },
  {
   "cell_type": "code",
   "execution_count": 8,
   "metadata": {},
   "outputs": [
    {
     "name": "stdout",
     "output_type": "stream",
     "text": [
      "인수들의 합은 :10입니다.\n",
      "인수들의 평균은 : 2.5입니다.\n"
     ]
    }
   ],
   "source": [
    "aggF(1,2,3,4)"
   ]
  },
  {
   "cell_type": "code",
   "execution_count": null,
   "metadata": {},
   "outputs": [],
   "source": [
    "## 인수값에 기본값 처리해서 핸들링하기\n",
    "\t\n",
    "def f3(name,age,gender=\"M\"):\t#gender 기본값을 M으로 처리\n",
    "    print(\"이름은 \", name)\n",
    "    print(\"나이는 \", age)\n",
    "    if gender == \"M\":\n",
    "        print(\"남자\")\n",
    "    else:\t\t\t#gender 가 M이 아니면 여자로 출력처리\n",
    "        print(\"여자\")\n",
    "        \n",
    "\n",
    "##주의 : 기본값이 들어가는 인수는 무조건 맨 뒤에 나열해야된다.\t오류남\n"
   ]
  },
  {
   "cell_type": "code",
   "execution_count": 10,
   "metadata": {},
   "outputs": [],
   "source": [
    "##리턴값이 없는 리턴처리로 exception 핸들링 하기\n",
    "\n",
    "def f2(arg):\n",
    "    if arg == 0:\n",
    "        return\n",
    "    print(arg,\"값입니다..\")\n",
    "\n",
    "f2(0)"
   ]
  },
  {
   "cell_type": "code",
   "execution_count": 11,
   "metadata": {},
   "outputs": [
    {
     "name": "stdout",
     "output_type": "stream",
     "text": [
      "x변수값은  10\n",
      "x변수값은  20\n",
      "10\n"
     ]
    }
   ],
   "source": [
    "## global 변수와 local 변수의 차이\n",
    "\n",
    "x = 10 #글로벌 변수(global), 변수는 프로그램이 종료될때까지 어디서든지 사용\n",
    "\n",
    "def f4(x):\n",
    "    print('x변수값은 ',x)\n",
    "    x=20 # 지역변수, 로컬변수, 함수안에서만 사용한다.\n",
    "    print('x변수값은 ',x)\n",
    "\n",
    "f4(x)\n",
    "print(x)\n",
    "# 로컬변수 값이 바뀌어도 같은이름의 글로벌 변수값에는 영향이 없음"
   ]
  },
  {
   "cell_type": "code",
   "execution_count": 12,
   "metadata": {},
   "outputs": [
    {
     "name": "stdout",
     "output_type": "stream",
     "text": [
      "x변수값은  20\n",
      "20\n"
     ]
    }
   ],
   "source": [
    "  ## 함수 내에서 global 변수에 영향주기\n",
    "x = 10 \n",
    "\n",
    "def f4(arg):\n",
    "    global x\t#글로벌 변수 키워드를 넣어서 글로벌 변수가 작동되게함.\n",
    "    x=20 \n",
    "    print('x변수값은 ',x)\n",
    "\n",
    "f4(x)\n",
    "print(x)"
   ]
  },
  {
   "cell_type": "code",
   "execution_count": null,
   "metadata": {},
   "outputs": [],
   "source": [
    "  ## global변수 키워드 사용하는것은 위험부담이 있기 때문에 \n",
    "        #return 을 사용해서 오버라이트 하는경우가 많다."
   ]
  },
  {
   "cell_type": "code",
   "execution_count": null,
   "metadata": {},
   "outputs": [],
   "source": [
    "[문제64] 입력값을 더하는 함수를 작성하세요.\n",
    "\n",
    ">>> print(add(2))\n",
    "2\n",
    "\n",
    ">>> print(add(8))\n",
    "10\n"
   ]
  },
  {
   "cell_type": "code",
   "execution_count": 17,
   "metadata": {},
   "outputs": [],
   "source": [
    "n = 0\n",
    "def add(x):\n",
    "    global n\n",
    "    n += x\n",
    "    return(n)\n",
    "    "
   ]
  },
  {
   "cell_type": "code",
   "execution_count": 18,
   "metadata": {},
   "outputs": [
    {
     "name": "stdout",
     "output_type": "stream",
     "text": [
      "2\n"
     ]
    }
   ],
   "source": [
    "print(add(2))"
   ]
  },
  {
   "cell_type": "code",
   "execution_count": 19,
   "metadata": {},
   "outputs": [
    {
     "name": "stdout",
     "output_type": "stream",
     "text": [
      "10\n"
     ]
    }
   ],
   "source": [
    "print(add(8))"
   ]
  },
  {
   "cell_type": "code",
   "execution_count": null,
   "metadata": {},
   "outputs": [],
   "source": [
    "[문제65] 아래와 같이 변수에 값이 들어 있습니다. \n",
    "exchang함수에 x변수에 값을 넣으면 y로 변환하는 함수를 만드세요.\n",
    "\n",
    "x = [\"귀도\",\"반\",\"로섬\"]\n",
    "y = [\"Guido\",\"van\", \"Rossum\"]\n"
   ]
  },
  {
   "cell_type": "code",
   "execution_count": 32,
   "metadata": {},
   "outputs": [],
   "source": [
    "x = [\"귀도\",\"반\",\"로섬\"]\n",
    "y = [\"Guido\",\"van\", \"Rossum\"]"
   ]
  },
  {
   "cell_type": "code",
   "execution_count": 45,
   "metadata": {},
   "outputs": [],
   "source": [
    "def exchang(x):\n",
    "    x = x[:]   #deepcopy 연산자\n",
    "    for i in range(len(x)):\n",
    "        x[i] = y[i]\n",
    "    return x\n",
    "    "
   ]
  },
  {
   "cell_type": "code",
   "execution_count": 46,
   "metadata": {},
   "outputs": [
    {
     "data": {
      "text/plain": [
       "['Guido', 'van', 'Rossum']"
      ]
     },
     "execution_count": 46,
     "metadata": {},
     "output_type": "execute_result"
    }
   ],
   "source": [
    "exchang(x)"
   ]
  },
  {
   "cell_type": "code",
   "execution_count": 47,
   "metadata": {},
   "outputs": [
    {
     "data": {
      "text/plain": [
       "['귀도', '반', '로섬']"
      ]
     },
     "execution_count": 47,
     "metadata": {},
     "output_type": "execute_result"
    }
   ],
   "source": [
    "x"
   ]
  },
  {
   "cell_type": "code",
   "execution_count": 40,
   "metadata": {},
   "outputs": [
    {
     "name": "stdout",
     "output_type": "stream",
     "text": [
      "['Guido', 'van', 'Rossum']\n",
      "['귀도', '반', '로섬']\n",
      "['Guido', 'van', 'Rossum']\n"
     ]
    }
   ],
   "source": [
    "# copy.deepcopy(arg) 사용하기\n",
    "def exchang(x):\n",
    "    import copy\n",
    "    x = copy.deepcopy(x)\n",
    "    for i in range(len(x)):\n",
    "        x[i] = y[i]\n",
    "    print(x)\n",
    "\n",
    "exchang(x)\n",
    "print(x)\n",
    "print(y)"
   ]
  },
  {
   "cell_type": "code",
   "execution_count": null,
   "metadata": {},
   "outputs": [],
   "source": [
    "[문제66]약수를 구하는 divisor 함수를 생성하세요.\n",
    "\n",
    "1이상의 숫자를 입력하세요: 100\n",
    "[100, 50, 25, 20, 10, 5, 4, 2, 1]"
   ]
  },
  {
   "cell_type": "code",
   "execution_count": 75,
   "metadata": {},
   "outputs": [],
   "source": [
    "def divisor():\n",
    "    arg = int(input('1이상의 숫자를 입력하세요:'))\n",
    "    n = arg  \n",
    "    re_divi = []\n",
    "    while n >= 1:\n",
    "        if arg%n == 0:\n",
    "            re_divi.append(n)\n",
    "        n -= 1\n",
    "    \n",
    "    print(re_divi)"
   ]
  },
  {
   "cell_type": "code",
   "execution_count": 76,
   "metadata": {},
   "outputs": [
    {
     "name": "stdout",
     "output_type": "stream",
     "text": [
      "1이상의 숫자를 입력하세요:100\n",
      "[100, 50, 25, 20, 10, 5, 4, 2, 1]\n"
     ]
    }
   ],
   "source": [
    "divisor()"
   ]
  },
  {
   "cell_type": "code",
   "execution_count": 83,
   "metadata": {},
   "outputs": [],
   "source": [
    "def divisor():\n",
    "    arg = int(input('1이상의 숫자를 입력하세요:'))\n",
    "    re_divi = []\n",
    "    for i in range(1,arg+1):\n",
    "        if arg%i == 0:\n",
    "            re_divi.append(i)\n",
    "            \n",
    "    print(re_divi)"
   ]
  },
  {
   "cell_type": "code",
   "execution_count": 89,
   "metadata": {},
   "outputs": [
    {
     "name": "stdout",
     "output_type": "stream",
     "text": [
      "1이상의 숫자를 입력하세요:39\n",
      "[1, 3, 13, 39]\n"
     ]
    }
   ],
   "source": [
    "divisor()"
   ]
  },
  {
   "cell_type": "code",
   "execution_count": null,
   "metadata": {},
   "outputs": [],
   "source": [
    "#루프 절반 줄여본다"
   ]
  },
  {
   "cell_type": "code",
   "execution_count": 101,
   "metadata": {},
   "outputs": [],
   "source": [
    "def divisor():\n",
    "    arg = int(input('1이상의 숫자를 입력하세요:'))    \n",
    "    re_divi = [arg]\n",
    "    if arg%2 == 0:\n",
    "        n = int(arg/2)\n",
    "        while n >= 1:\n",
    "            if arg%n == 0:\n",
    "                re_divi.append(n)\n",
    "            n -= 1\n",
    "    else:\n",
    "        n = int(arg/3)\n",
    "        while n >= 1:\n",
    "            if arg%n == 0:\n",
    "                re_divi.append(n)\n",
    "            n -= 1\n",
    "    print(re_divi)\n",
    "        "
   ]
  },
  {
   "cell_type": "code",
   "execution_count": 102,
   "metadata": {},
   "outputs": [
    {
     "name": "stdout",
     "output_type": "stream",
     "text": [
      "1이상의 숫자를 입력하세요:100\n",
      "[100, 50, 25, 20, 10, 5, 4, 2, 1]\n"
     ]
    }
   ],
   "source": [
    "divisor()"
   ]
  },
  {
   "cell_type": "code",
   "execution_count": 107,
   "metadata": {},
   "outputs": [],
   "source": [
    "def divisor():\n",
    "    arg = int(input('1이상의 숫자를 입력하세요:'))    \n",
    "    re_divi = [arg]\n",
    "    n = int(arg/2)\n",
    "    while n >= 1:\n",
    "        if arg%n == 0:\n",
    "            re_divi.append(n)\n",
    "        n -= 1\n",
    "    print(re_divi)        "
   ]
  },
  {
   "cell_type": "code",
   "execution_count": 109,
   "metadata": {},
   "outputs": [
    {
     "name": "stdout",
     "output_type": "stream",
     "text": [
      "1이상의 숫자를 입력하세요:111\n",
      "[111, 37, 3, 1]\n"
     ]
    }
   ],
   "source": [
    "divisor()"
   ]
  },
  {
   "cell_type": "code",
   "execution_count": null,
   "metadata": {},
   "outputs": [],
   "source": [
    "재귀호출 = 자기 자신을 다시 호출한다.\n",
    "\t = 반복문 + stack(스택) 의 구조를 나타낸다.\n",
    "\n"
   ]
  },
  {
   "cell_type": "code",
   "execution_count": 110,
   "metadata": {},
   "outputs": [
    {
     "name": "stdout",
     "output_type": "stream",
     "text": [
      "5\n",
      "4\n",
      "3\n",
      "2\n",
      "1\n",
      "종료\n"
     ]
    }
   ],
   "source": [
    "def cn(n):\n",
    "\tif n <= 0:\t\t#무한루프에 걸리지 않으려면 if절로 제한 걸어줘야됨\n",
    "\t\tprint(\"종료\")\t#종료라고 표시 안하고싶으면 return 공백으로 표현\n",
    "\telse:\n",
    "\t\tprint(n)\n",
    "\t\tcn(n-1)\n",
    "\n",
    "cn(5)\n"
   ]
  },
  {
   "cell_type": "code",
   "execution_count": null,
   "metadata": {},
   "outputs": [],
   "source": [
    "def cn(n):\n",
    "    if n <= 0:\n",
    "        print('종료')\n",
    "    else:\n",
    "        print(n)\n",
    "        cn(n-1)"
   ]
  },
  {
   "cell_type": "code",
   "execution_count": null,
   "metadata": {},
   "outputs": [],
   "source": [
    "[ 팩토리얼 짜보기]"
   ]
  },
  {
   "cell_type": "code",
   "execution_count": null,
   "metadata": {},
   "outputs": [],
   "source": [
    "[문제67]factorial함수를 생성하세요."
   ]
  },
  {
   "cell_type": "code",
   "execution_count": 140,
   "metadata": {},
   "outputs": [],
   "source": [
    "def factorial(arg):\n",
    "    if arg == 1 or arg ==0:\n",
    "        return 1\n",
    "    return factorial(arg-1)*arg"
   ]
  },
  {
   "cell_type": "code",
   "execution_count": 144,
   "metadata": {},
   "outputs": [
    {
     "data": {
      "text/plain": [
       "120"
      ]
     },
     "execution_count": 144,
     "metadata": {},
     "output_type": "execute_result"
    }
   ],
   "source": [
    "factorial(5)"
   ]
  },
  {
   "cell_type": "code",
   "execution_count": null,
   "metadata": {},
   "outputs": [],
   "source": [
    "[문제]재귀호출을 이용해서 최소공약수를 구하는 알고리즘을 만드세요\n",
    "\n",
    "1. 입력으로 두 수 m,n(m>n)이 들어온다.\n",
    "2. n이 0이라면, m을 출력하고 알고리즘을 종료한다.\n",
    "3. m이 n으로 나누어 떨어지면, n을 출력하고 알고리즘을 종료한다.\n",
    "4. 그렇지 않으면, m을 n으로 나눈 나머지를 새롭게 m에 대입하고, m과 n을 바꾸고 3번으로 돌아온다."
   ]
  },
  {
   "cell_type": "code",
   "execution_count": 177,
   "metadata": {},
   "outputs": [],
   "source": [
    "def ec_divi(m,n):\n",
    "    if m <= n:\n",
    "        return('입력 오류')\n",
    "    elif n == 0:\n",
    "        return m\n",
    "    return ec_divi(n,m%n)\n",
    "    "
   ]
  },
  {
   "cell_type": "code",
   "execution_count": 178,
   "metadata": {},
   "outputs": [
    {
     "data": {
      "text/plain": [
       "'입력 오류'"
      ]
     },
     "execution_count": 178,
     "metadata": {},
     "output_type": "execute_result"
    }
   ],
   "source": [
    "ec_divi(18,24)"
   ]
  },
  {
   "cell_type": "code",
   "execution_count": 179,
   "metadata": {},
   "outputs": [
    {
     "data": {
      "text/plain": [
       "6"
      ]
     },
     "execution_count": 179,
     "metadata": {},
     "output_type": "execute_result"
    }
   ],
   "source": [
    "ec_divi(24,18)"
   ]
  },
  {
   "cell_type": "code",
   "execution_count": null,
   "metadata": {},
   "outputs": [],
   "source": [
    "[문제68] stddev(2,3,1,7) 표준편차를 구하세요. stddev함수를 생성하세요.\n",
    "#stddev함수 안에 평균, 분산 구하는 함수를 만들어 풀어보세요~~ \n",
    "\n",
    "평균 = 관측값의 합 / 데이터수\n",
    "편차 = 관측값 - 평균\n",
    "편차 제곱합 = (편차**2)+(편차**2)\n",
    "분산 = 편차제곱합/데이터수-1(자유도)\n",
    "표준편차 = √분산"
   ]
  },
  {
   "cell_type": "code",
   "execution_count": 226,
   "metadata": {},
   "outputs": [],
   "source": [
    "import math\n",
    "\n",
    "def atddev(*arg):\n",
    "    def a_mean():\n",
    "        return sum(arg)/len(arg)\n",
    "    \n",
    "    def a_variance(m):\n",
    "        re_diviation = 0\n",
    "        for i in arg:\n",
    "            re_diviation += (i-m)**2\n",
    "        return re_diviation/(len(arg)-1)\n",
    "    v=a_variance(a_mean())    \n",
    "    return math.sqrt(v)"
   ]
  },
  {
   "cell_type": "code",
   "execution_count": 227,
   "metadata": {},
   "outputs": [
    {
     "data": {
      "text/plain": [
       "2.6299556396765835"
      ]
     },
     "execution_count": 227,
     "metadata": {},
     "output_type": "execute_result"
    }
   ],
   "source": [
    "atddev(2,3,1,7)"
   ]
  },
  {
   "cell_type": "code",
   "execution_count": null,
   "metadata": {},
   "outputs": [],
   "source": [
    "ㅁ 지금 만든 함수 저장해서 나중에 다시 불러와 사용하기\n",
    "\n",
    "\n",
    "import sys\n",
    "sys.path\n",
    "sys.path.append('C:\\\\python')\n",
    "sys.path\n",
    "\n",
    "#stddev.py 파일명이 모듈 이름이 됨\n",
    "import stddev\n",
    "\n",
    "#내가 만든 팜수를 사용가능\n",
    "round(stddev.stddev(2,3,1,7),6) #함수앞에 모듈명을 기입해줘야됨\n",
    "\n",
    "#함수사용시 모듈명 기입하기 싫을때\n",
    "\n",
    "from stddev import stddev\n",
    "\n",
    "round(stddev(2,3,1,7),6)\n",
    "\n",
    "# 모듈 안의 모든 함수를 지정해 모듈명 생략할때?\n",
    "\n",
    "from stddev import *\n",
    "\n",
    "#새로운 세션 시작할때는 귀찮더라도 sys경로 설정 부터 다시해줘야됨\n",
    "\n",
    "#매번 sys 경로 설정 하시 싫으면?\n",
    "#유저 환경변수 설정 다시 해줘야됨 \n",
    "변수이름 : PYTHONPATH \n",
    "변수값 : C:\\Python\n"
   ]
  },
  {
   "cell_type": "code",
   "execution_count": null,
   "metadata": {},
   "outputs": [],
   "source": [
    "ㅁ 평균과 분산 함수 만들기"
   ]
  },
  {
   "cell_type": "code",
   "execution_count": 228,
   "metadata": {},
   "outputs": [],
   "source": [
    "def b_mean(*arg):\n",
    "    return sum(arg)/len(arg)"
   ]
  },
  {
   "cell_type": "code",
   "execution_count": 273,
   "metadata": {},
   "outputs": [],
   "source": [
    "def b_variance(*arg):\n",
    "    def b_mean():\n",
    "        return sum(arg)/len(arg)\n",
    "    def b_ssd(m):\n",
    "        re_ssd = 0\n",
    "        for i in arg:\n",
    "            re_ssd += (i-m)**2\n",
    "        return re_ssd/(len(arg)-1)\n",
    "    return b_ssd(b_mean())\n",
    "    "
   ]
  },
  {
   "cell_type": "code",
   "execution_count": null,
   "metadata": {},
   "outputs": [],
   "source": [
    "분산 = 편차들의 제곱합을 자유도를 적용하여 데이터 수로으로 나눈값 \n",
    "        평균에서 어느정도 떨어져있는지의 정도를 나타낸다"
   ]
  },
  {
   "cell_type": "code",
   "execution_count": 274,
   "metadata": {},
   "outputs": [
    {
     "data": {
      "text/plain": [
       "6.916666666666667"
      ]
     },
     "execution_count": 274,
     "metadata": {},
     "output_type": "execute_result"
    }
   ],
   "source": [
    "b_variance(2,3,1,7)"
   ]
  },
  {
   "cell_type": "code",
   "execution_count": null,
   "metadata": {},
   "outputs": [],
   "source": []
  },
  {
   "cell_type": "code",
   "execution_count": null,
   "metadata": {},
   "outputs": [],
   "source": []
  },
  {
   "cell_type": "code",
   "execution_count": null,
   "metadata": {},
   "outputs": [],
   "source": []
  },
  {
   "cell_type": "code",
   "execution_count": null,
   "metadata": {},
   "outputs": [],
   "source": []
  },
  {
   "cell_type": "code",
   "execution_count": null,
   "metadata": {},
   "outputs": [],
   "source": []
  },
  {
   "cell_type": "code",
   "execution_count": null,
   "metadata": {},
   "outputs": [],
   "source": []
  },
  {
   "cell_type": "code",
   "execution_count": null,
   "metadata": {},
   "outputs": [],
   "source": []
  },
  {
   "cell_type": "code",
   "execution_count": null,
   "metadata": {},
   "outputs": [],
   "source": []
  },
  {
   "cell_type": "code",
   "execution_count": null,
   "metadata": {},
   "outputs": [],
   "source": []
  },
  {
   "cell_type": "code",
   "execution_count": null,
   "metadata": {},
   "outputs": [],
   "source": []
  },
  {
   "cell_type": "code",
   "execution_count": null,
   "metadata": {},
   "outputs": [],
   "source": []
  },
  {
   "cell_type": "code",
   "execution_count": null,
   "metadata": {},
   "outputs": [],
   "source": []
  },
  {
   "cell_type": "code",
   "execution_count": null,
   "metadata": {},
   "outputs": [],
   "source": []
  },
  {
   "cell_type": "code",
   "execution_count": null,
   "metadata": {},
   "outputs": [],
   "source": []
  },
  {
   "cell_type": "code",
   "execution_count": null,
   "metadata": {},
   "outputs": [],
   "source": []
  },
  {
   "cell_type": "code",
   "execution_count": null,
   "metadata": {},
   "outputs": [],
   "source": []
  }
 ],
 "metadata": {
  "kernelspec": {
   "display_name": "Python 3",
   "language": "python",
   "name": "python3"
  },
  "language_info": {
   "codemirror_mode": {
    "name": "ipython",
    "version": 3
   },
   "file_extension": ".py",
   "mimetype": "text/x-python",
   "name": "python",
   "nbconvert_exporter": "python",
   "pygments_lexer": "ipython3",
   "version": "3.7.3"
  }
 },
 "nbformat": 4,
 "nbformat_minor": 2
}
