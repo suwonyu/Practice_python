{
 "cells": [
  {
   "cell_type": "code",
   "execution_count": null,
   "metadata": {},
   "outputs": [],
   "source": [
    "[문제142] 이름이 g 로 끝나는 사원들의 이름, 급여 출력하세요"
   ]
  },
  {
   "cell_type": "code",
   "execution_count": 1,
   "metadata": {},
   "outputs": [],
   "source": [
    "import pandas as pd\n",
    "from pandas import Series,DataFrame\n",
    "\n",
    "emp = pd.read_csv(\"c:\\python\\emp1.csv\",\n",
    "                 names=[\"empid\",\"name\",\"jov\",\"mgr\",\"hire_date\",\"sal\",\"comm\",\"deptno\"])\n",
    "        "
   ]
  },
  {
   "cell_type": "code",
   "execution_count": 4,
   "metadata": {},
   "outputs": [
    {
     "data": {
      "text/html": [
       "<div>\n",
       "<style scoped>\n",
       "    .dataframe tbody tr th:only-of-type {\n",
       "        vertical-align: middle;\n",
       "    }\n",
       "\n",
       "    .dataframe tbody tr th {\n",
       "        vertical-align: top;\n",
       "    }\n",
       "\n",
       "    .dataframe thead th {\n",
       "        text-align: right;\n",
       "    }\n",
       "</style>\n",
       "<table border=\"1\" class=\"dataframe\">\n",
       "  <thead>\n",
       "    <tr style=\"text-align: right;\">\n",
       "      <th></th>\n",
       "      <th>name</th>\n",
       "      <th>sal</th>\n",
       "    </tr>\n",
       "  </thead>\n",
       "  <tbody>\n",
       "    <tr>\n",
       "      <th>0</th>\n",
       "      <td>King</td>\n",
       "      <td>24000.0</td>\n",
       "    </tr>\n",
       "    <tr>\n",
       "      <th>8</th>\n",
       "      <td>Greenberg</td>\n",
       "      <td>13208.8</td>\n",
       "    </tr>\n",
       "    <tr>\n",
       "      <th>22</th>\n",
       "      <td>Kaufling</td>\n",
       "      <td>7900.0</td>\n",
       "    </tr>\n",
       "    <tr>\n",
       "      <th>37</th>\n",
       "      <td>Ladwig</td>\n",
       "      <td>3600.0</td>\n",
       "    </tr>\n",
       "    <tr>\n",
       "      <th>56</th>\n",
       "      <td>King</td>\n",
       "      <td>10000.0</td>\n",
       "    </tr>\n",
       "    <tr>\n",
       "      <th>88</th>\n",
       "      <td>Chung</td>\n",
       "      <td>3800.0</td>\n",
       "    </tr>\n",
       "  </tbody>\n",
       "</table>\n",
       "</div>"
      ],
      "text/plain": [
       "         name      sal\n",
       "0        King  24000.0\n",
       "8   Greenberg  13208.8\n",
       "22   Kaufling   7900.0\n",
       "37     Ladwig   3600.0\n",
       "56       King  10000.0\n",
       "88      Chung   3800.0"
      ]
     },
     "execution_count": 4,
     "metadata": {},
     "output_type": "execute_result"
    }
   ],
   "source": [
    "#lambda\n",
    "emp.loc[emp['name'].apply(lambda x : x[-1].lower())=='g',['name','sal']]"
   ]
  },
  {
   "cell_type": "code",
   "execution_count": 6,
   "metadata": {},
   "outputs": [
    {
     "data": {
      "text/html": [
       "<div>\n",
       "<style scoped>\n",
       "    .dataframe tbody tr th:only-of-type {\n",
       "        vertical-align: middle;\n",
       "    }\n",
       "\n",
       "    .dataframe tbody tr th {\n",
       "        vertical-align: top;\n",
       "    }\n",
       "\n",
       "    .dataframe thead th {\n",
       "        text-align: right;\n",
       "    }\n",
       "</style>\n",
       "<table border=\"1\" class=\"dataframe\">\n",
       "  <thead>\n",
       "    <tr style=\"text-align: right;\">\n",
       "      <th></th>\n",
       "      <th>name</th>\n",
       "      <th>sal</th>\n",
       "    </tr>\n",
       "  </thead>\n",
       "  <tbody>\n",
       "    <tr>\n",
       "      <th>0</th>\n",
       "      <td>King</td>\n",
       "      <td>24000.0</td>\n",
       "    </tr>\n",
       "    <tr>\n",
       "      <th>8</th>\n",
       "      <td>Greenberg</td>\n",
       "      <td>13208.8</td>\n",
       "    </tr>\n",
       "    <tr>\n",
       "      <th>22</th>\n",
       "      <td>Kaufling</td>\n",
       "      <td>7900.0</td>\n",
       "    </tr>\n",
       "    <tr>\n",
       "      <th>37</th>\n",
       "      <td>Ladwig</td>\n",
       "      <td>3600.0</td>\n",
       "    </tr>\n",
       "    <tr>\n",
       "      <th>56</th>\n",
       "      <td>King</td>\n",
       "      <td>10000.0</td>\n",
       "    </tr>\n",
       "    <tr>\n",
       "      <th>88</th>\n",
       "      <td>Chung</td>\n",
       "      <td>3800.0</td>\n",
       "    </tr>\n",
       "  </tbody>\n",
       "</table>\n",
       "</div>"
      ],
      "text/plain": [
       "         name      sal\n",
       "0        King  24000.0\n",
       "8   Greenberg  13208.8\n",
       "22   Kaufling   7900.0\n",
       "37     Ladwig   3600.0\n",
       "56       King  10000.0\n",
       "88      Chung   3800.0"
      ]
     },
     "execution_count": 6,
     "metadata": {},
     "output_type": "execute_result"
    }
   ],
   "source": [
    "# 함수 사용\n",
    "def ini(x):\n",
    "    if x[-1] == 'g':\n",
    "        return True\n",
    "    else:\n",
    "        return False\n",
    "    \n",
    "emp.loc[emp['name'].apply(ini),['name','sal']]"
   ]
  },
  {
   "cell_type": "code",
   "execution_count": null,
   "metadata": {},
   "outputs": [],
   "source": [
    "[문제143] 110번 사원의 급여보다 많이 받는 사원의 이름, 급여 출력하세요."
   ]
  },
  {
   "cell_type": "code",
   "execution_count": 15,
   "metadata": {
    "scrolled": true
   },
   "outputs": [
    {
     "data": {
      "text/html": [
       "<div>\n",
       "<style scoped>\n",
       "    .dataframe tbody tr th:only-of-type {\n",
       "        vertical-align: middle;\n",
       "    }\n",
       "\n",
       "    .dataframe tbody tr th {\n",
       "        vertical-align: top;\n",
       "    }\n",
       "\n",
       "    .dataframe thead th {\n",
       "        text-align: right;\n",
       "    }\n",
       "</style>\n",
       "<table border=\"1\" class=\"dataframe\">\n",
       "  <thead>\n",
       "    <tr style=\"text-align: right;\">\n",
       "      <th></th>\n",
       "      <th>name</th>\n",
       "      <th>sal</th>\n",
       "    </tr>\n",
       "  </thead>\n",
       "  <tbody>\n",
       "    <tr>\n",
       "      <th>0</th>\n",
       "      <td>King</td>\n",
       "      <td>24000.0</td>\n",
       "    </tr>\n",
       "    <tr>\n",
       "      <th>1</th>\n",
       "      <td>Kochhar</td>\n",
       "      <td>17000.0</td>\n",
       "    </tr>\n",
       "    <tr>\n",
       "      <th>2</th>\n",
       "      <td>De Haan</td>\n",
       "      <td>17000.0</td>\n",
       "    </tr>\n",
       "    <tr>\n",
       "      <th>3</th>\n",
       "      <td>Hunold</td>\n",
       "      <td>9000.0</td>\n",
       "    </tr>\n",
       "    <tr>\n",
       "      <th>8</th>\n",
       "      <td>Greenberg</td>\n",
       "      <td>13208.8</td>\n",
       "    </tr>\n",
       "    <tr>\n",
       "      <th>9</th>\n",
       "      <td>Faviet</td>\n",
       "      <td>9900.0</td>\n",
       "    </tr>\n",
       "    <tr>\n",
       "      <th>14</th>\n",
       "      <td>Raphaely</td>\n",
       "      <td>11000.0</td>\n",
       "    </tr>\n",
       "    <tr>\n",
       "      <th>45</th>\n",
       "      <td>Russell</td>\n",
       "      <td>14000.0</td>\n",
       "    </tr>\n",
       "    <tr>\n",
       "      <th>46</th>\n",
       "      <td>Partners</td>\n",
       "      <td>13500.0</td>\n",
       "    </tr>\n",
       "    <tr>\n",
       "      <th>47</th>\n",
       "      <td>Errazuriz</td>\n",
       "      <td>12000.0</td>\n",
       "    </tr>\n",
       "    <tr>\n",
       "      <th>48</th>\n",
       "      <td>Cambrault</td>\n",
       "      <td>11000.0</td>\n",
       "    </tr>\n",
       "    <tr>\n",
       "      <th>49</th>\n",
       "      <td>Zlotkey</td>\n",
       "      <td>10500.0</td>\n",
       "    </tr>\n",
       "    <tr>\n",
       "      <th>50</th>\n",
       "      <td>Tucker</td>\n",
       "      <td>10000.0</td>\n",
       "    </tr>\n",
       "    <tr>\n",
       "      <th>51</th>\n",
       "      <td>Bernstein</td>\n",
       "      <td>9500.0</td>\n",
       "    </tr>\n",
       "    <tr>\n",
       "      <th>52</th>\n",
       "      <td>Hall</td>\n",
       "      <td>9000.0</td>\n",
       "    </tr>\n",
       "    <tr>\n",
       "      <th>56</th>\n",
       "      <td>King</td>\n",
       "      <td>10000.0</td>\n",
       "    </tr>\n",
       "    <tr>\n",
       "      <th>57</th>\n",
       "      <td>Sully</td>\n",
       "      <td>9500.0</td>\n",
       "    </tr>\n",
       "    <tr>\n",
       "      <th>58</th>\n",
       "      <td>McEwen</td>\n",
       "      <td>9000.0</td>\n",
       "    </tr>\n",
       "    <tr>\n",
       "      <th>62</th>\n",
       "      <td>Vishney</td>\n",
       "      <td>10500.0</td>\n",
       "    </tr>\n",
       "    <tr>\n",
       "      <th>63</th>\n",
       "      <td>Greene</td>\n",
       "      <td>9500.0</td>\n",
       "    </tr>\n",
       "    <tr>\n",
       "      <th>68</th>\n",
       "      <td>Ozer</td>\n",
       "      <td>11500.0</td>\n",
       "    </tr>\n",
       "    <tr>\n",
       "      <th>69</th>\n",
       "      <td>Bloom</td>\n",
       "      <td>10000.0</td>\n",
       "    </tr>\n",
       "    <tr>\n",
       "      <th>70</th>\n",
       "      <td>Fox</td>\n",
       "      <td>9600.0</td>\n",
       "    </tr>\n",
       "    <tr>\n",
       "      <th>74</th>\n",
       "      <td>Abel</td>\n",
       "      <td>11000.0</td>\n",
       "    </tr>\n",
       "    <tr>\n",
       "      <th>75</th>\n",
       "      <td>Hutton</td>\n",
       "      <td>8800.0</td>\n",
       "    </tr>\n",
       "    <tr>\n",
       "      <th>76</th>\n",
       "      <td>Taylor</td>\n",
       "      <td>8600.0</td>\n",
       "    </tr>\n",
       "    <tr>\n",
       "      <th>77</th>\n",
       "      <td>Livingston</td>\n",
       "      <td>8400.0</td>\n",
       "    </tr>\n",
       "    <tr>\n",
       "      <th>101</th>\n",
       "      <td>Hartstein</td>\n",
       "      <td>13000.0</td>\n",
       "    </tr>\n",
       "    <tr>\n",
       "      <th>104</th>\n",
       "      <td>Baer</td>\n",
       "      <td>10000.0</td>\n",
       "    </tr>\n",
       "    <tr>\n",
       "      <th>105</th>\n",
       "      <td>Higgins</td>\n",
       "      <td>12008.0</td>\n",
       "    </tr>\n",
       "    <tr>\n",
       "      <th>106</th>\n",
       "      <td>Gietz</td>\n",
       "      <td>8300.0</td>\n",
       "    </tr>\n",
       "  </tbody>\n",
       "</table>\n",
       "</div>"
      ],
      "text/plain": [
       "           name      sal\n",
       "0          King  24000.0\n",
       "1       Kochhar  17000.0\n",
       "2       De Haan  17000.0\n",
       "3        Hunold   9000.0\n",
       "8     Greenberg  13208.8\n",
       "9        Faviet   9900.0\n",
       "14     Raphaely  11000.0\n",
       "45      Russell  14000.0\n",
       "46     Partners  13500.0\n",
       "47    Errazuriz  12000.0\n",
       "48    Cambrault  11000.0\n",
       "49      Zlotkey  10500.0\n",
       "50       Tucker  10000.0\n",
       "51    Bernstein   9500.0\n",
       "52         Hall   9000.0\n",
       "56         King  10000.0\n",
       "57        Sully   9500.0\n",
       "58       McEwen   9000.0\n",
       "62      Vishney  10500.0\n",
       "63       Greene   9500.0\n",
       "68         Ozer  11500.0\n",
       "69        Bloom  10000.0\n",
       "70          Fox   9600.0\n",
       "74         Abel  11000.0\n",
       "75       Hutton   8800.0\n",
       "76       Taylor   8600.0\n",
       "77   Livingston   8400.0\n",
       "101   Hartstein  13000.0\n",
       "104        Baer  10000.0\n",
       "105     Higgins  12008.0\n",
       "106       Gietz   8300.0"
      ]
     },
     "execution_count": 15,
     "metadata": {},
     "output_type": "execute_result"
    }
   ],
   "source": [
    "emp = pd.read_csv(\"c:\\python\\emp1.csv\",\n",
    "                 names=[\"empid\",\"name\",\"jov\",\"mgr\",\"hire_date\",\"sal\",\"comm\",\"deptno\"])\n",
    "sal = emp['sal'][emp['empid']==110]\n",
    "emp.loc[emp['sal'] > float(sal),['name','sal']]"
   ]
  },
  {
   "cell_type": "code",
   "execution_count": 21,
   "metadata": {},
   "outputs": [
    {
     "data": {
      "text/plain": [
       "array([100, 'King', 'AD_PRES', nan, '2003-06-17', 24000.0, nan, 90.0],\n",
       "      dtype=object)"
      ]
     },
     "execution_count": 21,
     "metadata": {},
     "output_type": "execute_result"
    }
   ],
   "source": [
    "emp.values[0]"
   ]
  },
  {
   "cell_type": "code",
   "execution_count": 22,
   "metadata": {},
   "outputs": [
    {
     "data": {
      "text/plain": [
       "Index(['empid', 'name', 'jov', 'mgr', 'hire_date', 'sal', 'comm', 'deptno'], dtype='object')"
      ]
     },
     "execution_count": 22,
     "metadata": {},
     "output_type": "execute_result"
    }
   ],
   "source": [
    "emp.columns[:]"
   ]
  },
  {
   "cell_type": "code",
   "execution_count": null,
   "metadata": {},
   "outputs": [],
   "source": []
  },
  {
   "cell_type": "code",
   "execution_count": null,
   "metadata": {},
   "outputs": [],
   "source": [
    "[문제144]관리자 사원의 이름, 입사일, 급여 출력하세요."
   ]
  },
  {
   "cell_type": "code",
   "execution_count": null,
   "metadata": {},
   "outputs": [],
   "source": [
    "emp=pd.read_csv(\"c:\\R\\emp.csv\",\n",
    "                names=[\"empid\",\"name\",\"job\",\"mgr\",\"hire_date\",\"sal\",\"comm\",\"deptno\"])\n"
   ]
  },
  {
   "cell_type": "code",
   "execution_count": 118,
   "metadata": {},
   "outputs": [
    {
     "data": {
      "text/plain": [
       "{nan,\n",
       " 100.0,\n",
       " 101.0,\n",
       " 102.0,\n",
       " 103.0,\n",
       " 108.0,\n",
       " 114.0,\n",
       " 120.0,\n",
       " 121.0,\n",
       " 122.0,\n",
       " 123.0,\n",
       " 124.0,\n",
       " 145.0,\n",
       " 146.0,\n",
       " 147.0,\n",
       " 148.0,\n",
       " 149.0,\n",
       " 201.0,\n",
       " 205.0}"
      ]
     },
     "execution_count": 118,
     "metadata": {},
     "output_type": "execute_result"
    }
   ],
   "source": [
    "set_mgr = set(emp['mgr'])\n",
    "set_mgr"
   ]
  },
  {
   "cell_type": "code",
   "execution_count": 120,
   "metadata": {},
   "outputs": [
    {
     "data": {
      "text/html": [
       "<div>\n",
       "<style scoped>\n",
       "    .dataframe tbody tr th:only-of-type {\n",
       "        vertical-align: middle;\n",
       "    }\n",
       "\n",
       "    .dataframe tbody tr th {\n",
       "        vertical-align: top;\n",
       "    }\n",
       "\n",
       "    .dataframe thead th {\n",
       "        text-align: right;\n",
       "    }\n",
       "</style>\n",
       "<table border=\"1\" class=\"dataframe\">\n",
       "  <thead>\n",
       "    <tr style=\"text-align: right;\">\n",
       "      <th></th>\n",
       "      <th>name</th>\n",
       "      <th>empid</th>\n",
       "      <th>hire_date</th>\n",
       "      <th>sal</th>\n",
       "    </tr>\n",
       "  </thead>\n",
       "  <tbody>\n",
       "    <tr>\n",
       "      <th>0</th>\n",
       "      <td>King</td>\n",
       "      <td>100</td>\n",
       "      <td>2003-06-17</td>\n",
       "      <td>24000.0</td>\n",
       "    </tr>\n",
       "    <tr>\n",
       "      <th>1</th>\n",
       "      <td>Kochhar</td>\n",
       "      <td>101</td>\n",
       "      <td>2005-09-21</td>\n",
       "      <td>17000.0</td>\n",
       "    </tr>\n",
       "    <tr>\n",
       "      <th>2</th>\n",
       "      <td>De Haan</td>\n",
       "      <td>102</td>\n",
       "      <td>2001-01-13</td>\n",
       "      <td>17000.0</td>\n",
       "    </tr>\n",
       "    <tr>\n",
       "      <th>3</th>\n",
       "      <td>Hunold</td>\n",
       "      <td>103</td>\n",
       "      <td>2006-01-03</td>\n",
       "      <td>9000.0</td>\n",
       "    </tr>\n",
       "    <tr>\n",
       "      <th>8</th>\n",
       "      <td>Greenberg</td>\n",
       "      <td>108</td>\n",
       "      <td>2002-08-17</td>\n",
       "      <td>13208.8</td>\n",
       "    </tr>\n",
       "    <tr>\n",
       "      <th>14</th>\n",
       "      <td>Raphaely</td>\n",
       "      <td>114</td>\n",
       "      <td>2002-12-07</td>\n",
       "      <td>11000.0</td>\n",
       "    </tr>\n",
       "    <tr>\n",
       "      <th>20</th>\n",
       "      <td>Weiss</td>\n",
       "      <td>120</td>\n",
       "      <td>2004-07-18</td>\n",
       "      <td>8000.0</td>\n",
       "    </tr>\n",
       "    <tr>\n",
       "      <th>21</th>\n",
       "      <td>Fripp</td>\n",
       "      <td>121</td>\n",
       "      <td>2005-04-10</td>\n",
       "      <td>8200.0</td>\n",
       "    </tr>\n",
       "    <tr>\n",
       "      <th>22</th>\n",
       "      <td>Kaufling</td>\n",
       "      <td>122</td>\n",
       "      <td>2003-05-01</td>\n",
       "      <td>7900.0</td>\n",
       "    </tr>\n",
       "    <tr>\n",
       "      <th>23</th>\n",
       "      <td>Vollman</td>\n",
       "      <td>123</td>\n",
       "      <td>2005-10-10</td>\n",
       "      <td>6500.0</td>\n",
       "    </tr>\n",
       "    <tr>\n",
       "      <th>24</th>\n",
       "      <td>Mourgos</td>\n",
       "      <td>124</td>\n",
       "      <td>2007-11-16</td>\n",
       "      <td>5800.0</td>\n",
       "    </tr>\n",
       "    <tr>\n",
       "      <th>45</th>\n",
       "      <td>Russell</td>\n",
       "      <td>145</td>\n",
       "      <td>2004-10-01</td>\n",
       "      <td>14000.0</td>\n",
       "    </tr>\n",
       "    <tr>\n",
       "      <th>46</th>\n",
       "      <td>Partners</td>\n",
       "      <td>146</td>\n",
       "      <td>2005-01-05</td>\n",
       "      <td>13500.0</td>\n",
       "    </tr>\n",
       "    <tr>\n",
       "      <th>47</th>\n",
       "      <td>Errazuriz</td>\n",
       "      <td>147</td>\n",
       "      <td>2005-03-10</td>\n",
       "      <td>12000.0</td>\n",
       "    </tr>\n",
       "    <tr>\n",
       "      <th>48</th>\n",
       "      <td>Cambrault</td>\n",
       "      <td>148</td>\n",
       "      <td>2007-10-15</td>\n",
       "      <td>11000.0</td>\n",
       "    </tr>\n",
       "    <tr>\n",
       "      <th>49</th>\n",
       "      <td>Zlotkey</td>\n",
       "      <td>149</td>\n",
       "      <td>2008-01-29</td>\n",
       "      <td>10500.0</td>\n",
       "    </tr>\n",
       "    <tr>\n",
       "      <th>101</th>\n",
       "      <td>Hartstein</td>\n",
       "      <td>201</td>\n",
       "      <td>2004-02-17</td>\n",
       "      <td>13000.0</td>\n",
       "    </tr>\n",
       "    <tr>\n",
       "      <th>105</th>\n",
       "      <td>Higgins</td>\n",
       "      <td>205</td>\n",
       "      <td>2002-06-07</td>\n",
       "      <td>12008.0</td>\n",
       "    </tr>\n",
       "  </tbody>\n",
       "</table>\n",
       "</div>"
      ],
      "text/plain": [
       "          name  empid   hire_date      sal\n",
       "0         King    100  2003-06-17  24000.0\n",
       "1      Kochhar    101  2005-09-21  17000.0\n",
       "2      De Haan    102  2001-01-13  17000.0\n",
       "3       Hunold    103  2006-01-03   9000.0\n",
       "8    Greenberg    108  2002-08-17  13208.8\n",
       "14    Raphaely    114  2002-12-07  11000.0\n",
       "20       Weiss    120  2004-07-18   8000.0\n",
       "21       Fripp    121  2005-04-10   8200.0\n",
       "22    Kaufling    122  2003-05-01   7900.0\n",
       "23     Vollman    123  2005-10-10   6500.0\n",
       "24     Mourgos    124  2007-11-16   5800.0\n",
       "45     Russell    145  2004-10-01  14000.0\n",
       "46    Partners    146  2005-01-05  13500.0\n",
       "47   Errazuriz    147  2005-03-10  12000.0\n",
       "48   Cambrault    148  2007-10-15  11000.0\n",
       "49     Zlotkey    149  2008-01-29  10500.0\n",
       "101  Hartstein    201  2004-02-17  13000.0\n",
       "105    Higgins    205  2002-06-07  12008.0"
      ]
     },
     "execution_count": 120,
     "metadata": {},
     "output_type": "execute_result"
    }
   ],
   "source": [
    "emp[['name','empid','hire_date','sal']][emp['empid'].isin(set_mgr)]"
   ]
  },
  {
   "cell_type": "code",
   "execution_count": 122,
   "metadata": {},
   "outputs": [
    {
     "name": "stdout",
     "output_type": "stream",
     "text": [
      "18\n"
     ]
    }
   ],
   "source": [
    "import  csv\n",
    "\n",
    "file = open(\"c:\\python\\emp1.csv\",'r')\n",
    "emp_csv = csv.reader(file)\n",
    "v_mgr = []\n",
    "for emp_list in emp_csv:\n",
    "    if (not emp_list[3] in v_mgr) & (emp_list[3] != ''):\n",
    "        v_mgr.append(emp_list[3])\n",
    "        \n",
    "print(len(v_mgr))"
   ]
  },
  {
   "cell_type": "code",
   "execution_count": 124,
   "metadata": {},
   "outputs": [
    {
     "name": "stdout",
     "output_type": "stream",
     "text": [
      "King 2003-06-17 24000\n",
      "Kochhar 2005-09-21 17000\n",
      "De Haan 2001-01-13 17000\n",
      "Hunold 2006-01-03 9000\n",
      "Greenberg 2002-08-17 13208.8\n",
      "Raphaely 2002-12-07 11000\n",
      "Weiss 2004-07-18 8000\n",
      "Fripp 2005-04-10 8200\n",
      "Kaufling 2003-05-01 7900\n",
      "Vollman 2005-10-10 6500\n",
      "Mourgos 2007-11-16 5800\n",
      "Russell 2004-10-01 14000\n",
      "Partners 2005-01-05 13500\n",
      "Errazuriz 2005-03-10 12000\n",
      "Cambrault 2007-10-15 11000\n",
      "Zlotkey 2008-01-29 10500\n",
      "Hartstein 2004-02-17 13000\n",
      "Higgins 2002-06-07 12008\n"
     ]
    }
   ],
   "source": [
    "file = open(\"c:\\python\\emp1.csv\",'r')\n",
    "emp_csv = csv.reader(file)\n",
    "for emp_list in emp_csv:\n",
    "    for mgr in v_mgr:\n",
    "        if emp_list[0] == mgr:\n",
    "            print(emp_list[1],  emp_list[4], emp_list[5])"
   ]
  },
  {
   "cell_type": "code",
   "execution_count": null,
   "metadata": {},
   "outputs": [],
   "source": [
    "\n",
    "#[선생님]\n",
    "\n",
    "import  pandas  as  pd\n",
    "emp = pd.read_csv(\"c:\\data\\emp.csv\", names = ['empid','name','job','mgr','hire_date','sal','comm','deptno'])\n",
    "print(emp[['name','hire_date','sal']][emp['empid'].isin (emp['mgr'])])"
   ]
  },
  {
   "cell_type": "code",
   "execution_count": null,
   "metadata": {},
   "outputs": [],
   "source": []
  },
  {
   "cell_type": "code",
   "execution_count": null,
   "metadata": {},
   "outputs": [],
   "source": [
    "[문제145]  101번 사원의 관리자 이름, 입사일, 급여정보를 출력하세요."
   ]
  },
  {
   "cell_type": "code",
   "execution_count": 34,
   "metadata": {
    "scrolled": true
   },
   "outputs": [
    {
     "data": {
      "text/html": [
       "<div>\n",
       "<style scoped>\n",
       "    .dataframe tbody tr th:only-of-type {\n",
       "        vertical-align: middle;\n",
       "    }\n",
       "\n",
       "    .dataframe tbody tr th {\n",
       "        vertical-align: top;\n",
       "    }\n",
       "\n",
       "    .dataframe thead th {\n",
       "        text-align: right;\n",
       "    }\n",
       "</style>\n",
       "<table border=\"1\" class=\"dataframe\">\n",
       "  <thead>\n",
       "    <tr style=\"text-align: right;\">\n",
       "      <th></th>\n",
       "      <th>name</th>\n",
       "      <th>hire_date</th>\n",
       "      <th>sal</th>\n",
       "    </tr>\n",
       "  </thead>\n",
       "  <tbody>\n",
       "    <tr>\n",
       "      <th>0</th>\n",
       "      <td>King</td>\n",
       "      <td>2003-06-17</td>\n",
       "      <td>24000.0</td>\n",
       "    </tr>\n",
       "  </tbody>\n",
       "</table>\n",
       "</div>"
      ],
      "text/plain": [
       "   name   hire_date      sal\n",
       "0  King  2003-06-17  24000.0"
      ]
     },
     "execution_count": 34,
     "metadata": {},
     "output_type": "execute_result"
    }
   ],
   "source": [
    "maid = emp['mgr'][emp['empid']==101].values[0] \n",
    "emp[['name','hire_date','sal']][emp['empid']== maid]"
   ]
  },
  {
   "cell_type": "code",
   "execution_count": null,
   "metadata": {},
   "outputs": [],
   "source": []
  },
  {
   "cell_type": "code",
   "execution_count": null,
   "metadata": {},
   "outputs": [],
   "source": [
    "############################################################################"
   ]
  },
  {
   "cell_type": "code",
   "execution_count": 36,
   "metadata": {},
   "outputs": [],
   "source": [
    "from pandas import Series,DataFrame\n",
    "import pandas as pd\n",
    "import numpy as np"
   ]
  },
  {
   "cell_type": "code",
   "execution_count": null,
   "metadata": {},
   "outputs": [],
   "source": []
  },
  {
   "cell_type": "code",
   "execution_count": 37,
   "metadata": {},
   "outputs": [
    {
     "data": {
      "text/plain": [
       "0    2.0\n",
       "1    4.0\n",
       "2    8.0\n",
       "3    NaN\n",
       "4    6.0\n",
       "dtype: float64"
      ]
     },
     "execution_count": 37,
     "metadata": {},
     "output_type": "execute_result"
    }
   ],
   "source": [
    "# s변수 입력\n",
    "s =  Series([2,4,8,np.nan,6])\n",
    "s"
   ]
  },
  {
   "cell_type": "code",
   "execution_count": null,
   "metadata": {},
   "outputs": [],
   "source": []
  },
  {
   "cell_type": "code",
   "execution_count": 38,
   "metadata": {},
   "outputs": [
    {
     "data": {
      "text/plain": [
       "20.0"
      ]
     },
     "execution_count": 38,
     "metadata": {},
     "output_type": "execute_result"
    }
   ],
   "source": [
    "s.sum()"
   ]
  },
  {
   "cell_type": "code",
   "execution_count": 39,
   "metadata": {},
   "outputs": [
    {
     "data": {
      "text/plain": [
       "20.0"
      ]
     },
     "execution_count": 39,
     "metadata": {},
     "output_type": "execute_result"
    }
   ],
   "source": [
    "s.sum(skipna=True)  # NULL 있어도 계산 하겠어"
   ]
  },
  {
   "cell_type": "code",
   "execution_count": 40,
   "metadata": {},
   "outputs": [
    {
     "data": {
      "text/plain": [
       "nan"
      ]
     },
     "execution_count": 40,
     "metadata": {},
     "output_type": "execute_result"
    }
   ],
   "source": [
    "s.sum(skipna=False) # NULL 있으면 계산 안하겠어"
   ]
  },
  {
   "cell_type": "code",
   "execution_count": 41,
   "metadata": {},
   "outputs": [
    {
     "data": {
      "text/plain": [
       "5.0"
      ]
     },
     "execution_count": 41,
     "metadata": {},
     "output_type": "execute_result"
    }
   ],
   "source": [
    "s.mean()  #평균"
   ]
  },
  {
   "cell_type": "code",
   "execution_count": 43,
   "metadata": {},
   "outputs": [
    {
     "data": {
      "text/plain": [
       "6.666666666666667"
      ]
     },
     "execution_count": 43,
     "metadata": {},
     "output_type": "execute_result"
    }
   ],
   "source": [
    "s.var()  #분산"
   ]
  },
  {
   "cell_type": "code",
   "execution_count": 44,
   "metadata": {},
   "outputs": [
    {
     "data": {
      "text/plain": [
       "2.581988897471611"
      ]
     },
     "execution_count": 44,
     "metadata": {},
     "output_type": "execute_result"
    }
   ],
   "source": [
    "s.std()   #표준편차"
   ]
  },
  {
   "cell_type": "code",
   "execution_count": 45,
   "metadata": {},
   "outputs": [
    {
     "data": {
      "text/plain": [
       "8.0"
      ]
     },
     "execution_count": 45,
     "metadata": {},
     "output_type": "execute_result"
    }
   ],
   "source": [
    "s.max()"
   ]
  },
  {
   "cell_type": "code",
   "execution_count": 46,
   "metadata": {},
   "outputs": [
    {
     "data": {
      "text/plain": [
       "2.0"
      ]
     },
     "execution_count": 46,
     "metadata": {},
     "output_type": "execute_result"
    }
   ],
   "source": [
    "s.min()"
   ]
  },
  {
   "cell_type": "code",
   "execution_count": 47,
   "metadata": {},
   "outputs": [
    {
     "data": {
      "text/plain": [
       "0     2.0\n",
       "1     6.0\n",
       "2    14.0\n",
       "3     NaN\n",
       "4    20.0\n",
       "dtype: float64"
      ]
     },
     "execution_count": 47,
     "metadata": {},
     "output_type": "execute_result"
    }
   ],
   "source": [
    "s.cumsum()  #누적합"
   ]
  },
  {
   "cell_type": "code",
   "execution_count": 48,
   "metadata": {},
   "outputs": [
    {
     "data": {
      "text/plain": [
       "0"
      ]
     },
     "execution_count": 48,
     "metadata": {},
     "output_type": "execute_result"
    }
   ],
   "source": [
    "s.idxmin()   # 가장 적은 값이 들어있는 인덱스 번호"
   ]
  },
  {
   "cell_type": "code",
   "execution_count": 49,
   "metadata": {},
   "outputs": [
    {
     "data": {
      "text/plain": [
       "2"
      ]
     },
     "execution_count": 49,
     "metadata": {},
     "output_type": "execute_result"
    }
   ],
   "source": [
    "s.idxmax()   # 가장 큰값이 들어있는 인덱스 번호"
   ]
  },
  {
   "cell_type": "code",
   "execution_count": 50,
   "metadata": {},
   "outputs": [
    {
     "data": {
      "text/plain": [
       "2.0"
      ]
     },
     "execution_count": 50,
     "metadata": {},
     "output_type": "execute_result"
    }
   ],
   "source": [
    "s[s.idxmin()]   #  idxmin 값 뽑아보기"
   ]
  },
  {
   "cell_type": "code",
   "execution_count": 51,
   "metadata": {},
   "outputs": [
    {
     "data": {
      "text/plain": [
       "8.0"
      ]
     },
     "execution_count": 51,
     "metadata": {},
     "output_type": "execute_result"
    }
   ],
   "source": [
    "s[s.idxmax()]   #  idxmax 값 뽑아보기"
   ]
  },
  {
   "cell_type": "code",
   "execution_count": 52,
   "metadata": {},
   "outputs": [
    {
     "data": {
      "text/plain": [
       "<bound method NDFrame.describe of 0    2.0\n",
       "1    4.0\n",
       "2    8.0\n",
       "3    NaN\n",
       "4    6.0\n",
       "dtype: float64>"
      ]
     },
     "execution_count": 52,
     "metadata": {},
     "output_type": "execute_result"
    }
   ],
   "source": [
    "s.describe    #  4분위 수"
   ]
  },
  {
   "cell_type": "code",
   "execution_count": 56,
   "metadata": {},
   "outputs": [
    {
     "data": {
      "text/plain": [
       "4"
      ]
     },
     "execution_count": 56,
     "metadata": {},
     "output_type": "execute_result"
    }
   ],
   "source": [
    "s.count()   # NULL을 제외한 건수가 나옴"
   ]
  },
  {
   "cell_type": "code",
   "execution_count": null,
   "metadata": {},
   "outputs": [],
   "source": [
    "len(s)    #  NULL을 포함한 건수가 나옴"
   ]
  },
  {
   "cell_type": "code",
   "execution_count": null,
   "metadata": {},
   "outputs": [],
   "source": []
  },
  {
   "cell_type": "code",
   "execution_count": 65,
   "metadata": {},
   "outputs": [
    {
     "data": {
      "text/html": [
       "<div>\n",
       "<style scoped>\n",
       "    .dataframe tbody tr th:only-of-type {\n",
       "        vertical-align: middle;\n",
       "    }\n",
       "\n",
       "    .dataframe tbody tr th {\n",
       "        vertical-align: top;\n",
       "    }\n",
       "\n",
       "    .dataframe thead th {\n",
       "        text-align: right;\n",
       "    }\n",
       "</style>\n",
       "<table border=\"1\" class=\"dataframe\">\n",
       "  <thead>\n",
       "    <tr style=\"text-align: right;\">\n",
       "      <th></th>\n",
       "      <th>영어</th>\n",
       "      <th>수학</th>\n",
       "      <th>국어</th>\n",
       "    </tr>\n",
       "  </thead>\n",
       "  <tbody>\n",
       "    <tr>\n",
       "      <th>홍길동</th>\n",
       "      <td>60</td>\n",
       "      <td>80</td>\n",
       "      <td>70</td>\n",
       "    </tr>\n",
       "    <tr>\n",
       "      <th>박찬호</th>\n",
       "      <td>50</td>\n",
       "      <td>75</td>\n",
       "      <td>83</td>\n",
       "    </tr>\n",
       "    <tr>\n",
       "      <th>손흥민</th>\n",
       "      <td>90</td>\n",
       "      <td>83</td>\n",
       "      <td>81</td>\n",
       "    </tr>\n",
       "  </tbody>\n",
       "</table>\n",
       "</div>"
      ],
      "text/plain": [
       "     영어  수학  국어\n",
       "홍길동  60  80  70\n",
       "박찬호  50  75  83\n",
       "손흥민  90  83  81"
      ]
     },
     "execution_count": 65,
     "metadata": {},
     "output_type": "execute_result"
    }
   ],
   "source": [
    "df = DataFrame([[60,80,70],[50,75,83],[90,83,81]],\n",
    "              index = ['홍길동','박찬호','손흥민'],\n",
    "              columns = ['영어','수학','국어'])\n",
    "df"
   ]
  },
  {
   "cell_type": "code",
   "execution_count": 59,
   "metadata": {},
   "outputs": [
    {
     "data": {
      "text/plain": [
       "영어    200\n",
       "수학    238\n",
       "국어    234\n",
       "dtype: int64"
      ]
     },
     "execution_count": 59,
     "metadata": {},
     "output_type": "execute_result"
    }
   ],
   "source": [
    "df.sum()"
   ]
  },
  {
   "cell_type": "code",
   "execution_count": 60,
   "metadata": {},
   "outputs": [
    {
     "data": {
      "text/plain": [
       "영어    200\n",
       "수학    238\n",
       "국어    234\n",
       "dtype: int64"
      ]
     },
     "execution_count": 60,
     "metadata": {},
     "output_type": "execute_result"
    }
   ],
   "source": [
    "df.sum(axis=0) # 열을 기준으로 더하기"
   ]
  },
  {
   "cell_type": "code",
   "execution_count": 61,
   "metadata": {},
   "outputs": [
    {
     "data": {
      "text/plain": [
       "홍길동    210\n",
       "박찬호    208\n",
       "손흥민    254\n",
       "dtype: int64"
      ]
     },
     "execution_count": 61,
     "metadata": {},
     "output_type": "execute_result"
    }
   ],
   "source": [
    "df.sum(axis=1) #행을 기준으로 더하기"
   ]
  },
  {
   "cell_type": "code",
   "execution_count": 62,
   "metadata": {},
   "outputs": [
    {
     "data": {
      "text/plain": [
       "영어    66.666667\n",
       "수학    79.333333\n",
       "국어    78.000000\n",
       "dtype: float64"
      ]
     },
     "execution_count": 62,
     "metadata": {},
     "output_type": "execute_result"
    }
   ],
   "source": [
    "df.mean()"
   ]
  },
  {
   "cell_type": "code",
   "execution_count": 63,
   "metadata": {},
   "outputs": [
    {
     "data": {
      "text/plain": [
       "홍길동    70.000000\n",
       "박찬호    69.333333\n",
       "손흥민    84.666667\n",
       "dtype: float64"
      ]
     },
     "execution_count": 63,
     "metadata": {},
     "output_type": "execute_result"
    }
   ],
   "source": [
    "df.mean(axis=1) # 행을 기준으로 평균 구하기"
   ]
  },
  {
   "cell_type": "code",
   "execution_count": 76,
   "metadata": {},
   "outputs": [
    {
     "data": {
      "text/html": [
       "<div>\n",
       "<style scoped>\n",
       "    .dataframe tbody tr th:only-of-type {\n",
       "        vertical-align: middle;\n",
       "    }\n",
       "\n",
       "    .dataframe tbody tr th {\n",
       "        vertical-align: top;\n",
       "    }\n",
       "\n",
       "    .dataframe thead th {\n",
       "        text-align: right;\n",
       "    }\n",
       "</style>\n",
       "<table border=\"1\" class=\"dataframe\">\n",
       "  <thead>\n",
       "    <tr style=\"text-align: right;\">\n",
       "      <th></th>\n",
       "      <th>영어</th>\n",
       "      <th>수학</th>\n",
       "      <th>국어</th>\n",
       "    </tr>\n",
       "  </thead>\n",
       "  <tbody>\n",
       "    <tr>\n",
       "      <th>홍길동</th>\n",
       "      <td>60.0</td>\n",
       "      <td>80.0</td>\n",
       "      <td>70.0</td>\n",
       "    </tr>\n",
       "    <tr>\n",
       "      <th>박찬호</th>\n",
       "      <td>50.0</td>\n",
       "      <td>75.0</td>\n",
       "      <td>83.0</td>\n",
       "    </tr>\n",
       "    <tr>\n",
       "      <th>손흥민</th>\n",
       "      <td>90.0</td>\n",
       "      <td>83.0</td>\n",
       "      <td>81.0</td>\n",
       "    </tr>\n",
       "    <tr>\n",
       "      <th>제임스</th>\n",
       "      <td>100.0</td>\n",
       "      <td>NaN</td>\n",
       "      <td>90.0</td>\n",
       "    </tr>\n",
       "  </tbody>\n",
       "</table>\n",
       "</div>"
      ],
      "text/plain": [
       "        영어    수학    국어\n",
       "홍길동   60.0  80.0  70.0\n",
       "박찬호   50.0  75.0  83.0\n",
       "손흥민   90.0  83.0  81.0\n",
       "제임스  100.0   NaN  90.0"
      ]
     },
     "execution_count": 76,
     "metadata": {},
     "output_type": "execute_result"
    }
   ],
   "source": [
    "# 데이터 프레임에 제임스 추가\n",
    "df.loc['제임스',['영어','수학','국어']] = [100,np.nan,90]\n",
    "df"
   ]
  },
  {
   "cell_type": "code",
   "execution_count": null,
   "metadata": {},
   "outputs": [],
   "source": [
    "df.at['제임스','영어']=100\n",
    "df.at['제임스','수학']=np.nan\n",
    "df.at['제임스','국어']=90"
   ]
  },
  {
   "cell_type": "code",
   "execution_count": 85,
   "metadata": {},
   "outputs": [
    {
     "data": {
      "text/html": [
       "<div>\n",
       "<style scoped>\n",
       "    .dataframe tbody tr th:only-of-type {\n",
       "        vertical-align: middle;\n",
       "    }\n",
       "\n",
       "    .dataframe tbody tr th {\n",
       "        vertical-align: top;\n",
       "    }\n",
       "\n",
       "    .dataframe thead th {\n",
       "        text-align: right;\n",
       "    }\n",
       "</style>\n",
       "<table border=\"1\" class=\"dataframe\">\n",
       "  <thead>\n",
       "    <tr style=\"text-align: right;\">\n",
       "      <th></th>\n",
       "      <th>영어</th>\n",
       "      <th>수학</th>\n",
       "      <th>국어</th>\n",
       "    </tr>\n",
       "  </thead>\n",
       "  <tbody>\n",
       "    <tr>\n",
       "      <th>홍길동</th>\n",
       "      <td>60.0</td>\n",
       "      <td>80.0</td>\n",
       "      <td>70.0</td>\n",
       "    </tr>\n",
       "    <tr>\n",
       "      <th>박찬호</th>\n",
       "      <td>50.0</td>\n",
       "      <td>75.0</td>\n",
       "      <td>83.0</td>\n",
       "    </tr>\n",
       "    <tr>\n",
       "      <th>손흥민</th>\n",
       "      <td>90.0</td>\n",
       "      <td>83.0</td>\n",
       "      <td>81.0</td>\n",
       "    </tr>\n",
       "    <tr>\n",
       "      <th>제임스</th>\n",
       "      <td>100.0</td>\n",
       "      <td>NaN</td>\n",
       "      <td>90.0</td>\n",
       "    </tr>\n",
       "    <tr>\n",
       "      <th>제임</th>\n",
       "      <td>100.0</td>\n",
       "      <td>NaN</td>\n",
       "      <td>90.0</td>\n",
       "    </tr>\n",
       "  </tbody>\n",
       "</table>\n",
       "</div>"
      ],
      "text/plain": [
       "        영어    수학    국어\n",
       "홍길동   60.0  80.0  70.0\n",
       "박찬호   50.0  75.0  83.0\n",
       "손흥민   90.0  83.0  81.0\n",
       "제임스  100.0   NaN  90.0\n",
       "제임   100.0   NaN  90.0"
      ]
     },
     "execution_count": 85,
     "metadata": {},
     "output_type": "execute_result"
    }
   ],
   "source": [
    "df.loc['제임'] = [100,np.nan,90]\n",
    "df"
   ]
  },
  {
   "cell_type": "code",
   "execution_count": 86,
   "metadata": {
    "scrolled": true
   },
   "outputs": [],
   "source": [
    "# '제임' 행 지우기\n",
    "df = df.drop('제임')     \n",
    "#df = df.drop('제임',axis=0)"
   ]
  },
  {
   "cell_type": "code",
   "execution_count": 87,
   "metadata": {},
   "outputs": [
    {
     "data": {
      "text/html": [
       "<div>\n",
       "<style scoped>\n",
       "    .dataframe tbody tr th:only-of-type {\n",
       "        vertical-align: middle;\n",
       "    }\n",
       "\n",
       "    .dataframe tbody tr th {\n",
       "        vertical-align: top;\n",
       "    }\n",
       "\n",
       "    .dataframe thead th {\n",
       "        text-align: right;\n",
       "    }\n",
       "</style>\n",
       "<table border=\"1\" class=\"dataframe\">\n",
       "  <thead>\n",
       "    <tr style=\"text-align: right;\">\n",
       "      <th></th>\n",
       "      <th>영어</th>\n",
       "      <th>수학</th>\n",
       "      <th>국어</th>\n",
       "    </tr>\n",
       "  </thead>\n",
       "  <tbody>\n",
       "    <tr>\n",
       "      <th>홍길동</th>\n",
       "      <td>60.0</td>\n",
       "      <td>80.0</td>\n",
       "      <td>70.0</td>\n",
       "    </tr>\n",
       "    <tr>\n",
       "      <th>박찬호</th>\n",
       "      <td>50.0</td>\n",
       "      <td>75.0</td>\n",
       "      <td>83.0</td>\n",
       "    </tr>\n",
       "    <tr>\n",
       "      <th>손흥민</th>\n",
       "      <td>90.0</td>\n",
       "      <td>83.0</td>\n",
       "      <td>81.0</td>\n",
       "    </tr>\n",
       "    <tr>\n",
       "      <th>제임스</th>\n",
       "      <td>100.0</td>\n",
       "      <td>NaN</td>\n",
       "      <td>90.0</td>\n",
       "    </tr>\n",
       "  </tbody>\n",
       "</table>\n",
       "</div>"
      ],
      "text/plain": [
       "        영어    수학    국어\n",
       "홍길동   60.0  80.0  70.0\n",
       "박찬호   50.0  75.0  83.0\n",
       "손흥민   90.0  83.0  81.0\n",
       "제임스  100.0   NaN  90.0"
      ]
     },
     "execution_count": 87,
     "metadata": {},
     "output_type": "execute_result"
    }
   ],
   "source": [
    "df"
   ]
  },
  {
   "cell_type": "code",
   "execution_count": 88,
   "metadata": {},
   "outputs": [
    {
     "data": {
      "text/plain": [
       "영어    300.0\n",
       "수학    238.0\n",
       "국어    324.0\n",
       "dtype: float64"
      ]
     },
     "execution_count": 88,
     "metadata": {},
     "output_type": "execute_result"
    }
   ],
   "source": [
    "df.sum()"
   ]
  },
  {
   "cell_type": "code",
   "execution_count": 89,
   "metadata": {},
   "outputs": [
    {
     "data": {
      "text/plain": [
       "영어    75.000000\n",
       "수학    79.333333\n",
       "국어    81.000000\n",
       "dtype: float64"
      ]
     },
     "execution_count": 89,
     "metadata": {},
     "output_type": "execute_result"
    }
   ],
   "source": [
    "df.mean()"
   ]
  },
  {
   "cell_type": "code",
   "execution_count": 90,
   "metadata": {},
   "outputs": [
    {
     "data": {
      "text/plain": [
       "홍길동    70.000000\n",
       "박찬호    69.333333\n",
       "손흥민    84.666667\n",
       "제임스    95.000000\n",
       "dtype: float64"
      ]
     },
     "execution_count": 90,
     "metadata": {},
     "output_type": "execute_result"
    }
   ],
   "source": [
    "df.mean(axis=1)"
   ]
  },
  {
   "cell_type": "code",
   "execution_count": 91,
   "metadata": {},
   "outputs": [
    {
     "data": {
      "text/plain": [
       "영어    75.0\n",
       "수학     NaN\n",
       "국어    81.0\n",
       "dtype: float64"
      ]
     },
     "execution_count": 91,
     "metadata": {},
     "output_type": "execute_result"
    }
   ],
   "source": [
    "df.mean(skipna=False)"
   ]
  },
  {
   "cell_type": "code",
   "execution_count": 92,
   "metadata": {},
   "outputs": [
    {
     "data": {
      "text/plain": [
       "홍길동    70.000000\n",
       "박찬호    69.333333\n",
       "손흥민    84.666667\n",
       "제임스          NaN\n",
       "dtype: float64"
      ]
     },
     "execution_count": 92,
     "metadata": {},
     "output_type": "execute_result"
    }
   ],
   "source": [
    "df.mean(axis=1, skipna=False)"
   ]
  },
  {
   "cell_type": "code",
   "execution_count": 94,
   "metadata": {},
   "outputs": [
    {
     "data": {
      "text/plain": [
       "홍길동    70.000000\n",
       "박찬호    69.333333\n",
       "손흥민    84.666667\n",
       "제임스          NaN\n",
       "dtype: float64"
      ]
     },
     "execution_count": 94,
     "metadata": {},
     "output_type": "execute_result"
    }
   ],
   "source": [
    "df.mean(axis=1, skipna=False)"
   ]
  },
  {
   "cell_type": "code",
   "execution_count": 97,
   "metadata": {},
   "outputs": [
    {
     "data": {
      "text/plain": [
       "'손흥민'"
      ]
     },
     "execution_count": 97,
     "metadata": {},
     "output_type": "execute_result"
    }
   ],
   "source": [
    "df.mean(axis=1, skipna=False).idxmax()"
   ]
  },
  {
   "cell_type": "code",
   "execution_count": 98,
   "metadata": {},
   "outputs": [
    {
     "data": {
      "text/plain": [
       "영어    제임스\n",
       "수학    손흥민\n",
       "국어    제임스\n",
       "dtype: object"
      ]
     },
     "execution_count": 98,
     "metadata": {},
     "output_type": "execute_result"
    }
   ],
   "source": [
    "df.idxmax()"
   ]
  },
  {
   "cell_type": "code",
   "execution_count": null,
   "metadata": {},
   "outputs": [],
   "source": []
  },
  {
   "cell_type": "code",
   "execution_count": null,
   "metadata": {},
   "outputs": [],
   "source": [
    "[문제146] 최고 급여, 최저 급여 출력하세요."
   ]
  },
  {
   "cell_type": "code",
   "execution_count": 99,
   "metadata": {
    "collapsed": true
   },
   "outputs": [
    {
     "data": {
      "text/html": [
       "<div>\n",
       "<style scoped>\n",
       "    .dataframe tbody tr th:only-of-type {\n",
       "        vertical-align: middle;\n",
       "    }\n",
       "\n",
       "    .dataframe tbody tr th {\n",
       "        vertical-align: top;\n",
       "    }\n",
       "\n",
       "    .dataframe thead th {\n",
       "        text-align: right;\n",
       "    }\n",
       "</style>\n",
       "<table border=\"1\" class=\"dataframe\">\n",
       "  <thead>\n",
       "    <tr style=\"text-align: right;\">\n",
       "      <th></th>\n",
       "      <th>empid</th>\n",
       "      <th>name</th>\n",
       "      <th>job</th>\n",
       "      <th>mgr</th>\n",
       "      <th>hire_date</th>\n",
       "      <th>sal</th>\n",
       "      <th>comm</th>\n",
       "      <th>deptno</th>\n",
       "    </tr>\n",
       "  </thead>\n",
       "  <tbody>\n",
       "    <tr>\n",
       "      <th>0</th>\n",
       "      <td>100</td>\n",
       "      <td>King</td>\n",
       "      <td>AD_PRES</td>\n",
       "      <td>NaN</td>\n",
       "      <td>2003-06-17</td>\n",
       "      <td>24000.0</td>\n",
       "      <td>NaN</td>\n",
       "      <td>90.0</td>\n",
       "    </tr>\n",
       "    <tr>\n",
       "      <th>1</th>\n",
       "      <td>101</td>\n",
       "      <td>Kochhar</td>\n",
       "      <td>AD_VP</td>\n",
       "      <td>100.0</td>\n",
       "      <td>2005-09-21</td>\n",
       "      <td>17000.0</td>\n",
       "      <td>NaN</td>\n",
       "      <td>90.0</td>\n",
       "    </tr>\n",
       "    <tr>\n",
       "      <th>2</th>\n",
       "      <td>102</td>\n",
       "      <td>De Haan</td>\n",
       "      <td>AD_VP</td>\n",
       "      <td>100.0</td>\n",
       "      <td>2001-01-13</td>\n",
       "      <td>17000.0</td>\n",
       "      <td>NaN</td>\n",
       "      <td>90.0</td>\n",
       "    </tr>\n",
       "    <tr>\n",
       "      <th>3</th>\n",
       "      <td>103</td>\n",
       "      <td>Hunold</td>\n",
       "      <td>IT_PROG</td>\n",
       "      <td>102.0</td>\n",
       "      <td>2006-01-03</td>\n",
       "      <td>9000.0</td>\n",
       "      <td>NaN</td>\n",
       "      <td>60.0</td>\n",
       "    </tr>\n",
       "    <tr>\n",
       "      <th>4</th>\n",
       "      <td>104</td>\n",
       "      <td>Ernst</td>\n",
       "      <td>IT_PROG</td>\n",
       "      <td>103.0</td>\n",
       "      <td>2007-05-21</td>\n",
       "      <td>6000.0</td>\n",
       "      <td>NaN</td>\n",
       "      <td>60.0</td>\n",
       "    </tr>\n",
       "    <tr>\n",
       "      <th>5</th>\n",
       "      <td>105</td>\n",
       "      <td>Austin</td>\n",
       "      <td>IT_PROG</td>\n",
       "      <td>103.0</td>\n",
       "      <td>2005-06-25</td>\n",
       "      <td>4800.0</td>\n",
       "      <td>NaN</td>\n",
       "      <td>60.0</td>\n",
       "    </tr>\n",
       "    <tr>\n",
       "      <th>6</th>\n",
       "      <td>106</td>\n",
       "      <td>Pataballa</td>\n",
       "      <td>IT_PROG</td>\n",
       "      <td>103.0</td>\n",
       "      <td>2006-02-05</td>\n",
       "      <td>4800.0</td>\n",
       "      <td>NaN</td>\n",
       "      <td>60.0</td>\n",
       "    </tr>\n",
       "    <tr>\n",
       "      <th>7</th>\n",
       "      <td>107</td>\n",
       "      <td>Lorentz</td>\n",
       "      <td>IT_PROG</td>\n",
       "      <td>103.0</td>\n",
       "      <td>2007-02-07</td>\n",
       "      <td>4200.0</td>\n",
       "      <td>NaN</td>\n",
       "      <td>60.0</td>\n",
       "    </tr>\n",
       "    <tr>\n",
       "      <th>8</th>\n",
       "      <td>108</td>\n",
       "      <td>Greenberg</td>\n",
       "      <td>FI_MGR</td>\n",
       "      <td>101.0</td>\n",
       "      <td>2002-08-17</td>\n",
       "      <td>13208.8</td>\n",
       "      <td>NaN</td>\n",
       "      <td>100.0</td>\n",
       "    </tr>\n",
       "    <tr>\n",
       "      <th>9</th>\n",
       "      <td>109</td>\n",
       "      <td>Faviet</td>\n",
       "      <td>FI_ACCOUNT</td>\n",
       "      <td>108.0</td>\n",
       "      <td>2002-08-16</td>\n",
       "      <td>9900.0</td>\n",
       "      <td>NaN</td>\n",
       "      <td>100.0</td>\n",
       "    </tr>\n",
       "    <tr>\n",
       "      <th>10</th>\n",
       "      <td>110</td>\n",
       "      <td>Chen</td>\n",
       "      <td>FI_ACCOUNT</td>\n",
       "      <td>108.0</td>\n",
       "      <td>2005-09-28</td>\n",
       "      <td>8200.0</td>\n",
       "      <td>NaN</td>\n",
       "      <td>100.0</td>\n",
       "    </tr>\n",
       "    <tr>\n",
       "      <th>11</th>\n",
       "      <td>111</td>\n",
       "      <td>Sciarra</td>\n",
       "      <td>FI_ACCOUNT</td>\n",
       "      <td>108.0</td>\n",
       "      <td>2005-09-30</td>\n",
       "      <td>7700.0</td>\n",
       "      <td>NaN</td>\n",
       "      <td>100.0</td>\n",
       "    </tr>\n",
       "    <tr>\n",
       "      <th>12</th>\n",
       "      <td>112</td>\n",
       "      <td>Urman</td>\n",
       "      <td>FI_ACCOUNT</td>\n",
       "      <td>108.0</td>\n",
       "      <td>2006-03-07</td>\n",
       "      <td>7800.0</td>\n",
       "      <td>NaN</td>\n",
       "      <td>100.0</td>\n",
       "    </tr>\n",
       "    <tr>\n",
       "      <th>13</th>\n",
       "      <td>113</td>\n",
       "      <td>Popp</td>\n",
       "      <td>FI_ACCOUNT</td>\n",
       "      <td>108.0</td>\n",
       "      <td>2007-12-07</td>\n",
       "      <td>6900.0</td>\n",
       "      <td>NaN</td>\n",
       "      <td>100.0</td>\n",
       "    </tr>\n",
       "    <tr>\n",
       "      <th>14</th>\n",
       "      <td>114</td>\n",
       "      <td>Raphaely</td>\n",
       "      <td>PU_MAN</td>\n",
       "      <td>100.0</td>\n",
       "      <td>2002-12-07</td>\n",
       "      <td>11000.0</td>\n",
       "      <td>NaN</td>\n",
       "      <td>30.0</td>\n",
       "    </tr>\n",
       "    <tr>\n",
       "      <th>15</th>\n",
       "      <td>115</td>\n",
       "      <td>Khoo</td>\n",
       "      <td>PU_CLERK</td>\n",
       "      <td>114.0</td>\n",
       "      <td>2003-05-18</td>\n",
       "      <td>3100.0</td>\n",
       "      <td>NaN</td>\n",
       "      <td>30.0</td>\n",
       "    </tr>\n",
       "    <tr>\n",
       "      <th>16</th>\n",
       "      <td>116</td>\n",
       "      <td>Baida</td>\n",
       "      <td>PU_CLERK</td>\n",
       "      <td>114.0</td>\n",
       "      <td>2005-12-24</td>\n",
       "      <td>2900.0</td>\n",
       "      <td>NaN</td>\n",
       "      <td>30.0</td>\n",
       "    </tr>\n",
       "    <tr>\n",
       "      <th>17</th>\n",
       "      <td>117</td>\n",
       "      <td>Tobias</td>\n",
       "      <td>PU_CLERK</td>\n",
       "      <td>114.0</td>\n",
       "      <td>2005-07-24</td>\n",
       "      <td>2800.0</td>\n",
       "      <td>NaN</td>\n",
       "      <td>30.0</td>\n",
       "    </tr>\n",
       "    <tr>\n",
       "      <th>18</th>\n",
       "      <td>118</td>\n",
       "      <td>Himuro</td>\n",
       "      <td>PU_CLERK</td>\n",
       "      <td>114.0</td>\n",
       "      <td>2006-11-15</td>\n",
       "      <td>2600.0</td>\n",
       "      <td>NaN</td>\n",
       "      <td>30.0</td>\n",
       "    </tr>\n",
       "    <tr>\n",
       "      <th>19</th>\n",
       "      <td>119</td>\n",
       "      <td>Colmeres</td>\n",
       "      <td>PU_CLERK</td>\n",
       "      <td>114.0</td>\n",
       "      <td>2007-08-10</td>\n",
       "      <td>2500.0</td>\n",
       "      <td>NaN</td>\n",
       "      <td>30.0</td>\n",
       "    </tr>\n",
       "    <tr>\n",
       "      <th>20</th>\n",
       "      <td>120</td>\n",
       "      <td>Weiss</td>\n",
       "      <td>ST_MAN</td>\n",
       "      <td>100.0</td>\n",
       "      <td>2004-07-18</td>\n",
       "      <td>8000.0</td>\n",
       "      <td>NaN</td>\n",
       "      <td>50.0</td>\n",
       "    </tr>\n",
       "    <tr>\n",
       "      <th>21</th>\n",
       "      <td>121</td>\n",
       "      <td>Fripp</td>\n",
       "      <td>ST_MAN</td>\n",
       "      <td>100.0</td>\n",
       "      <td>2005-04-10</td>\n",
       "      <td>8200.0</td>\n",
       "      <td>NaN</td>\n",
       "      <td>50.0</td>\n",
       "    </tr>\n",
       "    <tr>\n",
       "      <th>22</th>\n",
       "      <td>122</td>\n",
       "      <td>Kaufling</td>\n",
       "      <td>ST_MAN</td>\n",
       "      <td>100.0</td>\n",
       "      <td>2003-05-01</td>\n",
       "      <td>7900.0</td>\n",
       "      <td>NaN</td>\n",
       "      <td>50.0</td>\n",
       "    </tr>\n",
       "    <tr>\n",
       "      <th>23</th>\n",
       "      <td>123</td>\n",
       "      <td>Vollman</td>\n",
       "      <td>ST_MAN</td>\n",
       "      <td>100.0</td>\n",
       "      <td>2005-10-10</td>\n",
       "      <td>6500.0</td>\n",
       "      <td>NaN</td>\n",
       "      <td>50.0</td>\n",
       "    </tr>\n",
       "    <tr>\n",
       "      <th>24</th>\n",
       "      <td>124</td>\n",
       "      <td>Mourgos</td>\n",
       "      <td>ST_MAN</td>\n",
       "      <td>100.0</td>\n",
       "      <td>2007-11-16</td>\n",
       "      <td>5800.0</td>\n",
       "      <td>NaN</td>\n",
       "      <td>50.0</td>\n",
       "    </tr>\n",
       "    <tr>\n",
       "      <th>25</th>\n",
       "      <td>125</td>\n",
       "      <td>yer</td>\n",
       "      <td>ST_CLERK</td>\n",
       "      <td>120.0</td>\n",
       "      <td>2005-07-16</td>\n",
       "      <td>3200.0</td>\n",
       "      <td>NaN</td>\n",
       "      <td>50.0</td>\n",
       "    </tr>\n",
       "    <tr>\n",
       "      <th>26</th>\n",
       "      <td>126</td>\n",
       "      <td>Mikkilineni</td>\n",
       "      <td>ST_CLERK</td>\n",
       "      <td>120.0</td>\n",
       "      <td>2006-09-28</td>\n",
       "      <td>2700.0</td>\n",
       "      <td>NaN</td>\n",
       "      <td>50.0</td>\n",
       "    </tr>\n",
       "    <tr>\n",
       "      <th>27</th>\n",
       "      <td>127</td>\n",
       "      <td>Landry</td>\n",
       "      <td>ST_CLERK</td>\n",
       "      <td>120.0</td>\n",
       "      <td>2007-01-14</td>\n",
       "      <td>2400.0</td>\n",
       "      <td>NaN</td>\n",
       "      <td>50.0</td>\n",
       "    </tr>\n",
       "    <tr>\n",
       "      <th>28</th>\n",
       "      <td>128</td>\n",
       "      <td>Markle</td>\n",
       "      <td>ST_CLERK</td>\n",
       "      <td>120.0</td>\n",
       "      <td>2008-03-08</td>\n",
       "      <td>2200.0</td>\n",
       "      <td>NaN</td>\n",
       "      <td>50.0</td>\n",
       "    </tr>\n",
       "    <tr>\n",
       "      <th>29</th>\n",
       "      <td>129</td>\n",
       "      <td>Bissot</td>\n",
       "      <td>ST_CLERK</td>\n",
       "      <td>121.0</td>\n",
       "      <td>2005-08-20</td>\n",
       "      <td>3300.0</td>\n",
       "      <td>NaN</td>\n",
       "      <td>50.0</td>\n",
       "    </tr>\n",
       "    <tr>\n",
       "      <th>...</th>\n",
       "      <td>...</td>\n",
       "      <td>...</td>\n",
       "      <td>...</td>\n",
       "      <td>...</td>\n",
       "      <td>...</td>\n",
       "      <td>...</td>\n",
       "      <td>...</td>\n",
       "      <td>...</td>\n",
       "    </tr>\n",
       "    <tr>\n",
       "      <th>77</th>\n",
       "      <td>177</td>\n",
       "      <td>Livingston</td>\n",
       "      <td>SA_REP</td>\n",
       "      <td>149.0</td>\n",
       "      <td>2006-04-23</td>\n",
       "      <td>8400.0</td>\n",
       "      <td>0.20</td>\n",
       "      <td>80.0</td>\n",
       "    </tr>\n",
       "    <tr>\n",
       "      <th>78</th>\n",
       "      <td>178</td>\n",
       "      <td>Grant</td>\n",
       "      <td>SA_REP</td>\n",
       "      <td>149.0</td>\n",
       "      <td>2007-05-24</td>\n",
       "      <td>7000.0</td>\n",
       "      <td>0.15</td>\n",
       "      <td>NaN</td>\n",
       "    </tr>\n",
       "    <tr>\n",
       "      <th>79</th>\n",
       "      <td>179</td>\n",
       "      <td>Johnson</td>\n",
       "      <td>SA_REP</td>\n",
       "      <td>149.0</td>\n",
       "      <td>2008-01-04</td>\n",
       "      <td>6200.0</td>\n",
       "      <td>0.10</td>\n",
       "      <td>80.0</td>\n",
       "    </tr>\n",
       "    <tr>\n",
       "      <th>80</th>\n",
       "      <td>180</td>\n",
       "      <td>Taylor</td>\n",
       "      <td>SH_CLERK</td>\n",
       "      <td>120.0</td>\n",
       "      <td>2006-01-24</td>\n",
       "      <td>3200.0</td>\n",
       "      <td>NaN</td>\n",
       "      <td>50.0</td>\n",
       "    </tr>\n",
       "    <tr>\n",
       "      <th>81</th>\n",
       "      <td>181</td>\n",
       "      <td>Fleaur</td>\n",
       "      <td>SH_CLERK</td>\n",
       "      <td>120.0</td>\n",
       "      <td>2006-02-23</td>\n",
       "      <td>3100.0</td>\n",
       "      <td>NaN</td>\n",
       "      <td>50.0</td>\n",
       "    </tr>\n",
       "    <tr>\n",
       "      <th>82</th>\n",
       "      <td>182</td>\n",
       "      <td>Sullivan</td>\n",
       "      <td>SH_CLERK</td>\n",
       "      <td>120.0</td>\n",
       "      <td>2007-06-21</td>\n",
       "      <td>2500.0</td>\n",
       "      <td>NaN</td>\n",
       "      <td>50.0</td>\n",
       "    </tr>\n",
       "    <tr>\n",
       "      <th>83</th>\n",
       "      <td>183</td>\n",
       "      <td>Geoni</td>\n",
       "      <td>SH_CLERK</td>\n",
       "      <td>120.0</td>\n",
       "      <td>2008-02-03</td>\n",
       "      <td>2800.0</td>\n",
       "      <td>NaN</td>\n",
       "      <td>50.0</td>\n",
       "    </tr>\n",
       "    <tr>\n",
       "      <th>84</th>\n",
       "      <td>184</td>\n",
       "      <td>Sarchand</td>\n",
       "      <td>SH_CLERK</td>\n",
       "      <td>121.0</td>\n",
       "      <td>2004-01-27</td>\n",
       "      <td>4200.0</td>\n",
       "      <td>NaN</td>\n",
       "      <td>50.0</td>\n",
       "    </tr>\n",
       "    <tr>\n",
       "      <th>85</th>\n",
       "      <td>185</td>\n",
       "      <td>Bull</td>\n",
       "      <td>SH_CLERK</td>\n",
       "      <td>121.0</td>\n",
       "      <td>2005-02-20</td>\n",
       "      <td>4100.0</td>\n",
       "      <td>NaN</td>\n",
       "      <td>50.0</td>\n",
       "    </tr>\n",
       "    <tr>\n",
       "      <th>86</th>\n",
       "      <td>186</td>\n",
       "      <td>Dellinger</td>\n",
       "      <td>SH_CLERK</td>\n",
       "      <td>121.0</td>\n",
       "      <td>2006-06-24</td>\n",
       "      <td>3400.0</td>\n",
       "      <td>NaN</td>\n",
       "      <td>50.0</td>\n",
       "    </tr>\n",
       "    <tr>\n",
       "      <th>87</th>\n",
       "      <td>187</td>\n",
       "      <td>Cabrio</td>\n",
       "      <td>SH_CLERK</td>\n",
       "      <td>121.0</td>\n",
       "      <td>2007-02-07</td>\n",
       "      <td>3000.0</td>\n",
       "      <td>NaN</td>\n",
       "      <td>50.0</td>\n",
       "    </tr>\n",
       "    <tr>\n",
       "      <th>88</th>\n",
       "      <td>188</td>\n",
       "      <td>Chung</td>\n",
       "      <td>SH_CLERK</td>\n",
       "      <td>122.0</td>\n",
       "      <td>2005-06-14</td>\n",
       "      <td>3800.0</td>\n",
       "      <td>NaN</td>\n",
       "      <td>50.0</td>\n",
       "    </tr>\n",
       "    <tr>\n",
       "      <th>89</th>\n",
       "      <td>189</td>\n",
       "      <td>Dilly</td>\n",
       "      <td>SH_CLERK</td>\n",
       "      <td>122.0</td>\n",
       "      <td>2005-08-13</td>\n",
       "      <td>3600.0</td>\n",
       "      <td>NaN</td>\n",
       "      <td>50.0</td>\n",
       "    </tr>\n",
       "    <tr>\n",
       "      <th>90</th>\n",
       "      <td>190</td>\n",
       "      <td>Gates</td>\n",
       "      <td>SH_CLERK</td>\n",
       "      <td>122.0</td>\n",
       "      <td>2006-07-11</td>\n",
       "      <td>2900.0</td>\n",
       "      <td>NaN</td>\n",
       "      <td>50.0</td>\n",
       "    </tr>\n",
       "    <tr>\n",
       "      <th>91</th>\n",
       "      <td>191</td>\n",
       "      <td>Perkins</td>\n",
       "      <td>SH_CLERK</td>\n",
       "      <td>122.0</td>\n",
       "      <td>2007-12-19</td>\n",
       "      <td>2500.0</td>\n",
       "      <td>NaN</td>\n",
       "      <td>50.0</td>\n",
       "    </tr>\n",
       "    <tr>\n",
       "      <th>92</th>\n",
       "      <td>192</td>\n",
       "      <td>Bell</td>\n",
       "      <td>SH_CLERK</td>\n",
       "      <td>123.0</td>\n",
       "      <td>2004-02-04</td>\n",
       "      <td>4000.0</td>\n",
       "      <td>NaN</td>\n",
       "      <td>50.0</td>\n",
       "    </tr>\n",
       "    <tr>\n",
       "      <th>93</th>\n",
       "      <td>193</td>\n",
       "      <td>Everett</td>\n",
       "      <td>SH_CLERK</td>\n",
       "      <td>123.0</td>\n",
       "      <td>2005-03-03</td>\n",
       "      <td>3900.0</td>\n",
       "      <td>NaN</td>\n",
       "      <td>50.0</td>\n",
       "    </tr>\n",
       "    <tr>\n",
       "      <th>94</th>\n",
       "      <td>194</td>\n",
       "      <td>McCain</td>\n",
       "      <td>SH_CLERK</td>\n",
       "      <td>123.0</td>\n",
       "      <td>2006-07-01</td>\n",
       "      <td>3200.0</td>\n",
       "      <td>NaN</td>\n",
       "      <td>50.0</td>\n",
       "    </tr>\n",
       "    <tr>\n",
       "      <th>95</th>\n",
       "      <td>195</td>\n",
       "      <td>Jones</td>\n",
       "      <td>SH_CLERK</td>\n",
       "      <td>123.0</td>\n",
       "      <td>2007-03-17</td>\n",
       "      <td>2800.0</td>\n",
       "      <td>NaN</td>\n",
       "      <td>50.0</td>\n",
       "    </tr>\n",
       "    <tr>\n",
       "      <th>96</th>\n",
       "      <td>196</td>\n",
       "      <td>Walsh</td>\n",
       "      <td>SH_CLERK</td>\n",
       "      <td>124.0</td>\n",
       "      <td>2006-04-24</td>\n",
       "      <td>3100.0</td>\n",
       "      <td>NaN</td>\n",
       "      <td>50.0</td>\n",
       "    </tr>\n",
       "    <tr>\n",
       "      <th>97</th>\n",
       "      <td>197</td>\n",
       "      <td>Feeney</td>\n",
       "      <td>SH_CLERK</td>\n",
       "      <td>124.0</td>\n",
       "      <td>2006-05-23</td>\n",
       "      <td>3000.0</td>\n",
       "      <td>NaN</td>\n",
       "      <td>50.0</td>\n",
       "    </tr>\n",
       "    <tr>\n",
       "      <th>98</th>\n",
       "      <td>198</td>\n",
       "      <td>OConnell</td>\n",
       "      <td>SH_CLERK</td>\n",
       "      <td>124.0</td>\n",
       "      <td>2007-06-21</td>\n",
       "      <td>2600.0</td>\n",
       "      <td>NaN</td>\n",
       "      <td>50.0</td>\n",
       "    </tr>\n",
       "    <tr>\n",
       "      <th>99</th>\n",
       "      <td>199</td>\n",
       "      <td>Grant</td>\n",
       "      <td>SH_CLERK</td>\n",
       "      <td>124.0</td>\n",
       "      <td>2008-01-13</td>\n",
       "      <td>2600.0</td>\n",
       "      <td>NaN</td>\n",
       "      <td>50.0</td>\n",
       "    </tr>\n",
       "    <tr>\n",
       "      <th>100</th>\n",
       "      <td>200</td>\n",
       "      <td>Whalen</td>\n",
       "      <td>AD_ASST</td>\n",
       "      <td>101.0</td>\n",
       "      <td>2003-09-17</td>\n",
       "      <td>4400.0</td>\n",
       "      <td>NaN</td>\n",
       "      <td>10.0</td>\n",
       "    </tr>\n",
       "    <tr>\n",
       "      <th>101</th>\n",
       "      <td>201</td>\n",
       "      <td>Hartstein</td>\n",
       "      <td>MK_MAN</td>\n",
       "      <td>100.0</td>\n",
       "      <td>2004-02-17</td>\n",
       "      <td>13000.0</td>\n",
       "      <td>NaN</td>\n",
       "      <td>20.0</td>\n",
       "    </tr>\n",
       "    <tr>\n",
       "      <th>102</th>\n",
       "      <td>202</td>\n",
       "      <td>Fay</td>\n",
       "      <td>MK_REP</td>\n",
       "      <td>201.0</td>\n",
       "      <td>2005-08-17</td>\n",
       "      <td>6000.0</td>\n",
       "      <td>NaN</td>\n",
       "      <td>20.0</td>\n",
       "    </tr>\n",
       "    <tr>\n",
       "      <th>103</th>\n",
       "      <td>203</td>\n",
       "      <td>Mavris</td>\n",
       "      <td>HR_REP</td>\n",
       "      <td>101.0</td>\n",
       "      <td>2002-06-07</td>\n",
       "      <td>6500.0</td>\n",
       "      <td>NaN</td>\n",
       "      <td>40.0</td>\n",
       "    </tr>\n",
       "    <tr>\n",
       "      <th>104</th>\n",
       "      <td>204</td>\n",
       "      <td>Baer</td>\n",
       "      <td>PR_REP</td>\n",
       "      <td>101.0</td>\n",
       "      <td>2002-06-07</td>\n",
       "      <td>10000.0</td>\n",
       "      <td>NaN</td>\n",
       "      <td>70.0</td>\n",
       "    </tr>\n",
       "    <tr>\n",
       "      <th>105</th>\n",
       "      <td>205</td>\n",
       "      <td>Higgins</td>\n",
       "      <td>AC_MGR</td>\n",
       "      <td>101.0</td>\n",
       "      <td>2002-06-07</td>\n",
       "      <td>12008.0</td>\n",
       "      <td>NaN</td>\n",
       "      <td>510.0</td>\n",
       "    </tr>\n",
       "    <tr>\n",
       "      <th>106</th>\n",
       "      <td>206</td>\n",
       "      <td>Gietz</td>\n",
       "      <td>AC_ACCOUNT</td>\n",
       "      <td>205.0</td>\n",
       "      <td>2002-06-07</td>\n",
       "      <td>8300.0</td>\n",
       "      <td>NaN</td>\n",
       "      <td>110.0</td>\n",
       "    </tr>\n",
       "  </tbody>\n",
       "</table>\n",
       "<p>107 rows × 8 columns</p>\n",
       "</div>"
      ],
      "text/plain": [
       "     empid         name         job    mgr   hire_date      sal  comm  deptno\n",
       "0      100         King     AD_PRES    NaN  2003-06-17  24000.0   NaN    90.0\n",
       "1      101      Kochhar       AD_VP  100.0  2005-09-21  17000.0   NaN    90.0\n",
       "2      102      De Haan       AD_VP  100.0  2001-01-13  17000.0   NaN    90.0\n",
       "3      103       Hunold     IT_PROG  102.0  2006-01-03   9000.0   NaN    60.0\n",
       "4      104        Ernst     IT_PROG  103.0  2007-05-21   6000.0   NaN    60.0\n",
       "5      105       Austin     IT_PROG  103.0  2005-06-25   4800.0   NaN    60.0\n",
       "6      106    Pataballa     IT_PROG  103.0  2006-02-05   4800.0   NaN    60.0\n",
       "7      107      Lorentz     IT_PROG  103.0  2007-02-07   4200.0   NaN    60.0\n",
       "8      108    Greenberg      FI_MGR  101.0  2002-08-17  13208.8   NaN   100.0\n",
       "9      109       Faviet  FI_ACCOUNT  108.0  2002-08-16   9900.0   NaN   100.0\n",
       "10     110         Chen  FI_ACCOUNT  108.0  2005-09-28   8200.0   NaN   100.0\n",
       "11     111      Sciarra  FI_ACCOUNT  108.0  2005-09-30   7700.0   NaN   100.0\n",
       "12     112        Urman  FI_ACCOUNT  108.0  2006-03-07   7800.0   NaN   100.0\n",
       "13     113         Popp  FI_ACCOUNT  108.0  2007-12-07   6900.0   NaN   100.0\n",
       "14     114     Raphaely      PU_MAN  100.0  2002-12-07  11000.0   NaN    30.0\n",
       "15     115         Khoo    PU_CLERK  114.0  2003-05-18   3100.0   NaN    30.0\n",
       "16     116        Baida    PU_CLERK  114.0  2005-12-24   2900.0   NaN    30.0\n",
       "17     117       Tobias    PU_CLERK  114.0  2005-07-24   2800.0   NaN    30.0\n",
       "18     118       Himuro    PU_CLERK  114.0  2006-11-15   2600.0   NaN    30.0\n",
       "19     119     Colmeres    PU_CLERK  114.0  2007-08-10   2500.0   NaN    30.0\n",
       "20     120        Weiss      ST_MAN  100.0  2004-07-18   8000.0   NaN    50.0\n",
       "21     121        Fripp      ST_MAN  100.0  2005-04-10   8200.0   NaN    50.0\n",
       "22     122     Kaufling      ST_MAN  100.0  2003-05-01   7900.0   NaN    50.0\n",
       "23     123      Vollman      ST_MAN  100.0  2005-10-10   6500.0   NaN    50.0\n",
       "24     124      Mourgos      ST_MAN  100.0  2007-11-16   5800.0   NaN    50.0\n",
       "25     125          yer    ST_CLERK  120.0  2005-07-16   3200.0   NaN    50.0\n",
       "26     126  Mikkilineni    ST_CLERK  120.0  2006-09-28   2700.0   NaN    50.0\n",
       "27     127       Landry    ST_CLERK  120.0  2007-01-14   2400.0   NaN    50.0\n",
       "28     128       Markle    ST_CLERK  120.0  2008-03-08   2200.0   NaN    50.0\n",
       "29     129       Bissot    ST_CLERK  121.0  2005-08-20   3300.0   NaN    50.0\n",
       "..     ...          ...         ...    ...         ...      ...   ...     ...\n",
       "77     177   Livingston      SA_REP  149.0  2006-04-23   8400.0  0.20    80.0\n",
       "78     178        Grant      SA_REP  149.0  2007-05-24   7000.0  0.15     NaN\n",
       "79     179      Johnson      SA_REP  149.0  2008-01-04   6200.0  0.10    80.0\n",
       "80     180       Taylor    SH_CLERK  120.0  2006-01-24   3200.0   NaN    50.0\n",
       "81     181       Fleaur    SH_CLERK  120.0  2006-02-23   3100.0   NaN    50.0\n",
       "82     182     Sullivan    SH_CLERK  120.0  2007-06-21   2500.0   NaN    50.0\n",
       "83     183        Geoni    SH_CLERK  120.0  2008-02-03   2800.0   NaN    50.0\n",
       "84     184     Sarchand    SH_CLERK  121.0  2004-01-27   4200.0   NaN    50.0\n",
       "85     185         Bull    SH_CLERK  121.0  2005-02-20   4100.0   NaN    50.0\n",
       "86     186    Dellinger    SH_CLERK  121.0  2006-06-24   3400.0   NaN    50.0\n",
       "87     187       Cabrio    SH_CLERK  121.0  2007-02-07   3000.0   NaN    50.0\n",
       "88     188        Chung    SH_CLERK  122.0  2005-06-14   3800.0   NaN    50.0\n",
       "89     189        Dilly    SH_CLERK  122.0  2005-08-13   3600.0   NaN    50.0\n",
       "90     190        Gates    SH_CLERK  122.0  2006-07-11   2900.0   NaN    50.0\n",
       "91     191      Perkins    SH_CLERK  122.0  2007-12-19   2500.0   NaN    50.0\n",
       "92     192         Bell    SH_CLERK  123.0  2004-02-04   4000.0   NaN    50.0\n",
       "93     193      Everett    SH_CLERK  123.0  2005-03-03   3900.0   NaN    50.0\n",
       "94     194       McCain    SH_CLERK  123.0  2006-07-01   3200.0   NaN    50.0\n",
       "95     195        Jones    SH_CLERK  123.0  2007-03-17   2800.0   NaN    50.0\n",
       "96     196        Walsh    SH_CLERK  124.0  2006-04-24   3100.0   NaN    50.0\n",
       "97     197       Feeney    SH_CLERK  124.0  2006-05-23   3000.0   NaN    50.0\n",
       "98     198     OConnell    SH_CLERK  124.0  2007-06-21   2600.0   NaN    50.0\n",
       "99     199        Grant    SH_CLERK  124.0  2008-01-13   2600.0   NaN    50.0\n",
       "100    200       Whalen     AD_ASST  101.0  2003-09-17   4400.0   NaN    10.0\n",
       "101    201    Hartstein      MK_MAN  100.0  2004-02-17  13000.0   NaN    20.0\n",
       "102    202          Fay      MK_REP  201.0  2005-08-17   6000.0   NaN    20.0\n",
       "103    203       Mavris      HR_REP  101.0  2002-06-07   6500.0   NaN    40.0\n",
       "104    204         Baer      PR_REP  101.0  2002-06-07  10000.0   NaN    70.0\n",
       "105    205      Higgins      AC_MGR  101.0  2002-06-07  12008.0   NaN   510.0\n",
       "106    206        Gietz  AC_ACCOUNT  205.0  2002-06-07   8300.0   NaN   110.0\n",
       "\n",
       "[107 rows x 8 columns]"
      ]
     },
     "execution_count": 99,
     "metadata": {},
     "output_type": "execute_result"
    }
   ],
   "source": [
    "import pandas as pd\n",
    "from pandas import Series,DataFrame\n",
    "import numpy as np\n",
    "\n",
    "emp = pd.read_csv(\"c:\\python\\emp1.csv\",\n",
    "                 names=['empid','name','job','mgr','hire_date','sal','comm','deptno'])\n",
    "emp"
   ]
  },
  {
   "cell_type": "code",
   "execution_count": 104,
   "metadata": {},
   "outputs": [
    {
     "data": {
      "text/html": [
       "<div>\n",
       "<style scoped>\n",
       "    .dataframe tbody tr th:only-of-type {\n",
       "        vertical-align: middle;\n",
       "    }\n",
       "\n",
       "    .dataframe tbody tr th {\n",
       "        vertical-align: top;\n",
       "    }\n",
       "\n",
       "    .dataframe thead th {\n",
       "        text-align: right;\n",
       "    }\n",
       "</style>\n",
       "<table border=\"1\" class=\"dataframe\">\n",
       "  <thead>\n",
       "    <tr style=\"text-align: right;\">\n",
       "      <th></th>\n",
       "      <th>name</th>\n",
       "      <th>sal</th>\n",
       "    </tr>\n",
       "  </thead>\n",
       "  <tbody>\n",
       "    <tr>\n",
       "      <th>0</th>\n",
       "      <td>King</td>\n",
       "      <td>24000.0</td>\n",
       "    </tr>\n",
       "  </tbody>\n",
       "</table>\n",
       "</div>"
      ],
      "text/plain": [
       "   name      sal\n",
       "0  King  24000.0"
      ]
     },
     "execution_count": 104,
     "metadata": {},
     "output_type": "execute_result"
    }
   ],
   "source": [
    "emp[['name','sal']][emp['sal']== emp['sal'].max()]"
   ]
  },
  {
   "cell_type": "code",
   "execution_count": 105,
   "metadata": {},
   "outputs": [
    {
     "data": {
      "text/plain": [
       "24000.0"
      ]
     },
     "execution_count": 105,
     "metadata": {},
     "output_type": "execute_result"
    }
   ],
   "source": [
    "emp['sal'].max()"
   ]
  },
  {
   "cell_type": "code",
   "execution_count": 106,
   "metadata": {},
   "outputs": [
    {
     "data": {
      "text/plain": [
       "2100.0"
      ]
     },
     "execution_count": 106,
     "metadata": {},
     "output_type": "execute_result"
    }
   ],
   "source": [
    "emp['sal'].min()"
   ]
  },
  {
   "cell_type": "code",
   "execution_count": 107,
   "metadata": {},
   "outputs": [
    {
     "name": "stdout",
     "output_type": "stream",
     "text": [
      "24000\n"
     ]
    }
   ],
   "source": [
    "import  csv\n",
    "\n",
    "file = open(\"c:\\python\\emp1.csv\",'r')\n",
    "emp_csv = csv.reader(file)\n",
    "sal = 0\n",
    "for emp_list in emp_csv:\n",
    "    if float(emp_list[5]) > float(sal) :\n",
    "        sal = emp_list[5]\n",
    "print(sal)"
   ]
  },
  {
   "cell_type": "code",
   "execution_count": null,
   "metadata": {},
   "outputs": [],
   "source": [
    "import  csv\n",
    "\n",
    "file = open(\"c:\\python\\emp1.csv\",'r')\n",
    "emp_csv = csv.reader(file)\n",
    "sal = 100000000\n",
    "for emp_list in emp_csv:\n",
    "    if float(emp_list[5]) < float(sal) :\n",
    "        sal = emp_list[5]\n",
    "print(sal)"
   ]
  },
  {
   "cell_type": "code",
   "execution_count": null,
   "metadata": {},
   "outputs": [],
   "source": [
    "import  csv\n",
    "\n",
    "file = open(\"c:\\python\\emp1.csv\",'r')\n",
    "emp_csv = csv.reader(file)\n",
    "sal = []\n",
    "for emp_list in emp_csv:\n",
    "    sal.append(float(emp_list[5]))\n",
    "print(max(sal))\n",
    "print(min(sal))"
   ]
  },
  {
   "cell_type": "code",
   "execution_count": null,
   "metadata": {},
   "outputs": [],
   "source": []
  },
  {
   "cell_type": "code",
   "execution_count": null,
   "metadata": {},
   "outputs": [],
   "source": [
    "[문제147] 20번 부서 사원들의 급여 합을 구하세요."
   ]
  },
  {
   "cell_type": "code",
   "execution_count": 110,
   "metadata": {},
   "outputs": [
    {
     "data": {
      "text/plain": [
       "Index(['empid', 'name', 'job', 'mgr', 'hire_date', 'sal', 'comm', 'deptno'], dtype='object')"
      ]
     },
     "execution_count": 110,
     "metadata": {},
     "output_type": "execute_result"
    }
   ],
   "source": [
    "emp.columns[:]"
   ]
  },
  {
   "cell_type": "code",
   "execution_count": 112,
   "metadata": {},
   "outputs": [
    {
     "data": {
      "text/plain": [
       "19000.0"
      ]
     },
     "execution_count": 112,
     "metadata": {},
     "output_type": "execute_result"
    }
   ],
   "source": [
    "emp['sal'][emp['deptno']==20].sum()"
   ]
  },
  {
   "cell_type": "code",
   "execution_count": 113,
   "metadata": {},
   "outputs": [
    {
     "name": "stdout",
     "output_type": "stream",
     "text": [
      "19000.0\n"
     ]
    }
   ],
   "source": [
    "import  csv\n",
    "\n",
    "file = open(\"c:\\python\\emp1.csv\",'r')\n",
    "emp_csv = csv.reader(file)\n",
    "sal = 0\n",
    "for emp_list in emp_csv:\n",
    "    if emp_list[7] == '20':\n",
    "        sal += float(emp_list[5])\n",
    "print(sal)"
   ]
  },
  {
   "cell_type": "code",
   "execution_count": null,
   "metadata": {},
   "outputs": [],
   "source": []
  },
  {
   "cell_type": "code",
   "execution_count": null,
   "metadata": {},
   "outputs": [],
   "source": [
    "[문제148] 부서번호를 입력하면 그 부서의 급여 총액을 구하는 함수를 생성하세요."
   ]
  },
  {
   "cell_type": "code",
   "execution_count": 3,
   "metadata": {},
   "outputs": [],
   "source": [
    "import pandas as pd\n",
    "from pandas import Series,DataFrame\n",
    "import numpy as np\n",
    "from numpy import *\n",
    "\n",
    "\n",
    "\n",
    "def sumSal():\n",
    "    emp = pd.read_csv(\"c:\\python\\emp1.csv\",\n",
    "                 names=['empid', 'name', 'job', 'mgr', 'hire_date', 'sal', 'comm', 'deptno'])\n",
    "    x = int(input('부서번호를 입력하세요 :' ))\n",
    "\n",
    "    return emp['sal'][emp['deptno']==x].sum(skipna=False)"
   ]
  },
  {
   "cell_type": "code",
   "execution_count": 4,
   "metadata": {},
   "outputs": [
    {
     "name": "stdout",
     "output_type": "stream",
     "text": [
      "부서번호를 입력하세요 :100\n"
     ]
    },
    {
     "data": {
      "text/plain": [
       "53708.8"
      ]
     },
     "execution_count": 4,
     "metadata": {},
     "output_type": "execute_result"
    }
   ],
   "source": [
    "sumSal()"
   ]
  },
  {
   "cell_type": "code",
   "execution_count": 142,
   "metadata": {},
   "outputs": [
    {
     "name": "stdout",
     "output_type": "stream",
     "text": [
      "부서번호를 입력하세요 :  100\n",
      "53708.8\n",
      "53708.8\n"
     ]
    }
   ],
   "source": [
    "# [선생님]\n",
    "def dept_sum_sal():\n",
    "    emp = pd.read_csv(\"c:\\python\\emp1.csv\", names = ['empid','name','job','mgr','hire_date','sal','comm','deptno'])\n",
    "    id = input('부서번호를 입력하세요 :  ')\n",
    "    print(emp[['sal']][emp['deptno'] == int(id)].sum().values[0])\n",
    "    print(emp.loc[emp['deptno'] == int(id), 'sal'].sum())\n",
    "\n",
    "dept_sum_sal()"
   ]
  },
  {
   "cell_type": "code",
   "execution_count": 146,
   "metadata": {},
   "outputs": [
    {
     "data": {
      "text/plain": [
       "693516.8"
      ]
     },
     "execution_count": 146,
     "metadata": {},
     "output_type": "execute_result"
    }
   ],
   "source": [
    "###위 답에서\n",
    "## print(emp[['sal']][emp['deptno'] == int(id)].sum().values[0])\n",
    "\n",
    "emp['sal'].sum()   # series로 결과가 나옴 ->sum하면 형은 numpy의 array로 바뀜"
   ]
  },
  {
   "cell_type": "code",
   "execution_count": 145,
   "metadata": {},
   "outputs": [
    {
     "data": {
      "text/plain": [
       "sal    693516.8\n",
       "dtype: float64"
      ]
     },
     "execution_count": 145,
     "metadata": {},
     "output_type": "execute_result"
    }
   ],
   "source": [
    "emp[['sal']].sum() # dataframe으로 결과가나옴 -> sum하면 형은 Series로 바쓈"
   ]
  },
  {
   "cell_type": "code",
   "execution_count": 155,
   "metadata": {
    "scrolled": true
   },
   "outputs": [
    {
     "data": {
      "text/plain": [
       "693516.8"
      ]
     },
     "execution_count": 155,
     "metadata": {},
     "output_type": "execute_result"
    }
   ],
   "source": [
    "emp[['sal']].sum().values[0] # dtype: float64 출력안하고 values만 출력"
   ]
  },
  {
   "cell_type": "code",
   "execution_count": null,
   "metadata": {},
   "outputs": [],
   "source": []
  },
  {
   "cell_type": "code",
   "execution_count": null,
   "metadata": {},
   "outputs": [],
   "source": [
    "[문제149] 직업을 물어보게하고 직업을 입력하면 해당 직업의 최고 급여를 출력되게하는데 아무것도 입력하지 않으면 계속 물어보게하는\n",
    "프로그램을 작성하세요.\n",
    "\n",
    "job_max_sal()\n",
    "\n",
    "직업을 입력하세요 ?  ST_CLERK\n",
    "3600.0\n",
    "\n",
    "job_max_sal()\n",
    "\n",
    "직업을 입력하세요 ? sa_rep\n",
    "11500.0\n",
    "\n",
    "job_max_sal()\n",
    "\n",
    "직업을 입력하세요 ? \n",
    "\n",
    "직업을 입력하세요 ? \n",
    "\n",
    "직업을 입력하세요 ? \n",
    "\n",
    "job_max_sal()\n",
    "\n",
    "직업을 입력하세요 ? sales\n",
    "해당 직업의 사원은 없습니다."
   ]
  },
  {
   "cell_type": "code",
   "execution_count": 8,
   "metadata": {},
   "outputs": [
    {
     "name": "stdout",
     "output_type": "stream",
     "text": [
      "직업을 입력하세요 ? ST_CLERK\n"
     ]
    },
    {
     "data": {
      "text/plain": [
       "3600.0"
      ]
     },
     "execution_count": 8,
     "metadata": {},
     "output_type": "execute_result"
    }
   ],
   "source": [
    "import pandas as pd\n",
    "\n",
    "def job_max_sal():\n",
    "    try:\n",
    "        job = \"\"\n",
    "        while job == \"\":\n",
    "            job = input(\"직업을 입력하세요 ? \")\n",
    "        emp = pd.read_csv(\"c:\\python\\emp1.csv\",\n",
    "                         names = ['empid','name','job','mgr','hire_date','sal','comm','deptno'])\n",
    "        re = emp['sal'][emp['job']==job].max()\n",
    "        if pd.isnull(re) == True:\n",
    "            raise\n",
    "        return re\n",
    "    except Exception as err:\n",
    "        print(\"해당 직업의 사원은 없습니다.\")\n",
    "        \n",
    "\n",
    "job_max_sal()"
   ]
  },
  {
   "cell_type": "code",
   "execution_count": 9,
   "metadata": {},
   "outputs": [
    {
     "name": "stdout",
     "output_type": "stream",
     "text": [
      "직업을 입력하세요 ? \n",
      "직업을 입력하세요 ? \n",
      "직업을 입력하세요 ? 1\n",
      "해당 직업의 사원은 없습니다.\n"
     ]
    }
   ],
   "source": [
    "job_max_sal()"
   ]
  }
 ],
 "metadata": {
  "kernelspec": {
   "display_name": "Python 3",
   "language": "python",
   "name": "python3"
  },
  "language_info": {
   "codemirror_mode": {
    "name": "ipython",
    "version": 3
   },
   "file_extension": ".py",
   "mimetype": "text/x-python",
   "name": "python",
   "nbconvert_exporter": "python",
   "pygments_lexer": "ipython3",
   "version": "3.7.3"
  }
 },
 "nbformat": 4,
 "nbformat_minor": 2
}
