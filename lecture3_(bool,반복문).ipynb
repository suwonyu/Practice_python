{
 "cells": [
  {
   "cell_type": "code",
   "execution_count": null,
   "metadata": {},
   "outputs": [],
   "source": [
    "ㅁ bool(부울) 자료형\n",
    "\n",
    "참(True), 거짓(False)을 나타내는 자료형\n"
   ]
  },
  {
   "cell_type": "code",
   "execution_count": 1,
   "metadata": {},
   "outputs": [],
   "source": [
    "x = True\n",
    "y = False"
   ]
  },
  {
   "cell_type": "code",
   "execution_count": 2,
   "metadata": {},
   "outputs": [
    {
     "data": {
      "text/plain": [
       "bool"
      ]
     },
     "execution_count": 2,
     "metadata": {},
     "output_type": "execute_result"
    }
   ],
   "source": [
    "type(x)"
   ]
  },
  {
   "cell_type": "code",
   "execution_count": 3,
   "metadata": {},
   "outputs": [
    {
     "data": {
      "text/plain": [
       "False"
      ]
     },
     "execution_count": 3,
     "metadata": {},
     "output_type": "execute_result"
    }
   ],
   "source": [
    "x==y"
   ]
  },
  {
   "cell_type": "code",
   "execution_count": 4,
   "metadata": {},
   "outputs": [
    {
     "ename": "SyntaxError",
     "evalue": "invalid syntax (<ipython-input-4-0ad36ff408f7>, line 1)",
     "output_type": "error",
     "traceback": [
      "\u001b[1;36m  File \u001b[1;32m\"<ipython-input-4-0ad36ff408f7>\"\u001b[1;36m, line \u001b[1;32m1\u001b[0m\n\u001b[1;33m    [문제13]한글, alphabet만 입력받아야 합니다.\u001b[0m\n\u001b[1;37m           ^\u001b[0m\n\u001b[1;31mSyntaxError\u001b[0m\u001b[1;31m:\u001b[0m invalid syntax\n"
     ]
    }
   ],
   "source": [
    "[문제13]한글, alphabet만 입력받아야 합니다. \n",
    "        만약에 다른 문자가 들어 오면 \"한글, alphabet 이외의 문자가 포함되어 있습니다.\" 라는 문구가 출력해야 하고 \n",
    "        아니면 입력받은 문자를 출력하세요.\n"
   ]
  },
  {
   "cell_type": "code",
   "execution_count": null,
   "metadata": {},
   "outputs": [],
   "source": [
    "sts = input('한글, alphabet만 입력받아야 합니다.')\n",
    "def alphago(sts):\n",
    "    if sts.isalpha() == False:\n",
    "        print('한글, alphabet 이외의 문자가 포함되어 있습니다.')\n",
    "    else:\n",
    "        print(sts)\n",
    "        \n",
    "    \n",
    "    "
   ]
  },
  {
   "cell_type": "code",
   "execution_count": null,
   "metadata": {},
   "outputs": [],
   "source": [
    "alphago(sts)"
   ]
  },
  {
   "cell_type": "code",
   "execution_count": null,
   "metadata": {},
   "outputs": [],
   "source": [
    "\n",
    "[문제14] 숫자를 입력값으로 받습니다. \n",
    "         만약 숫자가 이외의 값이 들어 오면 \"숫자 이외의 문자가 포함되어 있습니다.\" 아니면 숫자 출력하세요."
   ]
  },
  {
   "cell_type": "code",
   "execution_count": null,
   "metadata": {},
   "outputs": [],
   "source": [
    "def numergo(go):\n",
    "    if go.isnumeric() == True:\n",
    "        print(go)\n",
    "    else:\n",
    "        print('\"숫자 이외의 문자가 포함되어 있습니다.\"')"
   ]
  },
  {
   "cell_type": "code",
   "execution_count": null,
   "metadata": {},
   "outputs": [],
   "source": [
    "go = input('숫자를 입력해 주세요')"
   ]
  },
  {
   "cell_type": "code",
   "execution_count": null,
   "metadata": {},
   "outputs": [],
   "source": [
    "numergo(go)"
   ]
  },
  {
   "cell_type": "code",
   "execution_count": null,
   "metadata": {},
   "outputs": [],
   "source": [
    "[문제15] 1부터 100까지 합을 구하세요. while문을 이용하세요.\n"
   ]
  },
  {
   "cell_type": "code",
   "execution_count": null,
   "metadata": {},
   "outputs": [],
   "source": [
    "i = 1\n",
    "c = 0\n",
    "while i < 100:\n",
    "    c += i\n",
    "    i += 1\n",
    "print(c)"
   ]
  },
  {
   "cell_type": "code",
   "execution_count": null,
   "metadata": {},
   "outputs": [],
   "source": [
    "[문제16] 1부터 100까지의 3의 배수를 출력, 합을 구하세요. while문을 이용하세요."
   ]
  },
  {
   "cell_type": "code",
   "execution_count": 18,
   "metadata": {},
   "outputs": [
    {
     "name": "stdout",
     "output_type": "stream",
     "text": [
      "[3, 6, 9, 12, 15, 18, 21, 24, 27, 30, 33, 36, 39, 42, 45, 48, 51, 54, 57, 60, 63, 66, 69, 72, 75, 78, 81, 84, 87, 90, 93, 96, 99] 33개 입니다. 1683\n"
     ]
    }
   ],
   "source": [
    "i = 1\n",
    "c = 0\n",
    "l = []\n",
    "while i < 100:\n",
    "    if i%3 == 0:\n",
    "        c += i\n",
    "        l += [i]\n",
    "    i += 1\n",
    "count = len(l)\n",
    "print(l,'%s개 입니다.'%count , c)\n",
    "        "
   ]
  },
  {
   "cell_type": "code",
   "execution_count": null,
   "metadata": {},
   "outputs": [],
   "source": [
    "len(l)"
   ]
  },
  {
   "cell_type": "code",
   "execution_count": null,
   "metadata": {},
   "outputs": [],
   "source": [
    "[문제17] 1부터 10까지 홀수값만 출력하세요.`"
   ]
  },
  {
   "cell_type": "code",
   "execution_count": null,
   "metadata": {},
   "outputs": [],
   "source": [
    "i = 1\n",
    "l = []"
   ]
  },
  {
   "cell_type": "code",
   "execution_count": null,
   "metadata": {},
   "outputs": [],
   "source": [
    "while i <= 10:\n",
    "    if i%2 != 0:\n",
    "        l += [i]\n",
    "    i+=1\n",
    "print(l)"
   ]
  },
  {
   "cell_type": "code",
   "execution_count": null,
   "metadata": {},
   "outputs": [],
   "source": [
    "while i <= 10:\n",
    "    if i > 10:\n",
    "        break\n",
    "    if i%2 == 0:\n",
    "        l += [i]\n",
    "    i += 1\n",
    "print(l)"
   ]
  },
  {
   "cell_type": "code",
   "execution_count": null,
   "metadata": {},
   "outputs": [],
   "source": []
  },
  {
   "cell_type": "code",
   "execution_count": null,
   "metadata": {},
   "outputs": [],
   "source": [
    "[문제18] 단을 입력값으로 받아서 구구단을 출력하세요."
   ]
  },
  {
   "cell_type": "code",
   "execution_count": 22,
   "metadata": {},
   "outputs": [
    {
     "name": "stdout",
     "output_type": "stream",
     "text": [
      "몇단을 외울까요? :5\n"
     ]
    }
   ],
   "source": [
    "x = int(input('몇단을 외울까요? :'))\n",
    "i = 1"
   ]
  },
  {
   "cell_type": "code",
   "execution_count": 24,
   "metadata": {},
   "outputs": [
    {
     "name": "stdout",
     "output_type": "stream",
     "text": [
      "5 * 3 = 10\n",
      "5 * 4 = 15\n",
      "5 * 5 = 20\n",
      "5 * 6 = 25\n",
      "5 * 7 = 30\n",
      "5 * 8 = 35\n",
      "5 * 9 = 40\n",
      "5 * 10 = 45\n"
     ]
    }
   ],
   "source": [
    "while i <= 9:\n",
    "    re = x*i\n",
    "    i += 1\n",
    "    print('%d * %d = %d'%(x,i,re)) "
   ]
  },
  {
   "cell_type": "code",
   "execution_count": null,
   "metadata": {},
   "outputs": [],
   "source": [
    "[문제19] 구구단을 생성하세요."
   ]
  },
  {
   "cell_type": "code",
   "execution_count": 34,
   "metadata": {},
   "outputs": [
    {
     "name": "stdout",
     "output_type": "stream",
     "text": [
      "\n",
      "1 단 입니다.\n",
      "\n",
      "1 * 1 = 1\n",
      "1 * 2 = 2\n",
      "1 * 3 = 3\n",
      "1 * 4 = 4\n",
      "1 * 5 = 5\n",
      "1 * 6 = 6\n",
      "1 * 7 = 7\n",
      "1 * 8 = 8\n",
      "1 * 9 = 9\n",
      "\n",
      "2 단 입니다.\n",
      "\n",
      "2 * 1 = 2\n",
      "2 * 2 = 4\n",
      "2 * 3 = 6\n",
      "2 * 4 = 8\n",
      "2 * 5 = 10\n",
      "2 * 6 = 12\n",
      "2 * 7 = 14\n",
      "2 * 8 = 16\n",
      "2 * 9 = 18\n",
      "\n",
      "3 단 입니다.\n",
      "\n",
      "3 * 1 = 3\n",
      "3 * 2 = 6\n",
      "3 * 3 = 9\n",
      "3 * 4 = 12\n",
      "3 * 5 = 15\n",
      "3 * 6 = 18\n",
      "3 * 7 = 21\n",
      "3 * 8 = 24\n",
      "3 * 9 = 27\n",
      "\n",
      "4 단 입니다.\n",
      "\n",
      "4 * 1 = 4\n",
      "4 * 2 = 8\n",
      "4 * 3 = 12\n",
      "4 * 4 = 16\n",
      "4 * 5 = 20\n",
      "4 * 6 = 24\n",
      "4 * 7 = 28\n",
      "4 * 8 = 32\n",
      "4 * 9 = 36\n",
      "\n",
      "5 단 입니다.\n",
      "\n",
      "5 * 1 = 5\n",
      "5 * 2 = 10\n",
      "5 * 3 = 15\n",
      "5 * 4 = 20\n",
      "5 * 5 = 25\n",
      "5 * 6 = 30\n",
      "5 * 7 = 35\n",
      "5 * 8 = 40\n",
      "5 * 9 = 45\n",
      "\n",
      "6 단 입니다.\n",
      "\n",
      "6 * 1 = 6\n",
      "6 * 2 = 12\n",
      "6 * 3 = 18\n",
      "6 * 4 = 24\n",
      "6 * 5 = 30\n",
      "6 * 6 = 36\n",
      "6 * 7 = 42\n",
      "6 * 8 = 48\n",
      "6 * 9 = 54\n",
      "\n",
      "7 단 입니다.\n",
      "\n",
      "7 * 1 = 7\n",
      "7 * 2 = 14\n",
      "7 * 3 = 21\n",
      "7 * 4 = 28\n",
      "7 * 5 = 35\n",
      "7 * 6 = 42\n",
      "7 * 7 = 49\n",
      "7 * 8 = 56\n",
      "7 * 9 = 63\n",
      "\n",
      "8 단 입니다.\n",
      "\n",
      "8 * 1 = 8\n",
      "8 * 2 = 16\n",
      "8 * 3 = 24\n",
      "8 * 4 = 32\n",
      "8 * 5 = 40\n",
      "8 * 6 = 48\n",
      "8 * 7 = 56\n",
      "8 * 8 = 64\n",
      "8 * 9 = 72\n",
      "\n",
      "9 단 입니다.\n",
      "\n",
      "9 * 1 = 9\n",
      "9 * 2 = 18\n",
      "9 * 3 = 27\n",
      "9 * 4 = 36\n",
      "9 * 5 = 45\n",
      "9 * 6 = 54\n",
      "9 * 7 = 63\n",
      "9 * 8 = 72\n",
      "9 * 9 = 81\n"
     ]
    }
   ],
   "source": [
    "i=1\n",
    "\n",
    "while i < 10:    \n",
    "    n = 1\n",
    "    print('\\n%s 단 입니다.\\n'%i)\n",
    "    while n < 10:\n",
    "        print('%s * %s = %s'%(i,n,i*n))\n",
    "        n += 1\n",
    "    i += 1\n",
    "    \n",
    "   "
   ]
  },
  {
   "cell_type": "code",
   "execution_count": null,
   "metadata": {},
   "outputs": [],
   "source": [
    "[문제20] 반복횟수를 입력해서 화면처럼 출력하세요.\n",
    "        \n",
    "\n",
    "반복횟수를 입력하세요: 5\n",
    "\n",
    "     ★\n",
    "    ★★\n",
    "   ★★★\n",
    "  ★★★★\n",
    " ★★★★★"
   ]
  },
  {
   "cell_type": "code",
   "execution_count": 36,
   "metadata": {},
   "outputs": [
    {
     "name": "stdout",
     "output_type": "stream",
     "text": [
      "반복횟수를 입력하세요: 5\n"
     ]
    }
   ],
   "source": [
    "n_count = int(input('반복횟수를 입력하세요: '))"
   ]
  },
  {
   "cell_type": "code",
   "execution_count": 45,
   "metadata": {},
   "outputs": [
    {
     "name": "stdout",
     "output_type": "stream",
     "text": [
      "     ★\n",
      "    ★★\n",
      "   ★★★\n",
      "  ★★★★\n",
      " ★★★★★\n"
     ]
    }
   ],
   "source": [
    "i = 1\n",
    "while i <= n_count:\n",
    "    print(' '*(n_count-i),'★'* i)\n",
    "    i +=1 "
   ]
  },
  {
   "cell_type": "code",
   "execution_count": 40,
   "metadata": {},
   "outputs": [],
   "source": [
    "[문제21] 학생들의 점수가 90,55,63,78,80 점이 있습니다.\n",
    "60점 이상이면 합격, 60점 미만이면 불합격 출력해 주세요.\n"
   ]
  },
  {
   "cell_type": "code",
   "execution_count": 46,
   "metadata": {},
   "outputs": [],
   "source": [
    "x = [90,55,63,78,80]"
   ]
  },
  {
   "cell_type": "code",
   "execution_count": 47,
   "metadata": {},
   "outputs": [
    {
     "name": "stdout",
     "output_type": "stream",
     "text": [
      "90점 입니다. 합격!\n",
      "55점 입니다. 불합격!\n",
      "63점 입니다. 합격!\n",
      "78점 입니다. 합격!\n",
      "80점 입니다. 합격!\n"
     ]
    }
   ],
   "source": [
    "for i in x:\n",
    "    if i >= 60:\n",
    "        print('%s점 입니다. 합격!'%i)\n",
    "    else:\n",
    "        print('%s점 입니다. 불합격!'%i)"
   ]
  },
  {
   "cell_type": "code",
   "execution_count": null,
   "metadata": {},
   "outputs": [],
   "source": [
    "[문제22] 1부터 100까지 합을 구하세요.(for 이용)"
   ]
  },
  {
   "cell_type": "code",
   "execution_count": 61,
   "metadata": {},
   "outputs": [
    {
     "name": "stdout",
     "output_type": "stream",
     "text": [
      "5050\n"
     ]
    }
   ],
   "source": [
    "re = 0\n",
    "for i in range(1,101):\n",
    "    re += i\n",
    "print(re)"
   ]
  },
  {
   "cell_type": "code",
   "execution_count": null,
   "metadata": {},
   "outputs": [],
   "source": [
    "[문제23] 1부터 10까지 출력하세요. 단 4, 8은 제외(for 이용)"
   ]
  },
  {
   "cell_type": "code",
   "execution_count": 78,
   "metadata": {},
   "outputs": [
    {
     "name": "stdout",
     "output_type": "stream",
     "text": [
      "1\n",
      "2\n",
      "3\n",
      "5\n",
      "6\n",
      "7\n",
      "9\n",
      "10\n"
     ]
    }
   ],
   "source": [
    "for i in range(1,11):\n",
    "    if i in (4,8):\n",
    "        continue\n",
    "    else:\n",
    "        print(i)"
   ]
  },
  {
   "cell_type": "code",
   "execution_count": null,
   "metadata": {},
   "outputs": [],
   "source": [
    "[문제24] 화면과 같이 출력하세요.(for 이용)\n",
    "\n",
    "가로의 숫자를 입력하세요 : 5\n",
    "세로의 숫자를 입력하세요 : 5\n",
    "★ ★ ★ ★ ★ \n",
    "★ ★ ★ ★ ★ \n",
    "★ ★ ★ ★ ★ \n",
    "★ ★ ★ ★ ★ \n",
    "★ ★ ★ ★ ★ "
   ]
  },
  {
   "cell_type": "code",
   "execution_count": 82,
   "metadata": {},
   "outputs": [
    {
     "name": "stdout",
     "output_type": "stream",
     "text": [
      "가로의 숫자를 입력하세요. : 2\n",
      "세로의 숫자를 입력하세요. : 7\n"
     ]
    }
   ],
   "source": [
    "x = int(input('가로의 숫자를 입력하세요. : '))\n",
    "y = int(input('세로의 숫자를 입력하세요. : '))"
   ]
  },
  {
   "cell_type": "code",
   "execution_count": 86,
   "metadata": {},
   "outputs": [
    {
     "name": "stdout",
     "output_type": "stream",
     "text": [
      "★★\n",
      "★★\n",
      "★★\n",
      "★★\n",
      "★★\n",
      "★★\n",
      "★★\n"
     ]
    }
   ],
   "source": [
    "for i in range(y):\n",
    "    print('★'*x)"
   ]
  },
  {
   "cell_type": "code",
   "execution_count": null,
   "metadata": {},
   "outputs": [],
   "source": [
    "[문제25] 구구단을 출력하세요.(for 이용)"
   ]
  },
  {
   "cell_type": "code",
   "execution_count": 88,
   "metadata": {},
   "outputs": [
    {
     "name": "stdout",
     "output_type": "stream",
     "text": [
      "\n",
      "2 단입니다.\n",
      "\n",
      "2 * 1 = 2 입니다.\n",
      "2 * 2 = 4 입니다.\n",
      "2 * 3 = 6 입니다.\n",
      "2 * 4 = 8 입니다.\n",
      "2 * 5 = 10 입니다.\n",
      "2 * 6 = 12 입니다.\n",
      "2 * 7 = 14 입니다.\n",
      "2 * 8 = 16 입니다.\n",
      "2 * 9 = 18 입니다.\n",
      "\n",
      "3 단입니다.\n",
      "\n",
      "3 * 1 = 3 입니다.\n",
      "3 * 2 = 6 입니다.\n",
      "3 * 3 = 9 입니다.\n",
      "3 * 4 = 12 입니다.\n",
      "3 * 5 = 15 입니다.\n",
      "3 * 6 = 18 입니다.\n",
      "3 * 7 = 21 입니다.\n",
      "3 * 8 = 24 입니다.\n",
      "3 * 9 = 27 입니다.\n",
      "\n",
      "4 단입니다.\n",
      "\n",
      "4 * 1 = 4 입니다.\n",
      "4 * 2 = 8 입니다.\n",
      "4 * 3 = 12 입니다.\n",
      "4 * 4 = 16 입니다.\n",
      "4 * 5 = 20 입니다.\n",
      "4 * 6 = 24 입니다.\n",
      "4 * 7 = 28 입니다.\n",
      "4 * 8 = 32 입니다.\n",
      "4 * 9 = 36 입니다.\n",
      "\n",
      "5 단입니다.\n",
      "\n",
      "5 * 1 = 5 입니다.\n",
      "5 * 2 = 10 입니다.\n",
      "5 * 3 = 15 입니다.\n",
      "5 * 4 = 20 입니다.\n",
      "5 * 5 = 25 입니다.\n",
      "5 * 6 = 30 입니다.\n",
      "5 * 7 = 35 입니다.\n",
      "5 * 8 = 40 입니다.\n",
      "5 * 9 = 45 입니다.\n",
      "\n",
      "6 단입니다.\n",
      "\n",
      "6 * 1 = 6 입니다.\n",
      "6 * 2 = 12 입니다.\n",
      "6 * 3 = 18 입니다.\n",
      "6 * 4 = 24 입니다.\n",
      "6 * 5 = 30 입니다.\n",
      "6 * 6 = 36 입니다.\n",
      "6 * 7 = 42 입니다.\n",
      "6 * 8 = 48 입니다.\n",
      "6 * 9 = 54 입니다.\n",
      "\n",
      "7 단입니다.\n",
      "\n",
      "7 * 1 = 7 입니다.\n",
      "7 * 2 = 14 입니다.\n",
      "7 * 3 = 21 입니다.\n",
      "7 * 4 = 28 입니다.\n",
      "7 * 5 = 35 입니다.\n",
      "7 * 6 = 42 입니다.\n",
      "7 * 7 = 49 입니다.\n",
      "7 * 8 = 56 입니다.\n",
      "7 * 9 = 63 입니다.\n",
      "\n",
      "8 단입니다.\n",
      "\n",
      "8 * 1 = 8 입니다.\n",
      "8 * 2 = 16 입니다.\n",
      "8 * 3 = 24 입니다.\n",
      "8 * 4 = 32 입니다.\n",
      "8 * 5 = 40 입니다.\n",
      "8 * 6 = 48 입니다.\n",
      "8 * 7 = 56 입니다.\n",
      "8 * 8 = 64 입니다.\n",
      "8 * 9 = 72 입니다.\n",
      "\n",
      "9 단입니다.\n",
      "\n",
      "9 * 1 = 9 입니다.\n",
      "9 * 2 = 18 입니다.\n",
      "9 * 3 = 27 입니다.\n",
      "9 * 4 = 36 입니다.\n",
      "9 * 5 = 45 입니다.\n",
      "9 * 6 = 54 입니다.\n",
      "9 * 7 = 63 입니다.\n",
      "9 * 8 = 72 입니다.\n",
      "9 * 9 = 81 입니다.\n"
     ]
    }
   ],
   "source": [
    "for i in range(2,10):\n",
    "    print('\\n%s 단입니다.\\n'%i)\n",
    "    for n in range(1,10):\n",
    "        print('%s * %s = %s 입니다.'%(i,n,i*n))"
   ]
  },
  {
   "cell_type": "code",
   "execution_count": null,
   "metadata": {},
   "outputs": [],
   "source": []
  }
 ],
 "metadata": {
  "kernelspec": {
   "display_name": "Python 3",
   "language": "python",
   "name": "python3"
  },
  "language_info": {
   "codemirror_mode": {
    "name": "ipython",
    "version": 3
   },
   "file_extension": ".py",
   "mimetype": "text/x-python",
   "name": "python",
   "nbconvert_exporter": "python",
   "pygments_lexer": "ipython3",
   "version": "3.7.3"
  }
 },
 "nbformat": 4,
 "nbformat_minor": 2
}
